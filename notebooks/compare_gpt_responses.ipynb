{
 "cells": [
  {
   "cell_type": "code",
   "execution_count": 2,
   "metadata": {},
   "outputs": [],
   "source": [
    "import matplotlib.pyplot as plt\n",
    "import numpy as np\n",
    "import pandas as pd\n",
    "import seaborn as sns\n",
    "\n",
    "from functools import partial\n",
    "from pyprojroot import here\n",
    "from scipy.stats import bootstrap\n",
    "\n",
    "%matplotlib inline"
   ]
  },
  {
   "cell_type": "code",
   "execution_count": 3,
   "metadata": {},
   "outputs": [],
   "source": [
    "df1 = pd.read_csv(here('data/aita_processed_gpt_run_1.csv'))\n",
    "df2 = pd.read_csv(here('data/aita_processed_gpt_run_2.csv'))\n",
    "df3 = pd.read_csv(here('data/aita_processed_gpt_run_3.csv'))"
   ]
  },
  {
   "cell_type": "code",
   "execution_count": 4,
   "metadata": {},
   "outputs": [],
   "source": [
    "comments = pd.read_csv(here('data/aita_comments_Aug17_labels_update_Aug31.csv'))"
   ]
  },
  {
   "cell_type": "code",
   "execution_count": 5,
   "metadata": {},
   "outputs": [],
   "source": [
    "df1['gpt_label'].replace({'INF': 'INFO'}, inplace=True)\n",
    "df2['gpt_label'].replace({'INF': 'INFO'}, inplace=True)\n",
    "df3['gpt_label'].replace({'INF': 'INFO'}, inplace=True)"
   ]
  },
  {
   "cell_type": "code",
   "execution_count": 6,
   "metadata": {},
   "outputs": [],
   "source": [
    "df_base = df1.rename({'gpt_label': 'gpt_label_1', 'gpt_reason': 'gpt_reason_1'}, axis=1).drop('gpt_dilemma', axis=1)"
   ]
  },
  {
   "cell_type": "code",
   "execution_count": 7,
   "metadata": {},
   "outputs": [],
   "source": [
    "df_base['gpt_label_2'] = df2['gpt_label']\n",
    "df_base['gpt_reason_2'] = df2['gpt_reason']\n",
    "df_base['gpt_label_3'] = df3['gpt_label']\n",
    "df_base['gpt_reason_3'] = df3['gpt_reason']"
   ]
  },
  {
   "cell_type": "code",
   "execution_count": null,
   "metadata": {},
   "outputs": [],
   "source": []
  },
  {
   "cell_type": "code",
   "execution_count": 8,
   "metadata": {},
   "outputs": [],
   "source": [
    "df_base['gpt_nta_agreement'] = (df_base[['gpt_label_1', 'gpt_label_2', 'gpt_label_3']] == 'NTA').mean(axis=1)"
   ]
  },
  {
   "cell_type": "code",
   "execution_count": 9,
   "metadata": {},
   "outputs": [],
   "source": [
    "comments_nta_agreement = comments.groupby('id').apply(lambda x: (x['comment_label'] == 'NTA').mean()).to_frame()"
   ]
  },
  {
   "cell_type": "code",
   "execution_count": 10,
   "metadata": {},
   "outputs": [],
   "source": [
    "comments_nta_agreement = comments_nta_agreement.reset_index().rename({0: 'comments_nta_agreement'}, axis=1)"
   ]
  },
  {
   "cell_type": "code",
   "execution_count": 11,
   "metadata": {},
   "outputs": [],
   "source": [
    "df_full = df_base.merge(\n",
    "    right=comments_nta_agreement,\n",
    "    left_on='submission_id',\n",
    "    right_on='id')"
   ]
  },
  {
   "cell_type": "code",
   "execution_count": 18,
   "metadata": {},
   "outputs": [
    {
     "data": {
      "text/plain": [
       "(0.0, 1.0)"
      ]
     },
     "execution_count": 18,
     "metadata": {},
     "output_type": "execute_result"
    },
    {
     "data": {
      "image/png": "[encoded data removed]",
      "text/plain": [
       "<Figure size 640x480 with 1 Axes>"
      ]
     },
     "metadata": {},
     "output_type": "display_data"
    }
   ],
   "source": [
    "df_full.groupby(['gpt_nta_agreement'])['comments_nta_agreement'].mean().plot(kind='bar')\n",
    "plt.gca().set_xticklabels(['0', '1/3', '2/3', '1'], rotation=0)\n",
    "plt.gca().set_xlabel('GPT Agreement')\n",
    "plt.gca().set_ylabel('Human Agreement')\n",
    "plt.gca().set_ylim([0, 1])"
   ]
  },
  {
   "cell_type": "code",
   "execution_count": 43,
   "metadata": {},
   "outputs": [],
   "source": [
    "ruff = comments.groupby('id').apply(lambda x: (x['comment_label'] == 'NTA').mean())"
   ]
  },
  {
   "cell_type": "code",
   "execution_count": 44,
   "metadata": {},
   "outputs": [
    {
     "data": {
      "text/plain": [
       "id\n",
       "10009do    0.653846\n",
       "1000cb3    0.255319\n",
       "1000em9    0.750000\n",
       "1000eye    0.620000\n",
       "1000hem    0.125000\n",
       "             ...   \n",
       "zzz41t     0.000000\n",
       "zzzhq4     0.000000\n",
       "zzzmo4     0.761905\n",
       "zzzo2z     0.888889\n",
       "zzzy11     0.272727\n",
       "Length: 12563, dtype: float64"
      ]
     },
     "execution_count": 44,
     "metadata": {},
     "output_type": "execute_result"
    }
   ],
   "source": [
    "ruff"
   ]
  },
  {
   "cell_type": "code",
   "execution_count": 42,
   "metadata": {},
   "outputs": [
    {
     "data": {
      "text/plain": [
       "0         YTA\n",
       "1         YTA\n",
       "2         YTA\n",
       "3         YTA\n",
       "4         YTA\n",
       "         ... \n",
       "531808    NaN\n",
       "531809    NaN\n",
       "531810    NTA\n",
       "531811    NaN\n",
       "531812    YTA\n",
       "Name: comment_label, Length: 531813, dtype: object"
      ]
     },
     "execution_count": 42,
     "metadata": {},
     "output_type": "execute_result"
    }
   ],
   "source": [
    "comments['comment_label']"
   ]
  },
  {
   "cell_type": "code",
   "execution_count": null,
   "metadata": {},
   "outputs": [],
   "source": []
  }
 ],
 "metadata": {
  "kernelspec": {
   "display_name": "Python 3 (ipykernel)",
   "language": "python",
   "name": "python3"
  },
  "language_info": {
   "codemirror_mode": {
    "name": "ipython",
    "version": 3
   },
   "file_extension": ".py",
   "mimetype": "text/x-python",
   "name": "python",
   "nbconvert_exporter": "python",
   "pygments_lexer": "ipython3",
   "version": "3.9.16"
  }
 },
 "nbformat": 4,
 "nbformat_minor": 4
}
