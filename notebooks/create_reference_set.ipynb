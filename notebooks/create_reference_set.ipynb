{
 "cells": [
  {
   "cell_type": "code",
   "execution_count": 1,
   "id": "c28d2dda-ea67-40b4-a594-70b509c9baad",
   "metadata": {},
   "outputs": [],
   "source": [
    "import pandas as pd\n",
    "import numpy as np"
   ]
  },
  {
   "cell_type": "code",
   "execution_count": 2,
   "id": "e3d8f293-358f-4275-a4c4-095a91b80e66",
   "metadata": {},
   "outputs": [],
   "source": [
    "df_raw = pd.read_csv(\"../data/aita_comments_Aug17_labels.csv\")"
   ]
  },
  {
   "cell_type": "code",
   "execution_count": 21,
   "id": "4e990923-3de6-4234-9893-4d7fa2259012",
   "metadata": {},
   "outputs": [],
   "source": [
    "df = df_raw[~df_raw['flair_text_y'].isna()]\\\n",
    "    .reset_index(drop=True)\\\n",
    "    .drop('flair_text_x', axis=1)\\\n",
    "    .rename({'flair_text_y': 'flair_text'}, axis=1)\n",
    "df = df[df['comment_author'] != 'Judgement_Bot_AITA'].reset_index(drop=True)\n",
    "df = df.rename({\n",
    "    'score_x': 'comment_score',\n",
    "    'score_y': 'submission_score'},\n",
    "    axis=1)\n",
    "df = df[df['comment'] != '[removed]']\n",
    "df = df[df['comment'] != '[deleted']\n",
    "df = df[~df['comment_label'].isna()]"
   ]
  },
  {
   "cell_type": "code",
   "execution_count": 4,
   "id": "4f52533e-e45d-4294-b768-58bafd2708f1",
   "metadata": {},
   "outputs": [
    {
     "data": {
      "text/plain": [
       "<AxesSubplot:>"
      ]
     },
     "execution_count": 4,
     "metadata": {},
     "output_type": "execute_result"
    },
    {
     "data": {
      "image/png": "[encoded data removed]",
      "text/plain": [
       "<Figure size 432x288 with 1 Axes>"
      ]
     },
     "metadata": {
      "needs_background": "light"
     },
     "output_type": "display_data"
    }
   ],
   "source": [
    "df.groupby('id')['comment_label'].agg(lambda x: (x == 'NTA').mean()).hist(density=True)"
   ]
  },
  {
   "cell_type": "code",
   "execution_count": 22,
   "id": "485823b6-2b0e-44e3-b338-309e40cc407d",
   "metadata": {},
   "outputs": [],
   "source": [
    "nta_prop = df.groupby('id')['comment_label'].agg(lambda x: (x == 'NTA').mean())\n",
    "nta_prop_middle = nta_prop[(nta_prop > 0) & (nta_prop < 1)]\n",
    "nta_0 = nta_prop[nta_prop == 0]\n",
    "nta_1 = nta_prop[nta_prop == 1]"
   ]
  },
  {
   "cell_type": "code",
   "execution_count": 23,
   "id": "e04bb938-1284-496e-9291-2144fd10772c",
   "metadata": {},
   "outputs": [],
   "source": [
    "bins = pd.qcut(\n",
    "    nta_prop_middle,\n",
    "    q=10,\n",
    "    labels=[f'decile_{i}' for i in range(10)])\\\n",
    "    .cat\\\n",
    "    .add_categories(['nta_zero', 'nta_one'])\\\n",
    "    .cat\\\n",
    "    .reorder_categories(['nta_zero']\n",
    "                        + [f'decile_{ii}' for ii in range(10)]\n",
    "                        + ['nta_one'])"
   ]
  },
  {
   "cell_type": "code",
   "execution_count": 24,
   "id": "c4dad392-d138-4767-821d-e9be66e8ddec",
   "metadata": {},
   "outputs": [],
   "source": [
    "df_binned = df.merge(right=bins.rename('bin'), how='left', on='id')\n",
    "df_binned.loc[df_binned['id'].isin(nta_0.index), 'bin'] = 'nta_zero'\n",
    "df_binned.loc[df_binned['id'].isin(nta_1.index), 'bin'] = 'nta_one'"
   ]
  },
  {
   "cell_type": "code",
   "execution_count": 25,
   "id": "bd6b8c3c-4697-46f9-be9a-f81e96baeed7",
   "metadata": {},
   "outputs": [],
   "source": [
    "posts_to_get = []\n",
    "comments = pd.DataFrame()\n",
    "\n",
    "for cat in bins.cat.categories:\n",
    "    sample = df_binned[df_binned['bin'] == cat]\n",
    "    post_idxs = sample.drop_duplicates('id').sort_values('submission_score', ascending=False)['id'].iloc[:10].values\n",
    "    posts_to_get.append(post_idxs)\n",
    "    \n",
    "    comments_sub = sample[sample['id'].isin(post_idxs)].sort_values('comment_score', ascending=False).copy()\n",
    "    comments = pd.concat((comments, comments_sub))\n",
    "\n",
    "posts_to_get = np.concatenate(posts_to_get)\n",
    "comments = comments.reset_index(drop=True)"
   ]
  },
  {
   "cell_type": "code",
   "execution_count": 48,
   "id": "bb0c0eaf-6d10-45ad-9024-fd5d770e5f69",
   "metadata": {},
   "outputs": [],
   "source": [
    "ruff = comments[comments['id'] == posts_to_get[50]]"
   ]
  },
  {
   "cell_type": "code",
   "execution_count": 49,
   "id": "0adb2d39-6fd0-45e8-bedc-99a2203ea011",
   "metadata": {},
   "outputs": [],
   "source": [
    "top = ruff['comment_label'].iloc[0]"
   ]
  },
  {
   "cell_type": "code",
   "execution_count": 52,
   "id": "ab3cdceb-9fbc-4591-8cf9-11466277cdf5",
   "metadata": {},
   "outputs": [
    {
     "data": {
      "text/html": [
       "<div>\n",
       "<style scoped>\n",
       "    .dataframe tbody tr th:only-of-type {\n",
       "        vertical-align: middle;\n",
       "    }\n",
       "\n",
       "    .dataframe tbody tr th {\n",
       "        vertical-align: top;\n",
       "    }\n",
       "\n",
       "    .dataframe thead th {\n",
       "        text-align: right;\n",
       "    }\n",
       "</style>\n",
       "<table border=\"1\" class=\"dataframe\">\n",
       "  <thead>\n",
       "    <tr style=\"text-align: right;\">\n",
       "      <th></th>\n",
       "      <th>id</th>\n",
       "      <th>comment</th>\n",
       "      <th>comment_score</th>\n",
       "      <th>comment_author</th>\n",
       "      <th>comment_time</th>\n",
       "      <th>comment_parent_id</th>\n",
       "      <th>comment_depth</th>\n",
       "      <th>comment_permalink</th>\n",
       "      <th>author_comment_karma</th>\n",
       "      <th>author_link_karma</th>\n",
       "      <th>...</th>\n",
       "      <th>care_sent</th>\n",
       "      <th>fairness_sent</th>\n",
       "      <th>loyalty_sent</th>\n",
       "      <th>authority_sent</th>\n",
       "      <th>sanctity_sent</th>\n",
       "      <th>moral_nonmoral_ratio</th>\n",
       "      <th>f_var</th>\n",
       "      <th>sent_var</th>\n",
       "      <th>comment_label</th>\n",
       "      <th>bin</th>\n",
       "    </tr>\n",
       "  </thead>\n",
       "  <tbody>\n",
       "    <tr>\n",
       "      <th>2246</th>\n",
       "      <td>z85fyo</td>\n",
       "      <td>NTA  \\nWhat kind of person prioritizes, let al...</td>\n",
       "      <td>35478</td>\n",
       "      <td>Risheil</td>\n",
       "      <td>2022-11-29 20:46:44</td>\n",
       "      <td>t3_z85fyo</td>\n",
       "      <td>0</td>\n",
       "      <td>https://reddit.com/r/AmItheAsshole/comments/z8...</td>\n",
       "      <td>46400.0</td>\n",
       "      <td>859.0</td>\n",
       "      <td>...</td>\n",
       "      <td>-0.072188</td>\n",
       "      <td>-0.025548</td>\n",
       "      <td>0.030049</td>\n",
       "      <td>0.001944</td>\n",
       "      <td>-0.067598</td>\n",
       "      <td>2.171429</td>\n",
       "      <td>0.000117</td>\n",
       "      <td>0.001946</td>\n",
       "      <td>NTA</td>\n",
       "      <td>decile_4</td>\n",
       "    </tr>\n",
       "  </tbody>\n",
       "</table>\n",
       "<p>1 rows × 37 columns</p>\n",
       "</div>"
      ],
      "text/plain": [
       "          id                                            comment  \\\n",
       "2246  z85fyo  NTA  \\nWhat kind of person prioritizes, let al...   \n",
       "\n",
       "      comment_score comment_author         comment_time comment_parent_id  \\\n",
       "2246          35478        Risheil  2022-11-29 20:46:44         t3_z85fyo   \n",
       "\n",
       "      comment_depth                                  comment_permalink  \\\n",
       "2246              0  https://reddit.com/r/AmItheAsshole/comments/z8...   \n",
       "\n",
       "      author_comment_karma  author_link_karma  ... care_sent fairness_sent  \\\n",
       "2246               46400.0              859.0  ... -0.072188     -0.025548   \n",
       "\n",
       "     loyalty_sent authority_sent sanctity_sent  moral_nonmoral_ratio  \\\n",
       "2246     0.030049       0.001944     -0.067598              2.171429   \n",
       "\n",
       "         f_var  sent_var comment_label       bin  \n",
       "2246  0.000117  0.001946           NTA  decile_4  \n",
       "\n",
       "[1 rows x 37 columns]"
      ]
     },
     "execution_count": 52,
     "metadata": {},
     "output_type": "execute_result"
    }
   ],
   "source": [
    "ruff[:1]"
   ]
  },
  {
   "cell_type": "code",
   "execution_count": 53,
   "id": "23673fc5-1402-4957-87c0-8af3faf09a41",
   "metadata": {},
   "outputs": [],
   "source": [
    "alternates = []\n",
    "final_df = pd.DataFrame()\n",
    "\n",
    "for post in posts_to_get:\n",
    "    sub_df = comments[comments['id'] == post].sort_values('comment_score', ascending=False)\n",
    "    base_label = sub_df.iloc[0]['comment_label']\n",
    "    disagrees = sub_df[sub_df['comment_label'] != base_label]\n",
    "    if disagrees.size == 0:\n",
    "        alternates.append(sub_df.iloc[1]['comment'])\n",
    "    else:\n",
    "        alternates.append(disagrees.iloc[0]['comment'])\n",
    "\n",
    "    final_df = pd.concat((final_df, sub_df[:1]))"
   ]
  },
  {
   "cell_type": "code",
   "execution_count": 55,
   "id": "f365aef5-1be7-4883-81df-d7d871c5efb6",
   "metadata": {},
   "outputs": [],
   "source": [
    "final_df['alternate_comment'] = alternates"
   ]
  },
  {
   "cell_type": "code",
   "execution_count": 72,
   "id": "d74b4c34-9181-4405-a4f6-a502ac2d47d4",
   "metadata": {},
   "outputs": [
    {
     "name": "stdout",
     "output_type": "stream",
     "text": [
      "To get this out of the way: I'm a flatchested girl. I suffered from health issues and growth problems so I'm small but I'm proud of myself.\n",
      "\n",
      "\n",
      "My fiance and I went over to his parents house for his niece's birthday. I wore a sweetheart shape dress and my sil (Mel) who always comments on my chest, saw the dress and went like \"this dress needs boobs, you ain't got any\". I ignored her but then at dinner she asked if I was planning on getting a plastic surgery before the wedding so that I don't \"ruin\" the wedding dress. I found this offensive especially when others were watching. I said nothing but when we were sitting in the living room later, Mel suddenly started wiping her nose and trying to clear it (it's stuffed due to cold apparently). She has a large nose so I smiled and asked \"do you need help with that? I could get the plunger for you.\". She was stunned and the room got awkward after her husband was laughing. She was fuming and told my fiance that I stepped out of line and ruined her daughter's birthday with my words that humiliated her. My fiance said I shouldn't have caused a scene after his parents told us to leave. I explained how her comments made me feel but he said she said it was out of concern but my comment was out of hate.\n",
      "\n",
      "\n",
      "Now she's exoecting an apology. Did I go too far here?\n"
     ]
    }
   ],
   "source": [
    "print(final_df.iloc[61]['selftext'])"
   ]
  },
  {
   "cell_type": "code",
   "execution_count": 74,
   "id": "77a83da4-1a9d-43a1-aea0-7473fbf73c54",
   "metadata": {},
   "outputs": [
    {
     "name": "stdout",
     "output_type": "stream",
     "text": [
      "I’m sorry what? Her comments about your flat chest are out of “concern”? That is an impossibly stupid defense. You are NTA, and also hilarious.\n"
     ]
    }
   ],
   "source": [
    "print(final_df.iloc[61]['top_comment'])"
   ]
  },
  {
   "cell_type": "code",
   "execution_count": 75,
   "id": "a553c6a7-a050-4186-a57f-cd992fd5d7ab",
   "metadata": {},
   "outputs": [
    {
     "name": "stdout",
     "output_type": "stream",
     "text": [
      "A bit of an ESH, you WERE actively escalating.  \n",
      "\n",
      "\n",
      "But tell me: his sister bullies you. In front of your fiancee. And his family. NO ONE DOES A THING.   \n",
      "And then you're told it was \"out of concern\".  \n",
      "Are you ABSOLUTELY SURE you want to marry into this family?\n"
     ]
    }
   ],
   "source": [
    "print(final_df.iloc[61]['alternate_comment'])"
   ]
  },
  {
   "cell_type": "code",
   "execution_count": 81,
   "id": "6f8a0d78-c353-46d4-b7ff-faa3b881c3b7",
   "metadata": {},
   "outputs": [
    {
     "data": {
      "text/plain": [
       "'ESH'"
      ]
     },
     "execution_count": 81,
     "metadata": {},
     "output_type": "execute_result"
    }
   ],
   "source": [
    "final_df.iloc[61]['gpt_label']"
   ]
  },
  {
   "cell_type": "code",
   "execution_count": 79,
   "id": "67ccd722-4fef-4bb0-93b5-82795884dd51",
   "metadata": {},
   "outputs": [
    {
     "data": {
      "text/plain": [
       "\"Both the OP and the sister-in-law made hurtful comments towards each other. While the sister-in-law's comments were clearly offensive and inappropriate, the OP's retaliatory comment was also mean-spirited. Both parties should take responsibility for their hurtful words and apologize to each other.\""
      ]
     },
     "execution_count": 79,
     "metadata": {},
     "output_type": "execute_result"
    }
   ],
   "source": [
    "final_df.iloc[61]['gpt_reason']"
   ]
  },
  {
   "cell_type": "code",
   "execution_count": 82,
   "id": "d20d75bf-1e41-4cd7-a978-84230408ec8a",
   "metadata": {},
   "outputs": [
    {
     "data": {
      "text/plain": [
       "Index(['id', 'comment', 'comment_score', 'comment_author', 'comment_time',\n",
       "       'comment_parent_id', 'comment_depth', 'comment_permalink',\n",
       "       'author_comment_karma', 'author_link_karma', 'submission_id', 'title',\n",
       "       'selftext', 'created_utc', 'permalink', 'submission_score',\n",
       "       'flair_text', 'top_comment', 'true_label', 'gpt_dilemma', 'gpt_label',\n",
       "       'gpt_reason', 'care_p', 'fairness_p', 'loyalty_p', 'authority_p',\n",
       "       'sanctity_p', 'care_sent', 'fairness_sent', 'loyalty_sent',\n",
       "       'authority_sent', 'sanctity_sent', 'moral_nonmoral_ratio', 'f_var',\n",
       "       'sent_var', 'comment_label', 'bin', 'alternate_comment'],\n",
       "      dtype='object')"
      ]
     },
     "execution_count": 82,
     "metadata": {},
     "output_type": "execute_result"
    }
   ],
   "source": [
    "final_df.columns"
   ]
  },
  {
   "cell_type": "code",
   "execution_count": 83,
   "id": "ba248f1f-1a8d-48c6-bd1a-5c901b0e0d11",
   "metadata": {},
   "outputs": [],
   "source": [
    "final_df.to_csv('reference_set_full.csv', index=False)"
   ]
  },
  {
   "cell_type": "code",
   "execution_count": 85,
   "id": "bd53fbc4-493a-4b22-8ecd-9fb1c55737fe",
   "metadata": {},
   "outputs": [],
   "source": [
    "final_df[[\n",
    "    'title',\n",
    "    'selftext',\n",
    "    'bin',\n",
    "    'true_label',\n",
    "    'top_comment',\n",
    "    'alternate_comment',\n",
    "    'gpt_label',\n",
    "    'gpt_reason']].to_csv('reference_set.csv', index=False)"
   ]
  },
  {
   "cell_type": "code",
   "execution_count": null,
   "id": "8947d045-4b06-4cd1-b587-bee8483bc8b9",
   "metadata": {},
   "outputs": [],
   "source": []
  }
 ],
 "metadata": {
  "kernelspec": {
   "display_name": "nlp",
   "language": "python",
   "name": "nlp"
  },
  "language_info": {
   "codemirror_mode": {
    "name": "ipython",
    "version": 3
   },
   "file_extension": ".py",
   "mimetype": "text/x-python",
   "name": "python",
   "nbconvert_exporter": "python",
   "pygments_lexer": "ipython3",
   "version": "3.9.16"
  }
 },
 "nbformat": 4,
 "nbformat_minor": 5
}
