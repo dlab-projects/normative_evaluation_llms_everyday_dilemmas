{
 "cells": [
  {
   "cell_type": "code",
   "execution_count": 1,
   "id": "61f161da-eba1-49e1-9dd6-68202ff8e644",
   "metadata": {
    "tags": []
   },
   "outputs": [
    {
     "data": {
      "text/html": [
       "<div>\n",
       "<style scoped>\n",
       "    .dataframe tbody tr th:only-of-type {\n",
       "        vertical-align: middle;\n",
       "    }\n",
       "\n",
       "    .dataframe tbody tr th {\n",
       "        vertical-align: top;\n",
       "    }\n",
       "\n",
       "    .dataframe thead th {\n",
       "        text-align: right;\n",
       "    }\n",
       "</style>\n",
       "<table border=\"1\" class=\"dataframe\">\n",
       "  <thead>\n",
       "    <tr style=\"text-align: right;\">\n",
       "      <th></th>\n",
       "      <th>id</th>\n",
       "      <th>flair_text</th>\n",
       "      <th>comment</th>\n",
       "      <th>score</th>\n",
       "      <th>comment_author</th>\n",
       "      <th>comment_time</th>\n",
       "      <th>comment_parent_id</th>\n",
       "      <th>comment_depth</th>\n",
       "      <th>comment_permalink</th>\n",
       "      <th>author_comment_karma</th>\n",
       "      <th>author_link_karma</th>\n",
       "    </tr>\n",
       "  </thead>\n",
       "  <tbody>\n",
       "    <tr>\n",
       "      <th>0</th>\n",
       "      <td>xt1ksm</td>\n",
       "      <td>Open Forum</td>\n",
       "      <td>Do people with two digits to their age really ...</td>\n",
       "      <td>58</td>\n",
       "      <td>HellaShelle</td>\n",
       "      <td>2022-10-10 17:02:14</td>\n",
       "      <td>t3_xt1ksm</td>\n",
       "      <td>0</td>\n",
       "      <td>https://reddit.com/r/AmItheAsshole/comments/xt...</td>\n",
       "      <td>96466.0</td>\n",
       "      <td>1476.0</td>\n",
       "    </tr>\n",
       "    <tr>\n",
       "      <th>1</th>\n",
       "      <td>xt1ksm</td>\n",
       "      <td>Open Forum</td>\n",
       "      <td>Lots of posts in the last 3-4 days about rando...</td>\n",
       "      <td>53</td>\n",
       "      <td>GodspeedandGoodnight</td>\n",
       "      <td>2022-10-15 06:01:00</td>\n",
       "      <td>t3_xt1ksm</td>\n",
       "      <td>0</td>\n",
       "      <td>https://reddit.com/r/AmItheAsshole/comments/xt...</td>\n",
       "      <td>259332.0</td>\n",
       "      <td>5784.0</td>\n",
       "    </tr>\n",
       "    <tr>\n",
       "      <th>2</th>\n",
       "      <td>xt1ksm</td>\n",
       "      <td>Open Forum</td>\n",
       "      <td>Sometimes I think people are making up stories...</td>\n",
       "      <td>42</td>\n",
       "      <td>MrBleah</td>\n",
       "      <td>2022-10-11 22:58:48</td>\n",
       "      <td>t3_xt1ksm</td>\n",
       "      <td>0</td>\n",
       "      <td>https://reddit.com/r/AmItheAsshole/comments/xt...</td>\n",
       "      <td>115770.0</td>\n",
       "      <td>57836.0</td>\n",
       "    </tr>\n",
       "    <tr>\n",
       "      <th>3</th>\n",
       "      <td>xt1ksm</td>\n",
       "      <td>Open Forum</td>\n",
       "      <td>There’s not really anything the mods can do bu...</td>\n",
       "      <td>76</td>\n",
       "      <td>deleted</td>\n",
       "      <td>2022-10-03 03:58:00</td>\n",
       "      <td>t3_xt1ksm</td>\n",
       "      <td>0</td>\n",
       "      <td>https://reddit.com/r/AmItheAsshole/comments/xt...</td>\n",
       "      <td>NaN</td>\n",
       "      <td>NaN</td>\n",
       "    </tr>\n",
       "    <tr>\n",
       "      <th>4</th>\n",
       "      <td>xt1ksm</td>\n",
       "      <td>Open Forum</td>\n",
       "      <td>Saw it on FB but it's hilarious how threads wi...</td>\n",
       "      <td>35</td>\n",
       "      <td>RokkakuPolice</td>\n",
       "      <td>2022-10-13 00:59:20</td>\n",
       "      <td>t3_xt1ksm</td>\n",
       "      <td>0</td>\n",
       "      <td>https://reddit.com/r/AmItheAsshole/comments/xt...</td>\n",
       "      <td>15028.0</td>\n",
       "      <td>107.0</td>\n",
       "    </tr>\n",
       "  </tbody>\n",
       "</table>\n",
       "</div>"
      ],
      "text/plain": [
       "       id  flair_text                                            comment  \\\n",
       "0  xt1ksm  Open Forum  Do people with two digits to their age really ...   \n",
       "1  xt1ksm  Open Forum  Lots of posts in the last 3-4 days about rando...   \n",
       "2  xt1ksm  Open Forum  Sometimes I think people are making up stories...   \n",
       "3  xt1ksm  Open Forum  There’s not really anything the mods can do bu...   \n",
       "4  xt1ksm  Open Forum  Saw it on FB but it's hilarious how threads wi...   \n",
       "\n",
       "   score        comment_author         comment_time comment_parent_id  \\\n",
       "0     58           HellaShelle  2022-10-10 17:02:14         t3_xt1ksm   \n",
       "1     53  GodspeedandGoodnight  2022-10-15 06:01:00         t3_xt1ksm   \n",
       "2     42               MrBleah  2022-10-11 22:58:48         t3_xt1ksm   \n",
       "3     76               deleted  2022-10-03 03:58:00         t3_xt1ksm   \n",
       "4     35         RokkakuPolice  2022-10-13 00:59:20         t3_xt1ksm   \n",
       "\n",
       "   comment_depth                                  comment_permalink  \\\n",
       "0              0  https://reddit.com/r/AmItheAsshole/comments/xt...   \n",
       "1              0  https://reddit.com/r/AmItheAsshole/comments/xt...   \n",
       "2              0  https://reddit.com/r/AmItheAsshole/comments/xt...   \n",
       "3              0  https://reddit.com/r/AmItheAsshole/comments/xt...   \n",
       "4              0  https://reddit.com/r/AmItheAsshole/comments/xt...   \n",
       "\n",
       "   author_comment_karma  author_link_karma  \n",
       "0               96466.0             1476.0  \n",
       "1              259332.0             5784.0  \n",
       "2              115770.0            57836.0  \n",
       "3                   NaN                NaN  \n",
       "4               15028.0              107.0  "
      ]
     },
     "execution_count": 1,
     "metadata": {},
     "output_type": "execute_result"
    }
   ],
   "source": [
    "import pandas as pd\n",
    "from moral_foundations_llms.utils import label_comment\n",
    "\n",
    "comments = pd.read_csv(\"../data/aita_comments_Aug17.csv\")\n",
    "comments.head()\n"
   ]
  },
  {
   "cell_type": "code",
   "execution_count": 2,
   "id": "82cc6f10-1e4d-40f8-8f2e-2691c4df2722",
   "metadata": {
    "tags": []
   },
   "outputs": [
    {
     "ename": "FileNotFoundError",
     "evalue": "[Errno 2] No such file or directory: '../data/aita_w_gpt_w_mfd.csv'",
     "output_type": "error",
     "traceback": [
      "\u001b[0;31m---------------------------------------------------------------------------\u001b[0m",
      "\u001b[0;31mFileNotFoundError\u001b[0m                         Traceback (most recent call last)",
      "Input \u001b[0;32mIn [2]\u001b[0m, in \u001b[0;36m<cell line: 1>\u001b[0;34m()\u001b[0m\n\u001b[0;32m----> 1\u001b[0m subs \u001b[38;5;241m=\u001b[39m \u001b[43mpd\u001b[49m\u001b[38;5;241;43m.\u001b[39;49m\u001b[43mread_csv\u001b[49m\u001b[43m(\u001b[49m\u001b[38;5;124;43m\"\u001b[39;49m\u001b[38;5;124;43m../data/aita_w_gpt_w_mfd.csv\u001b[39;49m\u001b[38;5;124;43m\"\u001b[39;49m\u001b[43m)\u001b[49m\n\u001b[1;32m      2\u001b[0m subs\u001b[38;5;241m.\u001b[39mhead()\n",
      "File \u001b[0;32m/opt/homebrew/Caskroom/miniforge/base/envs/nlp/lib/python3.9/site-packages/pandas/util/_decorators.py:211\u001b[0m, in \u001b[0;36mdeprecate_kwarg.<locals>._deprecate_kwarg.<locals>.wrapper\u001b[0;34m(*args, **kwargs)\u001b[0m\n\u001b[1;32m    209\u001b[0m     \u001b[38;5;28;01melse\u001b[39;00m:\n\u001b[1;32m    210\u001b[0m         kwargs[new_arg_name] \u001b[38;5;241m=\u001b[39m new_arg_value\n\u001b[0;32m--> 211\u001b[0m \u001b[38;5;28;01mreturn\u001b[39;00m \u001b[43mfunc\u001b[49m\u001b[43m(\u001b[49m\u001b[38;5;241;43m*\u001b[39;49m\u001b[43margs\u001b[49m\u001b[43m,\u001b[49m\u001b[43m \u001b[49m\u001b[38;5;241;43m*\u001b[39;49m\u001b[38;5;241;43m*\u001b[39;49m\u001b[43mkwargs\u001b[49m\u001b[43m)\u001b[49m\n",
      "File \u001b[0;32m/opt/homebrew/Caskroom/miniforge/base/envs/nlp/lib/python3.9/site-packages/pandas/util/_decorators.py:317\u001b[0m, in \u001b[0;36mdeprecate_nonkeyword_arguments.<locals>.decorate.<locals>.wrapper\u001b[0;34m(*args, **kwargs)\u001b[0m\n\u001b[1;32m    311\u001b[0m \u001b[38;5;28;01mif\u001b[39;00m \u001b[38;5;28mlen\u001b[39m(args) \u001b[38;5;241m>\u001b[39m num_allow_args:\n\u001b[1;32m    312\u001b[0m     warnings\u001b[38;5;241m.\u001b[39mwarn(\n\u001b[1;32m    313\u001b[0m         msg\u001b[38;5;241m.\u001b[39mformat(arguments\u001b[38;5;241m=\u001b[39marguments),\n\u001b[1;32m    314\u001b[0m         \u001b[38;5;167;01mFutureWarning\u001b[39;00m,\n\u001b[1;32m    315\u001b[0m         stacklevel\u001b[38;5;241m=\u001b[39mfind_stack_level(inspect\u001b[38;5;241m.\u001b[39mcurrentframe()),\n\u001b[1;32m    316\u001b[0m     )\n\u001b[0;32m--> 317\u001b[0m \u001b[38;5;28;01mreturn\u001b[39;00m \u001b[43mfunc\u001b[49m\u001b[43m(\u001b[49m\u001b[38;5;241;43m*\u001b[39;49m\u001b[43margs\u001b[49m\u001b[43m,\u001b[49m\u001b[43m \u001b[49m\u001b[38;5;241;43m*\u001b[39;49m\u001b[38;5;241;43m*\u001b[39;49m\u001b[43mkwargs\u001b[49m\u001b[43m)\u001b[49m\n",
      "File \u001b[0;32m/opt/homebrew/Caskroom/miniforge/base/envs/nlp/lib/python3.9/site-packages/pandas/io/parsers/readers.py:950\u001b[0m, in \u001b[0;36mread_csv\u001b[0;34m(filepath_or_buffer, sep, delimiter, header, names, index_col, usecols, squeeze, prefix, mangle_dupe_cols, dtype, engine, converters, true_values, false_values, skipinitialspace, skiprows, skipfooter, nrows, na_values, keep_default_na, na_filter, verbose, skip_blank_lines, parse_dates, infer_datetime_format, keep_date_col, date_parser, dayfirst, cache_dates, iterator, chunksize, compression, thousands, decimal, lineterminator, quotechar, quoting, doublequote, escapechar, comment, encoding, encoding_errors, dialect, error_bad_lines, warn_bad_lines, on_bad_lines, delim_whitespace, low_memory, memory_map, float_precision, storage_options)\u001b[0m\n\u001b[1;32m    935\u001b[0m kwds_defaults \u001b[38;5;241m=\u001b[39m _refine_defaults_read(\n\u001b[1;32m    936\u001b[0m     dialect,\n\u001b[1;32m    937\u001b[0m     delimiter,\n\u001b[0;32m   (...)\u001b[0m\n\u001b[1;32m    946\u001b[0m     defaults\u001b[38;5;241m=\u001b[39m{\u001b[38;5;124m\"\u001b[39m\u001b[38;5;124mdelimiter\u001b[39m\u001b[38;5;124m\"\u001b[39m: \u001b[38;5;124m\"\u001b[39m\u001b[38;5;124m,\u001b[39m\u001b[38;5;124m\"\u001b[39m},\n\u001b[1;32m    947\u001b[0m )\n\u001b[1;32m    948\u001b[0m kwds\u001b[38;5;241m.\u001b[39mupdate(kwds_defaults)\n\u001b[0;32m--> 950\u001b[0m \u001b[38;5;28;01mreturn\u001b[39;00m \u001b[43m_read\u001b[49m\u001b[43m(\u001b[49m\u001b[43mfilepath_or_buffer\u001b[49m\u001b[43m,\u001b[49m\u001b[43m \u001b[49m\u001b[43mkwds\u001b[49m\u001b[43m)\u001b[49m\n",
      "File \u001b[0;32m/opt/homebrew/Caskroom/miniforge/base/envs/nlp/lib/python3.9/site-packages/pandas/io/parsers/readers.py:605\u001b[0m, in \u001b[0;36m_read\u001b[0;34m(filepath_or_buffer, kwds)\u001b[0m\n\u001b[1;32m    602\u001b[0m _validate_names(kwds\u001b[38;5;241m.\u001b[39mget(\u001b[38;5;124m\"\u001b[39m\u001b[38;5;124mnames\u001b[39m\u001b[38;5;124m\"\u001b[39m, \u001b[38;5;28;01mNone\u001b[39;00m))\n\u001b[1;32m    604\u001b[0m \u001b[38;5;66;03m# Create the parser.\u001b[39;00m\n\u001b[0;32m--> 605\u001b[0m parser \u001b[38;5;241m=\u001b[39m \u001b[43mTextFileReader\u001b[49m\u001b[43m(\u001b[49m\u001b[43mfilepath_or_buffer\u001b[49m\u001b[43m,\u001b[49m\u001b[43m \u001b[49m\u001b[38;5;241;43m*\u001b[39;49m\u001b[38;5;241;43m*\u001b[39;49m\u001b[43mkwds\u001b[49m\u001b[43m)\u001b[49m\n\u001b[1;32m    607\u001b[0m \u001b[38;5;28;01mif\u001b[39;00m chunksize \u001b[38;5;129;01mor\u001b[39;00m iterator:\n\u001b[1;32m    608\u001b[0m     \u001b[38;5;28;01mreturn\u001b[39;00m parser\n",
      "File \u001b[0;32m/opt/homebrew/Caskroom/miniforge/base/envs/nlp/lib/python3.9/site-packages/pandas/io/parsers/readers.py:1442\u001b[0m, in \u001b[0;36mTextFileReader.__init__\u001b[0;34m(self, f, engine, **kwds)\u001b[0m\n\u001b[1;32m   1439\u001b[0m     \u001b[38;5;28mself\u001b[39m\u001b[38;5;241m.\u001b[39moptions[\u001b[38;5;124m\"\u001b[39m\u001b[38;5;124mhas_index_names\u001b[39m\u001b[38;5;124m\"\u001b[39m] \u001b[38;5;241m=\u001b[39m kwds[\u001b[38;5;124m\"\u001b[39m\u001b[38;5;124mhas_index_names\u001b[39m\u001b[38;5;124m\"\u001b[39m]\n\u001b[1;32m   1441\u001b[0m \u001b[38;5;28mself\u001b[39m\u001b[38;5;241m.\u001b[39mhandles: IOHandles \u001b[38;5;241m|\u001b[39m \u001b[38;5;28;01mNone\u001b[39;00m \u001b[38;5;241m=\u001b[39m \u001b[38;5;28;01mNone\u001b[39;00m\n\u001b[0;32m-> 1442\u001b[0m \u001b[38;5;28mself\u001b[39m\u001b[38;5;241m.\u001b[39m_engine \u001b[38;5;241m=\u001b[39m \u001b[38;5;28;43mself\u001b[39;49m\u001b[38;5;241;43m.\u001b[39;49m\u001b[43m_make_engine\u001b[49m\u001b[43m(\u001b[49m\u001b[43mf\u001b[49m\u001b[43m,\u001b[49m\u001b[43m \u001b[49m\u001b[38;5;28;43mself\u001b[39;49m\u001b[38;5;241;43m.\u001b[39;49m\u001b[43mengine\u001b[49m\u001b[43m)\u001b[49m\n",
      "File \u001b[0;32m/opt/homebrew/Caskroom/miniforge/base/envs/nlp/lib/python3.9/site-packages/pandas/io/parsers/readers.py:1729\u001b[0m, in \u001b[0;36mTextFileReader._make_engine\u001b[0;34m(self, f, engine)\u001b[0m\n\u001b[1;32m   1727\u001b[0m     is_text \u001b[38;5;241m=\u001b[39m \u001b[38;5;28;01mFalse\u001b[39;00m\n\u001b[1;32m   1728\u001b[0m     mode \u001b[38;5;241m=\u001b[39m \u001b[38;5;124m\"\u001b[39m\u001b[38;5;124mrb\u001b[39m\u001b[38;5;124m\"\u001b[39m\n\u001b[0;32m-> 1729\u001b[0m \u001b[38;5;28mself\u001b[39m\u001b[38;5;241m.\u001b[39mhandles \u001b[38;5;241m=\u001b[39m \u001b[43mget_handle\u001b[49m\u001b[43m(\u001b[49m\n\u001b[1;32m   1730\u001b[0m \u001b[43m    \u001b[49m\u001b[43mf\u001b[49m\u001b[43m,\u001b[49m\n\u001b[1;32m   1731\u001b[0m \u001b[43m    \u001b[49m\u001b[43mmode\u001b[49m\u001b[43m,\u001b[49m\n\u001b[1;32m   1732\u001b[0m \u001b[43m    \u001b[49m\u001b[43mencoding\u001b[49m\u001b[38;5;241;43m=\u001b[39;49m\u001b[38;5;28;43mself\u001b[39;49m\u001b[38;5;241;43m.\u001b[39;49m\u001b[43moptions\u001b[49m\u001b[38;5;241;43m.\u001b[39;49m\u001b[43mget\u001b[49m\u001b[43m(\u001b[49m\u001b[38;5;124;43m\"\u001b[39;49m\u001b[38;5;124;43mencoding\u001b[39;49m\u001b[38;5;124;43m\"\u001b[39;49m\u001b[43m,\u001b[49m\u001b[43m \u001b[49m\u001b[38;5;28;43;01mNone\u001b[39;49;00m\u001b[43m)\u001b[49m\u001b[43m,\u001b[49m\n\u001b[1;32m   1733\u001b[0m \u001b[43m    \u001b[49m\u001b[43mcompression\u001b[49m\u001b[38;5;241;43m=\u001b[39;49m\u001b[38;5;28;43mself\u001b[39;49m\u001b[38;5;241;43m.\u001b[39;49m\u001b[43moptions\u001b[49m\u001b[38;5;241;43m.\u001b[39;49m\u001b[43mget\u001b[49m\u001b[43m(\u001b[49m\u001b[38;5;124;43m\"\u001b[39;49m\u001b[38;5;124;43mcompression\u001b[39;49m\u001b[38;5;124;43m\"\u001b[39;49m\u001b[43m,\u001b[49m\u001b[43m \u001b[49m\u001b[38;5;28;43;01mNone\u001b[39;49;00m\u001b[43m)\u001b[49m\u001b[43m,\u001b[49m\n\u001b[1;32m   1734\u001b[0m \u001b[43m    \u001b[49m\u001b[43mmemory_map\u001b[49m\u001b[38;5;241;43m=\u001b[39;49m\u001b[38;5;28;43mself\u001b[39;49m\u001b[38;5;241;43m.\u001b[39;49m\u001b[43moptions\u001b[49m\u001b[38;5;241;43m.\u001b[39;49m\u001b[43mget\u001b[49m\u001b[43m(\u001b[49m\u001b[38;5;124;43m\"\u001b[39;49m\u001b[38;5;124;43mmemory_map\u001b[39;49m\u001b[38;5;124;43m\"\u001b[39;49m\u001b[43m,\u001b[49m\u001b[43m \u001b[49m\u001b[38;5;28;43;01mFalse\u001b[39;49;00m\u001b[43m)\u001b[49m\u001b[43m,\u001b[49m\n\u001b[1;32m   1735\u001b[0m \u001b[43m    \u001b[49m\u001b[43mis_text\u001b[49m\u001b[38;5;241;43m=\u001b[39;49m\u001b[43mis_text\u001b[49m\u001b[43m,\u001b[49m\n\u001b[1;32m   1736\u001b[0m \u001b[43m    \u001b[49m\u001b[43merrors\u001b[49m\u001b[38;5;241;43m=\u001b[39;49m\u001b[38;5;28;43mself\u001b[39;49m\u001b[38;5;241;43m.\u001b[39;49m\u001b[43moptions\u001b[49m\u001b[38;5;241;43m.\u001b[39;49m\u001b[43mget\u001b[49m\u001b[43m(\u001b[49m\u001b[38;5;124;43m\"\u001b[39;49m\u001b[38;5;124;43mencoding_errors\u001b[39;49m\u001b[38;5;124;43m\"\u001b[39;49m\u001b[43m,\u001b[49m\u001b[43m \u001b[49m\u001b[38;5;124;43m\"\u001b[39;49m\u001b[38;5;124;43mstrict\u001b[39;49m\u001b[38;5;124;43m\"\u001b[39;49m\u001b[43m)\u001b[49m\u001b[43m,\u001b[49m\n\u001b[1;32m   1737\u001b[0m \u001b[43m    \u001b[49m\u001b[43mstorage_options\u001b[49m\u001b[38;5;241;43m=\u001b[39;49m\u001b[38;5;28;43mself\u001b[39;49m\u001b[38;5;241;43m.\u001b[39;49m\u001b[43moptions\u001b[49m\u001b[38;5;241;43m.\u001b[39;49m\u001b[43mget\u001b[49m\u001b[43m(\u001b[49m\u001b[38;5;124;43m\"\u001b[39;49m\u001b[38;5;124;43mstorage_options\u001b[39;49m\u001b[38;5;124;43m\"\u001b[39;49m\u001b[43m,\u001b[49m\u001b[43m \u001b[49m\u001b[38;5;28;43;01mNone\u001b[39;49;00m\u001b[43m)\u001b[49m\u001b[43m,\u001b[49m\n\u001b[1;32m   1738\u001b[0m \u001b[43m\u001b[49m\u001b[43m)\u001b[49m\n\u001b[1;32m   1739\u001b[0m \u001b[38;5;28;01massert\u001b[39;00m \u001b[38;5;28mself\u001b[39m\u001b[38;5;241m.\u001b[39mhandles \u001b[38;5;129;01mis\u001b[39;00m \u001b[38;5;129;01mnot\u001b[39;00m \u001b[38;5;28;01mNone\u001b[39;00m\n\u001b[1;32m   1740\u001b[0m f \u001b[38;5;241m=\u001b[39m \u001b[38;5;28mself\u001b[39m\u001b[38;5;241m.\u001b[39mhandles\u001b[38;5;241m.\u001b[39mhandle\n",
      "File \u001b[0;32m/opt/homebrew/Caskroom/miniforge/base/envs/nlp/lib/python3.9/site-packages/pandas/io/common.py:857\u001b[0m, in \u001b[0;36mget_handle\u001b[0;34m(path_or_buf, mode, encoding, compression, memory_map, is_text, errors, storage_options)\u001b[0m\n\u001b[1;32m    852\u001b[0m \u001b[38;5;28;01melif\u001b[39;00m \u001b[38;5;28misinstance\u001b[39m(handle, \u001b[38;5;28mstr\u001b[39m):\n\u001b[1;32m    853\u001b[0m     \u001b[38;5;66;03m# Check whether the filename is to be opened in binary mode.\u001b[39;00m\n\u001b[1;32m    854\u001b[0m     \u001b[38;5;66;03m# Binary mode does not support 'encoding' and 'newline'.\u001b[39;00m\n\u001b[1;32m    855\u001b[0m     \u001b[38;5;28;01mif\u001b[39;00m ioargs\u001b[38;5;241m.\u001b[39mencoding \u001b[38;5;129;01mand\u001b[39;00m \u001b[38;5;124m\"\u001b[39m\u001b[38;5;124mb\u001b[39m\u001b[38;5;124m\"\u001b[39m \u001b[38;5;129;01mnot\u001b[39;00m \u001b[38;5;129;01min\u001b[39;00m ioargs\u001b[38;5;241m.\u001b[39mmode:\n\u001b[1;32m    856\u001b[0m         \u001b[38;5;66;03m# Encoding\u001b[39;00m\n\u001b[0;32m--> 857\u001b[0m         handle \u001b[38;5;241m=\u001b[39m \u001b[38;5;28;43mopen\u001b[39;49m\u001b[43m(\u001b[49m\n\u001b[1;32m    858\u001b[0m \u001b[43m            \u001b[49m\u001b[43mhandle\u001b[49m\u001b[43m,\u001b[49m\n\u001b[1;32m    859\u001b[0m \u001b[43m            \u001b[49m\u001b[43mioargs\u001b[49m\u001b[38;5;241;43m.\u001b[39;49m\u001b[43mmode\u001b[49m\u001b[43m,\u001b[49m\n\u001b[1;32m    860\u001b[0m \u001b[43m            \u001b[49m\u001b[43mencoding\u001b[49m\u001b[38;5;241;43m=\u001b[39;49m\u001b[43mioargs\u001b[49m\u001b[38;5;241;43m.\u001b[39;49m\u001b[43mencoding\u001b[49m\u001b[43m,\u001b[49m\n\u001b[1;32m    861\u001b[0m \u001b[43m            \u001b[49m\u001b[43merrors\u001b[49m\u001b[38;5;241;43m=\u001b[39;49m\u001b[43merrors\u001b[49m\u001b[43m,\u001b[49m\n\u001b[1;32m    862\u001b[0m \u001b[43m            \u001b[49m\u001b[43mnewline\u001b[49m\u001b[38;5;241;43m=\u001b[39;49m\u001b[38;5;124;43m\"\u001b[39;49m\u001b[38;5;124;43m\"\u001b[39;49m\u001b[43m,\u001b[49m\n\u001b[1;32m    863\u001b[0m \u001b[43m        \u001b[49m\u001b[43m)\u001b[49m\n\u001b[1;32m    864\u001b[0m     \u001b[38;5;28;01melse\u001b[39;00m:\n\u001b[1;32m    865\u001b[0m         \u001b[38;5;66;03m# Binary mode\u001b[39;00m\n\u001b[1;32m    866\u001b[0m         handle \u001b[38;5;241m=\u001b[39m \u001b[38;5;28mopen\u001b[39m(handle, ioargs\u001b[38;5;241m.\u001b[39mmode)\n",
      "\u001b[0;31mFileNotFoundError\u001b[0m: [Errno 2] No such file or directory: '../data/aita_w_gpt_w_mfd.csv'"
     ]
    }
   ],
   "source": [
    "subs = pd.read_csv(\"../data/aita_w_gpt_w_mfd.csv\")\n",
    "subs.head()\n"
   ]
  },
  {
   "cell_type": "code",
   "execution_count": 57,
   "id": "740cc3e1-5761-4ab9-a447-46863e5b2dbe",
   "metadata": {
    "tags": []
   },
   "outputs": [
    {
     "data": {
      "text/plain": [
       "(11355, 25)"
      ]
     },
     "execution_count": 57,
     "metadata": {},
     "output_type": "execute_result"
    }
   ],
   "source": [
    "subs.shape"
   ]
  },
  {
   "cell_type": "code",
   "execution_count": 52,
   "id": "256e961d-ec67-4260-9518-6ddba25a2203",
   "metadata": {
    "tags": []
   },
   "outputs": [],
   "source": [
    "df = comments.merge(subs, left_on='id', right_on='submission_id', how='left')\n"
   ]
  },
  {
   "cell_type": "code",
   "execution_count": 66,
   "id": "d7b1db3e-6fa5-4b2c-a778-e7f038c35841",
   "metadata": {
    "tags": []
   },
   "outputs": [
    {
     "data": {
      "text/plain": [
       "Index(['id', 'flair_text_x', 'comment', 'score_x', 'comment_author',\n",
       "       'comment_time', 'comment_parent_id', 'comment_depth',\n",
       "       'comment_permalink', 'author_comment_karma', 'author_link_karma',\n",
       "       'submission_id', 'title', 'selftext', 'created_utc', 'permalink',\n",
       "       'score_y', 'flair_text_y', 'top_comment', 'true_label', 'gpt_dilemma',\n",
       "       'gpt_label', 'gpt_reason', 'care_p', 'fairness_p', 'loyalty_p',\n",
       "       'authority_p', 'sanctity_p', 'care_sent', 'fairness_sent',\n",
       "       'loyalty_sent', 'authority_sent', 'sanctity_sent',\n",
       "       'moral_nonmoral_ratio', 'f_var', 'sent_var', 'comment_label'],\n",
       "      dtype='object')"
      ]
     },
     "execution_count": 66,
     "metadata": {},
     "output_type": "execute_result"
    }
   ],
   "source": [
    "df.columns"
   ]
  },
  {
   "cell_type": "code",
   "execution_count": 58,
   "id": "ae151df0-56d9-4e04-bf77-22c7de3246da",
   "metadata": {
    "tags": []
   },
   "outputs": [
    {
     "data": {
      "text/plain": [
       "(556094, 36)"
      ]
     },
     "execution_count": 58,
     "metadata": {},
     "output_type": "execute_result"
    }
   ],
   "source": [
    "df.shape"
   ]
  },
  {
   "cell_type": "code",
   "execution_count": 59,
   "id": "104fd2bc-7320-423f-9bd5-0ea984a14ff9",
   "metadata": {
    "tags": []
   },
   "outputs": [],
   "source": [
    "df['comment_label'] = df.apply(label_comment, axis=1)\n"
   ]
  },
  {
   "cell_type": "code",
   "execution_count": 96,
   "id": "05387ee2-d509-4ebe-8c6b-fcb3a409ba03",
   "metadata": {
    "tags": []
   },
   "outputs": [
    {
     "data": {
      "text/plain": [
       "Index(['id', 'flair_text_x', 'comment', 'score_x', 'comment_author',\n",
       "       'comment_time', 'comment_parent_id', 'comment_depth',\n",
       "       'comment_permalink', 'author_comment_karma', 'author_link_karma',\n",
       "       'submission_id', 'title', 'selftext', 'created_utc', 'permalink',\n",
       "       'score_y', 'flair_text_y', 'top_comment', 'true_label', 'gpt_dilemma',\n",
       "       'gpt_label', 'gpt_reason', 'care_p', 'fairness_p', 'loyalty_p',\n",
       "       'authority_p', 'sanctity_p', 'care_sent', 'fairness_sent',\n",
       "       'loyalty_sent', 'authority_sent', 'sanctity_sent',\n",
       "       'moral_nonmoral_ratio', 'f_var', 'sent_var', 'comment_label'],\n",
       "      dtype='object')"
      ]
     },
     "execution_count": 96,
     "metadata": {},
     "output_type": "execute_result"
    }
   ],
   "source": [
    "df.columns"
   ]
  },
  {
   "cell_type": "code",
   "execution_count": 103,
   "id": "61a31128-830b-471e-99e7-b27097662e9f",
   "metadata": {
    "tags": []
   },
   "outputs": [
    {
     "data": {
      "text/plain": [
       "comment_label\n",
       "NTA    184024\n",
       "YTA      6876\n",
       "ESH      3765\n",
       "NAH      3038\n",
       "N/A      1031\n",
       "Name: count, dtype: int64"
      ]
     },
     "execution_count": 103,
     "metadata": {},
     "output_type": "execute_result"
    }
   ],
   "source": [
    "t = df[df['flair_text_y']=='Not the A-hole']\n",
    "t.comment_label.value_counts()"
   ]
  },
  {
   "cell_type": "code",
   "execution_count": 61,
   "id": "cd608bd6-d2fc-4fe6-83a3-c2c866817ba2",
   "metadata": {
    "tags": []
   },
   "outputs": [
    {
     "data": {
      "text/plain": [
       "comment_label\n",
       "NTA    287948\n",
       "YTA     84387\n",
       "ESH     11207\n",
       "NAH      9045\n",
       "N/A      2941\n",
       "Name: count, dtype: int64"
      ]
     },
     "execution_count": 61,
     "metadata": {},
     "output_type": "execute_result"
    }
   ],
   "source": [
    "df.comment_label.value_counts()"
   ]
  },
  {
   "cell_type": "code",
   "execution_count": 62,
   "id": "e30733b2-8bb4-4387-8545-77491c5433de",
   "metadata": {
    "tags": []
   },
   "outputs": [],
   "source": [
    "df.to_csv('../data/aita_comments_Aug17_labels.csv',index=False)"
   ]
  },
  {
   "cell_type": "code",
   "execution_count": 31,
   "id": "d1f29d75-8c29-462f-ab41-1a79b21bea90",
   "metadata": {
    "tags": []
   },
   "outputs": [
    {
     "data": {
      "text/plain": [
       "<Axes: >"
      ]
     },
     "execution_count": 31,
     "metadata": {},
     "output_type": "execute_result"
    },
    {
     "data": {
      "image/png": "[encoded data removed]",
      "text/plain": [
       "<Figure size 432x288 with 1 Axes>"
      ]
     },
     "metadata": {
      "needs_background": "light"
     },
     "output_type": "display_data"
    }
   ],
   "source": [
    "df.groupby('id').label.agg(lambda x: (x == 'NTA').mean()).hist(density=True)"
   ]
  },
  {
   "cell_type": "code",
   "execution_count": 44,
   "id": "a34ab9f6-de17-4691-9f7f-c26a5ea2c52b",
   "metadata": {
    "tags": []
   },
   "outputs": [
    {
     "data": {
      "image/png": "[encoded data removed]",
      "text/plain": [
       "<Figure size 432x288 with 1 Axes>"
      ]
     },
     "metadata": {
      "needs_background": "light"
     },
     "output_type": "display_data"
    }
   ],
   "source": [
    "df.groupby('id').label.agg(lambda x: (x == 'NAH').mean()).hist(density=True,histtype='step');\n"
   ]
  },
  {
   "cell_type": "code",
   "execution_count": 41,
   "id": "25512a43-a730-4380-b0ac-e81125bf484c",
   "metadata": {
    "tags": []
   },
   "outputs": [
    {
     "data": {
      "image/png": "[encoded data removed]",
      "text/plain": [
       "<Figure size 432x288 with 1 Axes>"
      ]
     },
     "metadata": {
      "needs_background": "light"
     },
     "output_type": "display_data"
    }
   ],
   "source": [
    "df.groupby('id').label.agg(lambda x: (x == 'YTA').mean()).hist(density=True,histtype='step');\n",
    "df.groupby('id').label.agg(lambda x: (x == 'NTA').mean()).hist(density=True,histtype='step');\n",
    "df.groupby('id').label.agg(lambda x: (x == 'ESH').mean()).hist(density=True,histtype='step');\n"
   ]
  },
  {
   "cell_type": "markdown",
   "id": "04a11812-07e6-4398-b0b1-b2d9ae80818b",
   "metadata": {},
   "source": [
    "## For each bin (.1) in this distribution in NTA agreement, get the top 10 post with the highest scores "
   ]
  },
  {
   "cell_type": "code",
   "execution_count": 69,
   "id": "f3b16ad4-8040-44d8-8f2e-6fe1f89175cf",
   "metadata": {
    "tags": []
   },
   "outputs": [],
   "source": [
    "nta_proportions = df.groupby('id').apply(lambda group: (group['comment_label'] == 'NTA').mean())\n",
    "nta_df = df.merge(nta_proportions.rename('nta_proportion'), left_on='id', right_index=True)\n",
    "bins = [i / 10 for i in range(11)] # Bins from 0 to 1 with an interval of 0.1\n",
    "nta_df['bin'] = pd.cut(nta_df['nta_proportion'], bins=bins)\n",
    "\n",
    "def top_10_posts(group):\n",
    "    return group.nlargest(10, 'score_x')\n",
    "\n",
    "top_posts_per_bin = nta_df.groupby('bin').apply(top_10_posts)"
   ]
  },
  {
   "cell_type": "code",
   "execution_count": 70,
   "id": "ae816e9a-03c0-4ab6-960a-79001d64b405",
   "metadata": {
    "tags": []
   },
   "outputs": [
    {
     "data": {
      "text/plain": [
       "(100, 39)"
      ]
     },
     "execution_count": 70,
     "metadata": {},
     "output_type": "execute_result"
    }
   ],
   "source": [
    "top_posts_per_bin.shape"
   ]
  },
  {
   "cell_type": "code",
   "execution_count": 91,
   "id": "f10fb542-0caa-4619-b085-f4df00c373d9",
   "metadata": {
    "tags": []
   },
   "outputs": [
    {
     "data": {
      "text/html": [
       "<div>\n",
       "<style scoped>\n",
       "    .dataframe tbody tr th:only-of-type {\n",
       "        vertical-align: middle;\n",
       "    }\n",
       "\n",
       "    .dataframe tbody tr th {\n",
       "        vertical-align: top;\n",
       "    }\n",
       "\n",
       "    .dataframe thead th {\n",
       "        text-align: right;\n",
       "    }\n",
       "</style>\n",
       "<table border=\"1\" class=\"dataframe\">\n",
       "  <thead>\n",
       "    <tr style=\"text-align: right;\">\n",
       "      <th></th>\n",
       "      <th></th>\n",
       "      <th>id</th>\n",
       "      <th>flair_text_x</th>\n",
       "      <th>comment</th>\n",
       "      <th>score_x</th>\n",
       "      <th>comment_author</th>\n",
       "      <th>comment_time</th>\n",
       "      <th>comment_parent_id</th>\n",
       "      <th>comment_depth</th>\n",
       "      <th>comment_permalink</th>\n",
       "      <th>author_comment_karma</th>\n",
       "      <th>...</th>\n",
       "      <th>fairness_sent</th>\n",
       "      <th>loyalty_sent</th>\n",
       "      <th>authority_sent</th>\n",
       "      <th>sanctity_sent</th>\n",
       "      <th>moral_nonmoral_ratio</th>\n",
       "      <th>f_var</th>\n",
       "      <th>sent_var</th>\n",
       "      <th>comment_label</th>\n",
       "      <th>nta_proportion</th>\n",
       "      <th>bin</th>\n",
       "    </tr>\n",
       "    <tr>\n",
       "      <th>bin</th>\n",
       "      <th></th>\n",
       "      <th></th>\n",
       "      <th></th>\n",
       "      <th></th>\n",
       "      <th></th>\n",
       "      <th></th>\n",
       "      <th></th>\n",
       "      <th></th>\n",
       "      <th></th>\n",
       "      <th></th>\n",
       "      <th></th>\n",
       "      <th></th>\n",
       "      <th></th>\n",
       "      <th></th>\n",
       "      <th></th>\n",
       "      <th></th>\n",
       "      <th></th>\n",
       "      <th></th>\n",
       "      <th></th>\n",
       "      <th></th>\n",
       "      <th></th>\n",
       "      <th></th>\n",
       "    </tr>\n",
       "  </thead>\n",
       "  <tbody>\n",
       "    <tr>\n",
       "      <th rowspan=\"5\" valign=\"top\">(0.0, 0.1]</th>\n",
       "      <th>479313</th>\n",
       "      <td>11jkp2q</td>\n",
       "      <td>Asshole</td>\n",
       "      <td>What kind of asshole tells a woman's parents t...</td>\n",
       "      <td>85805</td>\n",
       "      <td>DanyDragonQueen</td>\n",
       "      <td>2023-03-06 02:08:21</td>\n",
       "      <td>t3_11jkp2q</td>\n",
       "      <td>0</td>\n",
       "      <td>https://reddit.com/r/AmItheAsshole/comments/11...</td>\n",
       "      <td>32447.0</td>\n",
       "      <td>...</td>\n",
       "      <td>-0.045093</td>\n",
       "      <td>-0.023449</td>\n",
       "      <td>-0.029994</td>\n",
       "      <td>-0.078474</td>\n",
       "      <td>4.266667</td>\n",
       "      <td>0.000144</td>\n",
       "      <td>0.000633</td>\n",
       "      <td>None</td>\n",
       "      <td>0.096774</td>\n",
       "      <td>(0.0, 0.1]</td>\n",
       "    </tr>\n",
       "    <tr>\n",
       "      <th>291130</th>\n",
       "      <td>10bnywp</td>\n",
       "      <td>Asshole</td>\n",
       "      <td>YTA for several reasons, two of which are call...</td>\n",
       "      <td>57645</td>\n",
       "      <td>Primary-Criticism929</td>\n",
       "      <td>2023-01-14 13:14:09</td>\n",
       "      <td>t3_10bnywp</td>\n",
       "      <td>0</td>\n",
       "      <td>https://reddit.com/r/AmItheAsshole/comments/10...</td>\n",
       "      <td>1260824.0</td>\n",
       "      <td>...</td>\n",
       "      <td>0.040147</td>\n",
       "      <td>0.024904</td>\n",
       "      <td>0.023828</td>\n",
       "      <td>-0.040455</td>\n",
       "      <td>3.000000</td>\n",
       "      <td>0.000065</td>\n",
       "      <td>0.002127</td>\n",
       "      <td>YTA</td>\n",
       "      <td>0.057971</td>\n",
       "      <td>(0.0, 0.1]</td>\n",
       "    </tr>\n",
       "    <tr>\n",
       "      <th>550818</th>\n",
       "      <td>120q23e</td>\n",
       "      <td>Asshole</td>\n",
       "      <td>The baby is obviously at fault here. Selfish j...</td>\n",
       "      <td>46533</td>\n",
       "      <td>deleted</td>\n",
       "      <td>2023-03-24 17:03:00</td>\n",
       "      <td>t3_120q23e</td>\n",
       "      <td>0</td>\n",
       "      <td>https://reddit.com/r/AmItheAsshole/comments/12...</td>\n",
       "      <td>NaN</td>\n",
       "      <td>...</td>\n",
       "      <td>-0.054543</td>\n",
       "      <td>-0.037252</td>\n",
       "      <td>-0.021831</td>\n",
       "      <td>-0.096475</td>\n",
       "      <td>2.600000</td>\n",
       "      <td>0.000089</td>\n",
       "      <td>0.001638</td>\n",
       "      <td>None</td>\n",
       "      <td>0.006452</td>\n",
       "      <td>(0.0, 0.1]</td>\n",
       "    </tr>\n",
       "    <tr>\n",
       "      <th>355685</th>\n",
       "      <td>10qwvbt</td>\n",
       "      <td>Asshole</td>\n",
       "      <td>YTA. We know because you said this was about h...</td>\n",
       "      <td>46026</td>\n",
       "      <td>BringMeInfo</td>\n",
       "      <td>2023-02-01 15:09:14</td>\n",
       "      <td>t3_10qwvbt</td>\n",
       "      <td>0</td>\n",
       "      <td>https://reddit.com/r/AmItheAsshole/comments/10...</td>\n",
       "      <td>125424.0</td>\n",
       "      <td>...</td>\n",
       "      <td>-0.021996</td>\n",
       "      <td>0.003646</td>\n",
       "      <td>-0.001012</td>\n",
       "      <td>-0.057653</td>\n",
       "      <td>1.305263</td>\n",
       "      <td>0.000052</td>\n",
       "      <td>0.001245</td>\n",
       "      <td>YTA</td>\n",
       "      <td>0.054286</td>\n",
       "      <td>(0.0, 0.1]</td>\n",
       "    </tr>\n",
       "    <tr>\n",
       "      <th>326118</th>\n",
       "      <td>10k60uu</td>\n",
       "      <td>Asshole</td>\n",
       "      <td>YTA.\\n\\nThis is incredibly transphobic! Amy is...</td>\n",
       "      <td>45054</td>\n",
       "      <td>realstareyes</td>\n",
       "      <td>2023-01-24 14:01:15</td>\n",
       "      <td>t3_10k60uu</td>\n",
       "      <td>0</td>\n",
       "      <td>https://reddit.com/r/AmItheAsshole/comments/10...</td>\n",
       "      <td>384783.0</td>\n",
       "      <td>...</td>\n",
       "      <td>-0.005906</td>\n",
       "      <td>-0.007103</td>\n",
       "      <td>-0.044042</td>\n",
       "      <td>-0.057508</td>\n",
       "      <td>1.875000</td>\n",
       "      <td>0.000065</td>\n",
       "      <td>0.000931</td>\n",
       "      <td>YTA</td>\n",
       "      <td>0.050000</td>\n",
       "      <td>(0.0, 0.1]</td>\n",
       "    </tr>\n",
       "  </tbody>\n",
       "</table>\n",
       "<p>5 rows × 39 columns</p>\n",
       "</div>"
      ],
      "text/plain": [
       "                        id flair_text_x  \\\n",
       "bin                                       \n",
       "(0.0, 0.1] 479313  11jkp2q      Asshole   \n",
       "           291130  10bnywp      Asshole   \n",
       "           550818  120q23e      Asshole   \n",
       "           355685  10qwvbt      Asshole   \n",
       "           326118  10k60uu      Asshole   \n",
       "\n",
       "                                                             comment  score_x  \\\n",
       "bin                                                                             \n",
       "(0.0, 0.1] 479313  What kind of asshole tells a woman's parents t...    85805   \n",
       "           291130  YTA for several reasons, two of which are call...    57645   \n",
       "           550818  The baby is obviously at fault here. Selfish j...    46533   \n",
       "           355685  YTA. We know because you said this was about h...    46026   \n",
       "           326118  YTA.\\n\\nThis is incredibly transphobic! Amy is...    45054   \n",
       "\n",
       "                         comment_author         comment_time  \\\n",
       "bin                                                            \n",
       "(0.0, 0.1] 479313       DanyDragonQueen  2023-03-06 02:08:21   \n",
       "           291130  Primary-Criticism929  2023-01-14 13:14:09   \n",
       "           550818               deleted  2023-03-24 17:03:00   \n",
       "           355685           BringMeInfo  2023-02-01 15:09:14   \n",
       "           326118          realstareyes  2023-01-24 14:01:15   \n",
       "\n",
       "                  comment_parent_id  comment_depth  \\\n",
       "bin                                                  \n",
       "(0.0, 0.1] 479313        t3_11jkp2q              0   \n",
       "           291130        t3_10bnywp              0   \n",
       "           550818        t3_120q23e              0   \n",
       "           355685        t3_10qwvbt              0   \n",
       "           326118        t3_10k60uu              0   \n",
       "\n",
       "                                                   comment_permalink  \\\n",
       "bin                                                                    \n",
       "(0.0, 0.1] 479313  https://reddit.com/r/AmItheAsshole/comments/11...   \n",
       "           291130  https://reddit.com/r/AmItheAsshole/comments/10...   \n",
       "           550818  https://reddit.com/r/AmItheAsshole/comments/12...   \n",
       "           355685  https://reddit.com/r/AmItheAsshole/comments/10...   \n",
       "           326118  https://reddit.com/r/AmItheAsshole/comments/10...   \n",
       "\n",
       "                   author_comment_karma  ...  fairness_sent loyalty_sent  \\\n",
       "bin                                      ...                               \n",
       "(0.0, 0.1] 479313               32447.0  ...      -0.045093    -0.023449   \n",
       "           291130             1260824.0  ...       0.040147     0.024904   \n",
       "           550818                   NaN  ...      -0.054543    -0.037252   \n",
       "           355685              125424.0  ...      -0.021996     0.003646   \n",
       "           326118              384783.0  ...      -0.005906    -0.007103   \n",
       "\n",
       "                  authority_sent sanctity_sent moral_nonmoral_ratio     f_var  \\\n",
       "bin                                                                             \n",
       "(0.0, 0.1] 479313      -0.029994     -0.078474             4.266667  0.000144   \n",
       "           291130       0.023828     -0.040455             3.000000  0.000065   \n",
       "           550818      -0.021831     -0.096475             2.600000  0.000089   \n",
       "           355685      -0.001012     -0.057653             1.305263  0.000052   \n",
       "           326118      -0.044042     -0.057508             1.875000  0.000065   \n",
       "\n",
       "                   sent_var comment_label nta_proportion         bin  \n",
       "bin                                                                   \n",
       "(0.0, 0.1] 479313  0.000633          None       0.096774  (0.0, 0.1]  \n",
       "           291130  0.002127           YTA       0.057971  (0.0, 0.1]  \n",
       "           550818  0.001638          None       0.006452  (0.0, 0.1]  \n",
       "           355685  0.001245           YTA       0.054286  (0.0, 0.1]  \n",
       "           326118  0.000931           YTA       0.050000  (0.0, 0.1]  \n",
       "\n",
       "[5 rows x 39 columns]"
      ]
     },
     "execution_count": 91,
     "metadata": {},
     "output_type": "execute_result"
    }
   ],
   "source": [
    "top_posts_per_bin.head()"
   ]
  },
  {
   "cell_type": "code",
   "execution_count": 88,
   "id": "527202bf-e5a2-40df-bd8a-02ba28d83589",
   "metadata": {
    "tags": []
   },
   "outputs": [
    {
     "name": "stdout",
     "output_type": "stream",
     "text": [
      "1.075268817204301\n"
     ]
    }
   ],
   "source": [
    "# no contradicting posts?\n",
    "print(top_posts_per_bin.groupby('id').size().mean())"
   ]
  },
  {
   "cell_type": "code",
   "execution_count": 83,
   "id": "98f7f412-b2d9-47c5-bc24-c5975e234ccd",
   "metadata": {
    "tags": []
   },
   "outputs": [],
   "source": [
    "# use idxmax?\n",
    "\n",
    "def top_comment(group):\n",
    "    top_score_index = group['score_x'].idxmax()\n",
    "    return group.loc[top_score_index]\n",
    "\n",
    "top_comments = top_posts_per_bin.groupby('id', group_keys=False).apply(top_comment)"
   ]
  },
  {
   "cell_type": "code",
   "execution_count": 85,
   "id": "38570ed5-7b39-4835-9762-fbd3e0d6e8a2",
   "metadata": {
    "tags": []
   },
   "outputs": [],
   "source": [
    "def top_different_label(group):\n",
    "    top_label = group.loc[group['score_x'].idxmax()]['comment_label']\n",
    "    different_label_group = group[group['comment_label'] != top_label]\n",
    "    if different_label_group.empty:\n",
    "        return None\n",
    "    top_diff_label_index = different_label_group['score_x'].idxmax()\n",
    "    return different_label_group.loc[top_diff_label_index]\n",
    "\n",
    "top_diff_label_comments = top_posts_per_bin.groupby('id', group_keys=False).apply(top_different_label).dropna()\n"
   ]
  },
  {
   "cell_type": "code",
   "execution_count": 86,
   "id": "56be1795-9078-4ffd-bce2-c5b6834c52a7",
   "metadata": {
    "tags": []
   },
   "outputs": [
    {
     "data": {
      "text/html": [
       "<div>\n",
       "<style scoped>\n",
       "    .dataframe tbody tr th:only-of-type {\n",
       "        vertical-align: middle;\n",
       "    }\n",
       "\n",
       "    .dataframe tbody tr th {\n",
       "        vertical-align: top;\n",
       "    }\n",
       "\n",
       "    .dataframe thead th {\n",
       "        text-align: right;\n",
       "    }\n",
       "</style>\n",
       "<table border=\"1\" class=\"dataframe\">\n",
       "  <thead>\n",
       "    <tr style=\"text-align: right;\">\n",
       "      <th></th>\n",
       "      <th>id</th>\n",
       "      <th>flair_text_x</th>\n",
       "      <th>comment</th>\n",
       "      <th>score_x</th>\n",
       "      <th>comment_author</th>\n",
       "      <th>comment_time</th>\n",
       "      <th>comment_parent_id</th>\n",
       "      <th>comment_depth</th>\n",
       "      <th>comment_permalink</th>\n",
       "      <th>author_comment_karma</th>\n",
       "      <th>...</th>\n",
       "      <th>fairness_sent</th>\n",
       "      <th>loyalty_sent</th>\n",
       "      <th>authority_sent</th>\n",
       "      <th>sanctity_sent</th>\n",
       "      <th>moral_nonmoral_ratio</th>\n",
       "      <th>f_var</th>\n",
       "      <th>sent_var</th>\n",
       "      <th>comment_label</th>\n",
       "      <th>nta_proportion</th>\n",
       "      <th>bin</th>\n",
       "    </tr>\n",
       "    <tr>\n",
       "      <th>id</th>\n",
       "      <th></th>\n",
       "      <th></th>\n",
       "      <th></th>\n",
       "      <th></th>\n",
       "      <th></th>\n",
       "      <th></th>\n",
       "      <th></th>\n",
       "      <th></th>\n",
       "      <th></th>\n",
       "      <th></th>\n",
       "      <th></th>\n",
       "      <th></th>\n",
       "      <th></th>\n",
       "      <th></th>\n",
       "      <th></th>\n",
       "      <th></th>\n",
       "      <th></th>\n",
       "      <th></th>\n",
       "      <th></th>\n",
       "      <th></th>\n",
       "      <th></th>\n",
       "    </tr>\n",
       "  </thead>\n",
       "  <tbody>\n",
       "  </tbody>\n",
       "</table>\n",
       "<p>0 rows × 39 columns</p>\n",
       "</div>"
      ],
      "text/plain": [
       "Empty DataFrame\n",
       "Columns: [id, flair_text_x, comment, score_x, comment_author, comment_time, comment_parent_id, comment_depth, comment_permalink, author_comment_karma, author_link_karma, submission_id, title, selftext, created_utc, permalink, score_y, flair_text_y, top_comment, true_label, gpt_dilemma, gpt_label, gpt_reason, care_p, fairness_p, loyalty_p, authority_p, sanctity_p, care_sent, fairness_sent, loyalty_sent, authority_sent, sanctity_sent, moral_nonmoral_ratio, f_var, sent_var, comment_label, nta_proportion, bin]\n",
       "Index: []\n",
       "\n",
       "[0 rows x 39 columns]"
      ]
     },
     "execution_count": 86,
     "metadata": {},
     "output_type": "execute_result"
    }
   ],
   "source": [
    "top_diff_label_comments"
   ]
  },
  {
   "cell_type": "markdown",
   "id": "8ddb90c9-c39a-41eb-a51f-b5838dae9157",
   "metadata": {},
   "source": [
    "# New approach: Subset NTA, then get top-scoring and contradicting comments"
   ]
  },
  {
   "cell_type": "code",
   "execution_count": 104,
   "id": "7ba06464-740b-45d2-9583-db38e669ad56",
   "metadata": {
    "tags": []
   },
   "outputs": [],
   "source": [
    "subset_data = df[df['flair_text_y'] == 'Not the A-hole']\n"
   ]
  },
  {
   "cell_type": "code",
   "execution_count": 105,
   "id": "9895d625-31a6-4c4e-80d3-83dd39bee30e",
   "metadata": {
    "tags": []
   },
   "outputs": [],
   "source": [
    "# Find the Top-Scoring Comment for Each Post:\n",
    "\n",
    "def top_comment(group):\n",
    "    top_score_index = group['score_x'].idxmax()\n",
    "    return group.loc[top_score_index]\n",
    "\n",
    "top_comments = subset_data.groupby('id', group_keys=False).apply(top_comment)"
   ]
  },
  {
   "cell_type": "code",
   "execution_count": 106,
   "id": "bd7a8911-3128-40c0-b636-ab7684ad0875",
   "metadata": {
    "tags": []
   },
   "outputs": [],
   "source": [
    "# Find the Top-Scoring Comment with a Different Label for Each Post:\n",
    "\n",
    "def top_different_label(group):\n",
    "    top_label = group.loc[group['score_x'].idxmax()]['comment_label']\n",
    "    different_label_group = group[group['comment_label'] != top_label]\n",
    "    if different_label_group.empty:\n",
    "        return None\n",
    "    top_diff_label_index = different_label_group['score_x'].idxmax()\n",
    "    return different_label_group.loc[top_diff_label_index]\n",
    "\n",
    "top_diff_label_comments = subset_data.groupby('id', group_keys=False).apply(top_different_label).dropna()\n"
   ]
  },
  {
   "cell_type": "code",
   "execution_count": 108,
   "id": "4f0d5cad-8e83-4074-8812-958cf76c4769",
   "metadata": {
    "tags": []
   },
   "outputs": [
    {
     "data": {
      "text/plain": [
       "Index(['id', 'flair_text_x', 'comment', 'score_x', 'comment_author',\n",
       "       'comment_time', 'comment_parent_id', 'comment_depth',\n",
       "       'comment_permalink', 'author_comment_karma', 'author_link_karma',\n",
       "       'submission_id', 'title', 'selftext', 'created_utc', 'permalink',\n",
       "       'score_y', 'flair_text_y', 'top_comment', 'true_label', 'gpt_dilemma',\n",
       "       'gpt_label', 'gpt_reason', 'care_p', 'fairness_p', 'loyalty_p',\n",
       "       'authority_p', 'sanctity_p', 'care_sent', 'fairness_sent',\n",
       "       'loyalty_sent', 'authority_sent', 'sanctity_sent',\n",
       "       'moral_nonmoral_ratio', 'f_var', 'sent_var', 'comment_label'],\n",
       "      dtype='object')"
      ]
     },
     "execution_count": 108,
     "metadata": {},
     "output_type": "execute_result"
    }
   ],
   "source": [
    "top_diff_label_comments.columns"
   ]
  },
  {
   "cell_type": "code",
   "execution_count": 107,
   "id": "fabe52a5-ba81-4767-9084-ab92f2689a72",
   "metadata": {
    "tags": []
   },
   "outputs": [
    {
     "data": {
      "text/html": [
       "<div>\n",
       "<style scoped>\n",
       "    .dataframe tbody tr th:only-of-type {\n",
       "        vertical-align: middle;\n",
       "    }\n",
       "\n",
       "    .dataframe tbody tr th {\n",
       "        vertical-align: top;\n",
       "    }\n",
       "\n",
       "    .dataframe thead th {\n",
       "        text-align: right;\n",
       "    }\n",
       "</style>\n",
       "<table border=\"1\" class=\"dataframe\">\n",
       "  <thead>\n",
       "    <tr style=\"text-align: right;\">\n",
       "      <th></th>\n",
       "      <th>id</th>\n",
       "      <th>flair_text_x</th>\n",
       "      <th>comment</th>\n",
       "      <th>score_x</th>\n",
       "      <th>comment_author</th>\n",
       "      <th>comment_time</th>\n",
       "      <th>comment_parent_id</th>\n",
       "      <th>comment_depth</th>\n",
       "      <th>comment_permalink</th>\n",
       "      <th>author_comment_karma</th>\n",
       "      <th>...</th>\n",
       "      <th>sanctity_p</th>\n",
       "      <th>care_sent</th>\n",
       "      <th>fairness_sent</th>\n",
       "      <th>loyalty_sent</th>\n",
       "      <th>authority_sent</th>\n",
       "      <th>sanctity_sent</th>\n",
       "      <th>moral_nonmoral_ratio</th>\n",
       "      <th>f_var</th>\n",
       "      <th>sent_var</th>\n",
       "      <th>comment_label</th>\n",
       "    </tr>\n",
       "    <tr>\n",
       "      <th>id</th>\n",
       "      <th></th>\n",
       "      <th></th>\n",
       "      <th></th>\n",
       "      <th></th>\n",
       "      <th></th>\n",
       "      <th></th>\n",
       "      <th></th>\n",
       "      <th></th>\n",
       "      <th></th>\n",
       "      <th></th>\n",
       "      <th></th>\n",
       "      <th></th>\n",
       "      <th></th>\n",
       "      <th></th>\n",
       "      <th></th>\n",
       "      <th></th>\n",
       "      <th></th>\n",
       "      <th></th>\n",
       "      <th></th>\n",
       "      <th></th>\n",
       "      <th></th>\n",
       "    </tr>\n",
       "  </thead>\n",
       "  <tbody>\n",
       "    <tr>\n",
       "      <th>1003glw</th>\n",
       "      <td>1003glw</td>\n",
       "      <td>Not the A-hole</td>\n",
       "      <td>All of the YTA people have apparently never ha...</td>\n",
       "      <td>91.0</td>\n",
       "      <td>RevolutionaryCow7961</td>\n",
       "      <td>2022-12-31 23:53:10</td>\n",
       "      <td>t3_1003glw</td>\n",
       "      <td>0.0</td>\n",
       "      <td>https://reddit.com/r/AmItheAsshole/comments/10...</td>\n",
       "      <td>25611.0</td>\n",
       "      <td>...</td>\n",
       "      <td>0.094371</td>\n",
       "      <td>-0.018556</td>\n",
       "      <td>-0.050400</td>\n",
       "      <td>0.016076</td>\n",
       "      <td>-0.014711</td>\n",
       "      <td>-0.092165</td>\n",
       "      <td>2.647059</td>\n",
       "      <td>0.000224</td>\n",
       "      <td>0.001687</td>\n",
       "      <td>YTA</td>\n",
       "    </tr>\n",
       "    <tr>\n",
       "      <th>1004c68</th>\n",
       "      <td>1004c68</td>\n",
       "      <td>Not the A-hole</td>\n",
       "      <td>NTA I wanted to say ESH here but like the amou...</td>\n",
       "      <td>172.0</td>\n",
       "      <td>ReviewOk929</td>\n",
       "      <td>2022-12-31 22:04:30</td>\n",
       "      <td>t3_1004c68</td>\n",
       "      <td>0.0</td>\n",
       "      <td>https://reddit.com/r/AmItheAsshole/comments/10...</td>\n",
       "      <td>505219.0</td>\n",
       "      <td>...</td>\n",
       "      <td>0.086860</td>\n",
       "      <td>-0.061057</td>\n",
       "      <td>0.012990</td>\n",
       "      <td>0.018468</td>\n",
       "      <td>0.023269</td>\n",
       "      <td>-0.034379</td>\n",
       "      <td>1.914286</td>\n",
       "      <td>0.000036</td>\n",
       "      <td>0.001407</td>\n",
       "      <td>N/A</td>\n",
       "    </tr>\n",
       "    <tr>\n",
       "      <th>1004qtg</th>\n",
       "      <td>1004qtg</td>\n",
       "      <td>Not the A-hole</td>\n",
       "      <td>NTA - he’s almost gone. I get why they may thi...</td>\n",
       "      <td>340.0</td>\n",
       "      <td>One-Awareness4609</td>\n",
       "      <td>2022-12-31 22:01:03</td>\n",
       "      <td>t3_1004qtg</td>\n",
       "      <td>0.0</td>\n",
       "      <td>https://reddit.com/r/AmItheAsshole/comments/10...</td>\n",
       "      <td>40870.0</td>\n",
       "      <td>...</td>\n",
       "      <td>0.097130</td>\n",
       "      <td>-0.041210</td>\n",
       "      <td>-0.021349</td>\n",
       "      <td>0.020856</td>\n",
       "      <td>-0.015926</td>\n",
       "      <td>-0.059306</td>\n",
       "      <td>1.283951</td>\n",
       "      <td>0.000049</td>\n",
       "      <td>0.000906</td>\n",
       "      <td>N/A</td>\n",
       "    </tr>\n",
       "    <tr>\n",
       "      <th>100au6c</th>\n",
       "      <td>100au6c</td>\n",
       "      <td>Not the A-hole</td>\n",
       "      <td>NAH. This literally happened with my parents a...</td>\n",
       "      <td>368.0</td>\n",
       "      <td>OHRavenclaw</td>\n",
       "      <td>2023-01-01 03:49:20</td>\n",
       "      <td>t3_100au6c</td>\n",
       "      <td>0.0</td>\n",
       "      <td>https://reddit.com/r/AmItheAsshole/comments/10...</td>\n",
       "      <td>14330.0</td>\n",
       "      <td>...</td>\n",
       "      <td>0.091600</td>\n",
       "      <td>0.017206</td>\n",
       "      <td>0.095398</td>\n",
       "      <td>0.077215</td>\n",
       "      <td>0.093847</td>\n",
       "      <td>0.031324</td>\n",
       "      <td>1.586957</td>\n",
       "      <td>0.000106</td>\n",
       "      <td>0.001326</td>\n",
       "      <td>NAH</td>\n",
       "    </tr>\n",
       "    <tr>\n",
       "      <th>100fzew</th>\n",
       "      <td>100fzew</td>\n",
       "      <td>Not the A-hole</td>\n",
       "      <td>Honestly, ESH.\\n\\nShe is undoubtedly acting li...</td>\n",
       "      <td>1019.0</td>\n",
       "      <td>ButterMyParsnip</td>\n",
       "      <td>2023-01-01 09:29:35</td>\n",
       "      <td>t3_100fzew</td>\n",
       "      <td>0.0</td>\n",
       "      <td>https://reddit.com/r/AmItheAsshole/comments/10...</td>\n",
       "      <td>23826.0</td>\n",
       "      <td>...</td>\n",
       "      <td>0.082937</td>\n",
       "      <td>-0.082155</td>\n",
       "      <td>-0.001046</td>\n",
       "      <td>0.005085</td>\n",
       "      <td>0.020199</td>\n",
       "      <td>-0.042476</td>\n",
       "      <td>1.490566</td>\n",
       "      <td>0.000075</td>\n",
       "      <td>0.001743</td>\n",
       "      <td>ESH</td>\n",
       "    </tr>\n",
       "    <tr>\n",
       "      <th>...</th>\n",
       "      <td>...</td>\n",
       "      <td>...</td>\n",
       "      <td>...</td>\n",
       "      <td>...</td>\n",
       "      <td>...</td>\n",
       "      <td>...</td>\n",
       "      <td>...</td>\n",
       "      <td>...</td>\n",
       "      <td>...</td>\n",
       "      <td>...</td>\n",
       "      <td>...</td>\n",
       "      <td>...</td>\n",
       "      <td>...</td>\n",
       "      <td>...</td>\n",
       "      <td>...</td>\n",
       "      <td>...</td>\n",
       "      <td>...</td>\n",
       "      <td>...</td>\n",
       "      <td>...</td>\n",
       "      <td>...</td>\n",
       "      <td>...</td>\n",
       "    </tr>\n",
       "    <tr>\n",
       "      <th>zz2i40</th>\n",
       "      <td>zz2i40</td>\n",
       "      <td>Not the A-hole</td>\n",
       "      <td>ESH. Christ, I'm exhausted just by *reading* a...</td>\n",
       "      <td>611.0</td>\n",
       "      <td>schoobydoo42</td>\n",
       "      <td>2022-12-30 15:09:56</td>\n",
       "      <td>t3_zz2i40</td>\n",
       "      <td>0.0</td>\n",
       "      <td>https://reddit.com/r/AmItheAsshole/comments/zz...</td>\n",
       "      <td>227249.0</td>\n",
       "      <td>...</td>\n",
       "      <td>0.090593</td>\n",
       "      <td>-0.074027</td>\n",
       "      <td>-0.024696</td>\n",
       "      <td>-0.010918</td>\n",
       "      <td>-0.038933</td>\n",
       "      <td>-0.118472</td>\n",
       "      <td>1.287879</td>\n",
       "      <td>0.000153</td>\n",
       "      <td>0.001874</td>\n",
       "      <td>ESH</td>\n",
       "    </tr>\n",
       "    <tr>\n",
       "      <th>zz3d1x</th>\n",
       "      <td>zz3d1x</td>\n",
       "      <td>Not the A-hole</td>\n",
       "      <td>NAH you can't make any sort of plans until thi...</td>\n",
       "      <td>23.0</td>\n",
       "      <td>GMUcovidta</td>\n",
       "      <td>2022-12-30 15:44:56</td>\n",
       "      <td>t3_zz3d1x</td>\n",
       "      <td>0.0</td>\n",
       "      <td>https://reddit.com/r/AmItheAsshole/comments/zz...</td>\n",
       "      <td>120710.0</td>\n",
       "      <td>...</td>\n",
       "      <td>0.087545</td>\n",
       "      <td>-0.073962</td>\n",
       "      <td>0.002202</td>\n",
       "      <td>0.001423</td>\n",
       "      <td>-0.013030</td>\n",
       "      <td>0.011936</td>\n",
       "      <td>1.657143</td>\n",
       "      <td>0.000101</td>\n",
       "      <td>0.001192</td>\n",
       "      <td>NAH</td>\n",
       "    </tr>\n",
       "    <tr>\n",
       "      <th>zz3hxq</th>\n",
       "      <td>zz3hxq</td>\n",
       "      <td>Not the A-hole</td>\n",
       "      <td>It sounds like an NAH situation. Your sis is a...</td>\n",
       "      <td>9.0</td>\n",
       "      <td>drake_crus</td>\n",
       "      <td>2022-12-30 15:47:28</td>\n",
       "      <td>t3_zz3hxq</td>\n",
       "      <td>0.0</td>\n",
       "      <td>https://reddit.com/r/AmItheAsshole/comments/zz...</td>\n",
       "      <td>1880.0</td>\n",
       "      <td>...</td>\n",
       "      <td>0.082756</td>\n",
       "      <td>-0.078129</td>\n",
       "      <td>-0.079027</td>\n",
       "      <td>0.026766</td>\n",
       "      <td>-0.040270</td>\n",
       "      <td>-0.073883</td>\n",
       "      <td>2.485714</td>\n",
       "      <td>0.000070</td>\n",
       "      <td>0.002046</td>\n",
       "      <td>NAH</td>\n",
       "    </tr>\n",
       "    <tr>\n",
       "      <th>zzggx1</th>\n",
       "      <td>zzggx1</td>\n",
       "      <td>Not the A-hole</td>\n",
       "      <td>ESH \\n\\nI think you should have noted how over...</td>\n",
       "      <td>81.0</td>\n",
       "      <td>QuirkySyrup55947</td>\n",
       "      <td>2022-12-31 05:26:15</td>\n",
       "      <td>t3_zzggx1</td>\n",
       "      <td>0.0</td>\n",
       "      <td>https://reddit.com/r/AmItheAsshole/comments/zz...</td>\n",
       "      <td>155188.0</td>\n",
       "      <td>...</td>\n",
       "      <td>0.088706</td>\n",
       "      <td>-0.047401</td>\n",
       "      <td>-0.003959</td>\n",
       "      <td>0.012305</td>\n",
       "      <td>0.011048</td>\n",
       "      <td>-0.028727</td>\n",
       "      <td>1.725000</td>\n",
       "      <td>0.000075</td>\n",
       "      <td>0.000679</td>\n",
       "      <td>ESH</td>\n",
       "    </tr>\n",
       "    <tr>\n",
       "      <th>zzv1yg</th>\n",
       "      <td>zzv1yg</td>\n",
       "      <td>Not the A-hole</td>\n",
       "      <td>NTA.  To you all who says YTA.   I guess you n...</td>\n",
       "      <td>113.0</td>\n",
       "      <td>CakePhool</td>\n",
       "      <td>2022-12-31 15:01:47</td>\n",
       "      <td>t3_zzv1yg</td>\n",
       "      <td>0.0</td>\n",
       "      <td>https://reddit.com/r/AmItheAsshole/comments/zz...</td>\n",
       "      <td>41337.0</td>\n",
       "      <td>...</td>\n",
       "      <td>0.083971</td>\n",
       "      <td>-0.008252</td>\n",
       "      <td>-0.089400</td>\n",
       "      <td>-0.027112</td>\n",
       "      <td>0.024648</td>\n",
       "      <td>-0.066769</td>\n",
       "      <td>1.354167</td>\n",
       "      <td>0.000146</td>\n",
       "      <td>0.002073</td>\n",
       "      <td>N/A</td>\n",
       "    </tr>\n",
       "  </tbody>\n",
       "</table>\n",
       "<p>502 rows × 37 columns</p>\n",
       "</div>"
      ],
      "text/plain": [
       "              id    flair_text_x  \\\n",
       "id                                 \n",
       "1003glw  1003glw  Not the A-hole   \n",
       "1004c68  1004c68  Not the A-hole   \n",
       "1004qtg  1004qtg  Not the A-hole   \n",
       "100au6c  100au6c  Not the A-hole   \n",
       "100fzew  100fzew  Not the A-hole   \n",
       "...          ...             ...   \n",
       "zz2i40    zz2i40  Not the A-hole   \n",
       "zz3d1x    zz3d1x  Not the A-hole   \n",
       "zz3hxq    zz3hxq  Not the A-hole   \n",
       "zzggx1    zzggx1  Not the A-hole   \n",
       "zzv1yg    zzv1yg  Not the A-hole   \n",
       "\n",
       "                                                   comment  score_x  \\\n",
       "id                                                                    \n",
       "1003glw  All of the YTA people have apparently never ha...     91.0   \n",
       "1004c68  NTA I wanted to say ESH here but like the amou...    172.0   \n",
       "1004qtg  NTA - he’s almost gone. I get why they may thi...    340.0   \n",
       "100au6c  NAH. This literally happened with my parents a...    368.0   \n",
       "100fzew  Honestly, ESH.\\n\\nShe is undoubtedly acting li...   1019.0   \n",
       "...                                                    ...      ...   \n",
       "zz2i40   ESH. Christ, I'm exhausted just by *reading* a...    611.0   \n",
       "zz3d1x   NAH you can't make any sort of plans until thi...     23.0   \n",
       "zz3hxq   It sounds like an NAH situation. Your sis is a...      9.0   \n",
       "zzggx1   ESH \\n\\nI think you should have noted how over...     81.0   \n",
       "zzv1yg   NTA.  To you all who says YTA.   I guess you n...    113.0   \n",
       "\n",
       "               comment_author         comment_time comment_parent_id  \\\n",
       "id                                                                     \n",
       "1003glw  RevolutionaryCow7961  2022-12-31 23:53:10        t3_1003glw   \n",
       "1004c68           ReviewOk929  2022-12-31 22:04:30        t3_1004c68   \n",
       "1004qtg     One-Awareness4609  2022-12-31 22:01:03        t3_1004qtg   \n",
       "100au6c           OHRavenclaw  2023-01-01 03:49:20        t3_100au6c   \n",
       "100fzew       ButterMyParsnip  2023-01-01 09:29:35        t3_100fzew   \n",
       "...                       ...                  ...               ...   \n",
       "zz2i40           schoobydoo42  2022-12-30 15:09:56         t3_zz2i40   \n",
       "zz3d1x             GMUcovidta  2022-12-30 15:44:56         t3_zz3d1x   \n",
       "zz3hxq             drake_crus  2022-12-30 15:47:28         t3_zz3hxq   \n",
       "zzggx1       QuirkySyrup55947  2022-12-31 05:26:15         t3_zzggx1   \n",
       "zzv1yg              CakePhool  2022-12-31 15:01:47         t3_zzv1yg   \n",
       "\n",
       "         comment_depth                                  comment_permalink  \\\n",
       "id                                                                          \n",
       "1003glw            0.0  https://reddit.com/r/AmItheAsshole/comments/10...   \n",
       "1004c68            0.0  https://reddit.com/r/AmItheAsshole/comments/10...   \n",
       "1004qtg            0.0  https://reddit.com/r/AmItheAsshole/comments/10...   \n",
       "100au6c            0.0  https://reddit.com/r/AmItheAsshole/comments/10...   \n",
       "100fzew            0.0  https://reddit.com/r/AmItheAsshole/comments/10...   \n",
       "...                ...                                                ...   \n",
       "zz2i40             0.0  https://reddit.com/r/AmItheAsshole/comments/zz...   \n",
       "zz3d1x             0.0  https://reddit.com/r/AmItheAsshole/comments/zz...   \n",
       "zz3hxq             0.0  https://reddit.com/r/AmItheAsshole/comments/zz...   \n",
       "zzggx1             0.0  https://reddit.com/r/AmItheAsshole/comments/zz...   \n",
       "zzv1yg             0.0  https://reddit.com/r/AmItheAsshole/comments/zz...   \n",
       "\n",
       "         author_comment_karma  ...  sanctity_p care_sent fairness_sent  \\\n",
       "id                             ...                                       \n",
       "1003glw               25611.0  ...    0.094371 -0.018556     -0.050400   \n",
       "1004c68              505219.0  ...    0.086860 -0.061057      0.012990   \n",
       "1004qtg               40870.0  ...    0.097130 -0.041210     -0.021349   \n",
       "100au6c               14330.0  ...    0.091600  0.017206      0.095398   \n",
       "100fzew               23826.0  ...    0.082937 -0.082155     -0.001046   \n",
       "...                       ...  ...         ...       ...           ...   \n",
       "zz2i40               227249.0  ...    0.090593 -0.074027     -0.024696   \n",
       "zz3d1x               120710.0  ...    0.087545 -0.073962      0.002202   \n",
       "zz3hxq                 1880.0  ...    0.082756 -0.078129     -0.079027   \n",
       "zzggx1               155188.0  ...    0.088706 -0.047401     -0.003959   \n",
       "zzv1yg                41337.0  ...    0.083971 -0.008252     -0.089400   \n",
       "\n",
       "        loyalty_sent authority_sent sanctity_sent  moral_nonmoral_ratio  \\\n",
       "id                                                                        \n",
       "1003glw     0.016076      -0.014711     -0.092165              2.647059   \n",
       "1004c68     0.018468       0.023269     -0.034379              1.914286   \n",
       "1004qtg     0.020856      -0.015926     -0.059306              1.283951   \n",
       "100au6c     0.077215       0.093847      0.031324              1.586957   \n",
       "100fzew     0.005085       0.020199     -0.042476              1.490566   \n",
       "...              ...            ...           ...                   ...   \n",
       "zz2i40     -0.010918      -0.038933     -0.118472              1.287879   \n",
       "zz3d1x      0.001423      -0.013030      0.011936              1.657143   \n",
       "zz3hxq      0.026766      -0.040270     -0.073883              2.485714   \n",
       "zzggx1      0.012305       0.011048     -0.028727              1.725000   \n",
       "zzv1yg     -0.027112       0.024648     -0.066769              1.354167   \n",
       "\n",
       "            f_var  sent_var comment_label  \n",
       "id                                         \n",
       "1003glw  0.000224  0.001687           YTA  \n",
       "1004c68  0.000036  0.001407           N/A  \n",
       "1004qtg  0.000049  0.000906           N/A  \n",
       "100au6c  0.000106  0.001326           NAH  \n",
       "100fzew  0.000075  0.001743           ESH  \n",
       "...           ...       ...           ...  \n",
       "zz2i40   0.000153  0.001874           ESH  \n",
       "zz3d1x   0.000101  0.001192           NAH  \n",
       "zz3hxq   0.000070  0.002046           NAH  \n",
       "zzggx1   0.000075  0.000679           ESH  \n",
       "zzv1yg   0.000146  0.002073           N/A  \n",
       "\n",
       "[502 rows x 37 columns]"
      ]
     },
     "execution_count": 107,
     "metadata": {},
     "output_type": "execute_result"
    }
   ],
   "source": [
    "top_diff_label_comments"
   ]
  },
  {
   "cell_type": "code",
   "execution_count": null,
   "id": "4c168844-6b09-4afd-bb33-8012733b3c66",
   "metadata": {},
   "outputs": [],
   "source": [
    "top_posts_per_bin.to_csv('../data/top100comments.csv')"
   ]
  }
 ],
 "metadata": {
  "kernelspec": {
   "display_name": "nlp",
   "language": "python",
   "name": "nlp"
  },
  "language_info": {
   "codemirror_mode": {
    "name": "ipython",
    "version": 3
   },
   "file_extension": ".py",
   "mimetype": "text/x-python",
   "name": "python",
   "nbconvert_exporter": "python",
   "pygments_lexer": "ipython3",
   "version": "3.9.16"
  }
 },
 "nbformat": 4,
 "nbformat_minor": 5
}
