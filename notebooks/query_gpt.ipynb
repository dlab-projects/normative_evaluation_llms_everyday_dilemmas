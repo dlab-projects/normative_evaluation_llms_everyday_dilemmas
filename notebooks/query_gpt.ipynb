{
 "cells": [
  {
   "cell_type": "code",
   "execution_count": 1,
   "id": "3ef7ff64-6213-468b-baf8-5cebb799c9c5",
   "metadata": {},
   "outputs": [],
   "source": [
    "import pandas as pd\n",
    "import tqdm\n",
    "import openai\n",
    "import nltk\n",
    "import os\n",
    "\n",
    "from pyprojroot import here\n",
    "from moral_foundations_llms import utils"
   ]
  },
  {
   "cell_type": "code",
   "execution_count": 2,
   "id": "fc498c5b-4980-4631-a057-3ff943a95ce3",
   "metadata": {},
   "outputs": [],
   "source": [
    "api_path = os.path.join(os.environ['HOME'], 'openai/api.txt')"
   ]
  },
  {
   "cell_type": "code",
   "execution_count": 3,
   "id": "6f8a65f4-5811-450a-b0f2-f0001d886c91",
   "metadata": {},
   "outputs": [],
   "source": [
    "with open(api_path, 'r') as f:\n",
    "    openai.api_key = f.read().strip()"
   ]
  },
  {
   "cell_type": "code",
   "execution_count": 4,
   "id": "13dc2f40-297e-48c4-9235-0423ecaca6b3",
   "metadata": {},
   "outputs": [],
   "source": [
    "df = pd.read_csv(here('data/aita_processed.csv'))"
   ]
  },
  {
   "cell_type": "code",
   "execution_count": 5,
   "id": "1943786b-66e7-4a9e-a5da-3afd4d2ae327",
   "metadata": {},
   "outputs": [],
   "source": [
    "failed = []\n",
    "responses = {}"
   ]
  },
  {
   "cell_type": "code",
   "execution_count": null,
   "id": "c04c2997-b768-40f2-b24a-41b839eeaa96",
   "metadata": {},
   "outputs": [
    {
     "name": "stderr",
     "output_type": "stream",
     "text": [
      "  1%|▍                                                      | 93/11355 [17:41<574:41:01, 183.70s/it]"
     ]
    },
    {
     "name": "stdout",
     "output_type": "stream",
     "text": [
      "Post 92, OpenAI API returned an API Error: Bad gateway. {\"error\":{\"code\":502,\"message\":\"Bad gateway.\",\"param\":null,\"type\":\"cf_bad_gateway\"}} 502 {'error': {'code': 502, 'message': 'Bad gateway.', 'param': None, 'type': 'cf_bad_gateway'}} {'Date': 'Wed, 09 Aug 2023 03:35:19 GMT', 'Content-Type': 'application/json', 'Content-Length': '84', 'Connection': 'keep-alive', 'X-Frame-Options': 'SAMEORIGIN', 'Referrer-Policy': 'same-origin', 'Cache-Control': 'private, max-age=0, no-store, no-cache, must-revalidate, post-check=0, pre-check=0', 'Expires': 'Thu, 01 Jan 1970 00:00:01 GMT', 'Server': 'cloudflare', 'CF-RAY': '7f3ce424c8db1739-SJC', 'alt-svc': 'h3=\":443\"; ma=86400'}\n"
     ]
    },
    {
     "name": "stderr",
     "output_type": "stream",
     "text": [
      "  4%|██▎                                                 | 495/11355 [1:00:12<551:12:57, 182.72s/it]"
     ]
    },
    {
     "name": "stdout",
     "output_type": "stream",
     "text": [
      "Post 494, OpenAI API returned an API Error: Bad gateway. {\"error\":{\"code\":502,\"message\":\"Bad gateway.\",\"param\":null,\"type\":\"cf_bad_gateway\"}} 502 {'error': {'code': 502, 'message': 'Bad gateway.', 'param': None, 'type': 'cf_bad_gateway'}} {'Date': 'Wed, 09 Aug 2023 04:17:50 GMT', 'Content-Type': 'application/json', 'Content-Length': '84', 'Connection': 'keep-alive', 'X-Frame-Options': 'SAMEORIGIN', 'Referrer-Policy': 'same-origin', 'Cache-Control': 'private, max-age=0, no-store, no-cache, must-revalidate, post-check=0, pre-check=0', 'Expires': 'Thu, 01 Jan 1970 00:00:01 GMT', 'Server': 'cloudflare', 'CF-RAY': '7f3d226e0fd71563-SJC', 'alt-svc': 'h3=\":443\"; ma=86400'}\n"
     ]
    },
    {
     "name": "stderr",
     "output_type": "stream",
     "text": [
      "  6%|███                                                   | 634/11355 [1:11:08<14:27:42,  4.86s/it]"
     ]
    }
   ],
   "source": [
    "for post in tqdm.tqdm(range(df.shape[0])):\n",
    "    n_sentences = len(nltk.sent_tokenize(df.iloc[post]['top_comment']))\n",
    "    system_message = utils.create_system_message(identity=\"\", length=f\"{n_sentences} sentences\")\n",
    "    try:\n",
    "        response = openai.ChatCompletion.create(\n",
    "            model='gpt-3.5-turbo',\n",
    "            messages=[\n",
    "                {\"role\": \"system\", \"content\": system_message},\n",
    "                {\"role\": \"user\", \"content\": df['selftext'].iloc[post]}\n",
    "            ],\n",
    "            temperature=0.4)\n",
    "    except openai.error.APIError as e:\n",
    "        print(f\"Post {post}, OpenAI API returned an API Error: {e}\")\n",
    "        failed.append(post)\n",
    "        continue\n",
    "    except openai.error.APIConnectionError as e:\n",
    "        print(f\"Post {post}, OpenAI API request failed to connect: {e}\")\n",
    "        failed.append(post)\n",
    "        continue\n",
    "    except openai.error.ServiceUnavailableError as e:\n",
    "        print(f\"Post {post}, OpenAI API returned a Service Unavailable Error: {e}\")\n",
    "        failed.append(post)\n",
    "        continue\n",
    "        \n",
    "    answer = response['choices'][0]['message']['content']\n",
    "    responses[post] = answer\n",
    "    gpt_dilemma = answer.split('Verdict')[0].replace('Dilemma:', '').strip()\n",
    "    gpt_label = answer.split('Verdict: ')[1][:3]\n",
    "    gpt_reason = answer.split('Reasoning:')[-1].strip()\n",
    "    df.loc[post, 'gpt_dilemma'] = gpt_dilemma\n",
    "    df.loc[post, 'gpt_label'] = gpt_label\n",
    "    df.loc[post, 'gpt_reason'] = gpt_reason"
   ]
  },
  {
   "cell_type": "code",
   "execution_count": 8,
   "id": "a1fcdda4-89ab-4638-a496-f3b12e6583aa",
   "metadata": {},
   "outputs": [
    {
     "data": {
      "text/plain": [
       "[92, 494]"
      ]
     },
     "execution_count": 8,
     "metadata": {},
     "output_type": "execute_result"
    }
   ],
   "source": [
    "failed"
   ]
  },
  {
   "cell_type": "code",
   "execution_count": 11,
   "id": "7c088a5b-44be-450c-a963-9c004b507cf2",
   "metadata": {},
   "outputs": [
    {
     "data": {
      "text/plain": [
       "632"
      ]
     },
     "execution_count": 11,
     "metadata": {},
     "output_type": "execute_result"
    }
   ],
   "source": [
    "len(responses)"
   ]
  },
  {
   "cell_type": "code",
   "execution_count": 12,
   "id": "8c04f13f-6ab1-43d4-b889-0dd6f5a08615",
   "metadata": {},
   "outputs": [
    {
     "data": {
      "text/plain": [
       "10723"
      ]
     },
     "execution_count": 12,
     "metadata": {},
     "output_type": "execute_result"
    }
   ],
   "source": [
    "df['gpt_label'].isna().sum()"
   ]
  },
  {
   "cell_type": "code",
   "execution_count": null,
   "id": "3f2d17bf-77d5-409e-a3a8-d18f14451cd7",
   "metadata": {},
   "outputs": [],
   "source": []
  }
 ],
 "metadata": {
  "kernelspec": {
   "display_name": "nlp",
   "language": "python",
   "name": "nlp"
  },
  "language_info": {
   "codemirror_mode": {
    "name": "ipython",
    "version": 3
   },
   "file_extension": ".py",
   "mimetype": "text/x-python",
   "name": "python",
   "nbconvert_exporter": "python",
   "pygments_lexer": "ipython3",
   "version": "3.10.10"
  }
 },
 "nbformat": 4,
 "nbformat_minor": 5
}
