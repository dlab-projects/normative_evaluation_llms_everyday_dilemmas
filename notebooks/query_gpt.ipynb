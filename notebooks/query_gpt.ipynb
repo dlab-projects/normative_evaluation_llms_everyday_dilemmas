{
 "cells": [
  {
   "cell_type": "code",
   "execution_count": 1,
   "id": "3ef7ff64-6213-468b-baf8-5cebb799c9c5",
   "metadata": {},
   "outputs": [],
   "source": [
    "import utils\n",
    "import pandas as pd\n",
    "import tqdm\n",
    "import openai\n",
    "import nltk"
   ]
  },
  {
   "cell_type": "code",
   "execution_count": 2,
   "id": "fc498c5b-4980-4631-a057-3ff943a95ce3",
   "metadata": {},
   "outputs": [],
   "source": [
    "api_path = '/Users/psachdeva/openai/api.txt'"
   ]
  },
  {
   "cell_type": "code",
   "execution_count": 3,
   "id": "6f8a65f4-5811-450a-b0f2-f0001d886c91",
   "metadata": {},
   "outputs": [],
   "source": [
    "with open(api_path, 'r') as f:\n",
    "    openai.api_key = f.read().strip()"
   ]
  },
  {
   "cell_type": "code",
   "execution_count": 4,
   "id": "13dc2f40-297e-48c4-9235-0423ecaca6b3",
   "metadata": {},
   "outputs": [],
   "source": [
    "df = pd.read_csv('aita_full.csv')"
   ]
  },
  {
   "cell_type": "code",
   "execution_count": 5,
   "id": "43a7b88b-e709-4f51-b09c-8bf3d497ac21",
   "metadata": {},
   "outputs": [],
   "source": [
    "to_drop_flairs = ['UPDATE',\n",
    "                  'TL;DR',\n",
    "                  'Best of 2022',\n",
    "                  'Open Forum',\n",
    "                  'META',\n",
    "                  'Upcoming Talk!!!']"
   ]
  },
  {
   "cell_type": "code",
   "execution_count": 6,
   "id": "0df398f7-b7cd-42bf-bd8d-2b1356e6cc76",
   "metadata": {},
   "outputs": [],
   "source": [
    "df = df[~df['flair_text'].isin(to_drop_flairs)].reset_index(drop=True).copy()"
   ]
  },
  {
   "cell_type": "code",
   "execution_count": 7,
   "id": "1bd57cc3-3147-4e06-a93f-60643966b23b",
   "metadata": {},
   "outputs": [],
   "source": [
    "df['true_label'] = df['flair_text'].replace({\n",
    "    'Asshole': 'YTA',\n",
    "    'Not the A-hole': 'NTA',\n",
    "    'Everyone Sucks': 'ESH',\n",
    "    'No A-holes here': 'NAH',\n",
    "    'Not enough info': 'INFO'})"
   ]
  },
  {
   "cell_type": "code",
   "execution_count": 8,
   "id": "3be05128-f856-47f9-90e4-533dc64640ec",
   "metadata": {},
   "outputs": [],
   "source": [
    "df['gpt_dilemma'] = ''\n",
    "df['gpt_label'] = ''\n",
    "df['gpt_reason'] =  ''"
   ]
  },
  {
   "cell_type": "code",
   "execution_count": 9,
   "id": "f67f00de-c2c8-4960-913c-3dd60bc6048a",
   "metadata": {},
   "outputs": [],
   "source": [
    "n_posts = 1500"
   ]
  },
  {
   "cell_type": "code",
   "execution_count": 10,
   "id": "1943786b-66e7-4a9e-a5da-3afd4d2ae327",
   "metadata": {},
   "outputs": [],
   "source": [
    "failed = []"
   ]
  },
  {
   "cell_type": "code",
   "execution_count": 11,
   "id": "c04c2997-b768-40f2-b24a-41b839eeaa96",
   "metadata": {},
   "outputs": [
    {
     "name": "stderr",
     "output_type": "stream",
     "text": [
      "100%|█████████████████████████████████████████████████████████| 1500/1500 [2:00:24<00:00,  4.82s/it]\n"
     ]
    }
   ],
   "source": [
    "for post in tqdm.tqdm(range(1500)):\n",
    "    n_sentences = len(nltk.sent_tokenize(df.iloc[post]['top_comment']))\n",
    "    system_message = utils.create_system_message(identity=\"\", length=f\"{n_sentences} sentences\")\n",
    "    try:\n",
    "        response = openai.ChatCompletion.create(\n",
    "            model='gpt-3.5-turbo',\n",
    "            messages=[\n",
    "                {\"role\": \"system\", \"content\": system_message},\n",
    "                {\"role\": \"user\", \"content\": df['selftext'].iloc[post]}\n",
    "            ],\n",
    "            temperature=0.4)\n",
    "    except openai.error.APIError as e:\n",
    "        print(f\"Post {post}, OpenAI API returned an API Error: {e}\")\n",
    "        failed.append(post)\n",
    "        continue\n",
    "    except openai.error.APIConnectionError as e:\n",
    "        print(f\"Post {post}, OpenAI API request failed to connect: {e}\")\n",
    "        failed.append(post)\n",
    "        continue\n",
    "    except openai.error.ServiceUnavailableError as e:\n",
    "        print(f\"Post {post}, OpenAI API returned a Service Unavailable Error: {e}\")\n",
    "        failed.append(post)\n",
    "        continue\n",
    "        \n",
    "    answer = response['choices'][0]['message']['content']\n",
    "    gpt_dilemma = answer.split('Verdict')[0].replace('Dilemma:', '').strip()\n",
    "    gpt_label = answer.split('Verdict: ')[1][:3]\n",
    "    gpt_reason = answer.split('Reasoning:')[-1].strip()\n",
    "    df.loc[post, 'gpt_dilemma'] = gpt_dilemma\n",
    "    df.loc[post, 'gpt_label'] = gpt_label\n",
    "    df.loc[post, 'gpt_reason'] = gpt_reason"
   ]
  },
  {
   "cell_type": "code",
   "execution_count": 19,
   "id": "f68a9a9c-35df-4f1d-a461-08050020e554",
   "metadata": {},
   "outputs": [],
   "source": [
    "yta_guess = df['true_label'].isna() & df['top_comment'].str.contains('YTA|yta|Yta')\n",
    "nta_guess = df['true_label'].isna() & df['top_comment'].str.contains('NTA|nta|Nta')\n",
    "nah_guess = df['true_label'].isna() & df['top_comment'].str.contains('NAH|nah')\n",
    "esh_guess = df['true_label'].isna() & df['top_comment'].str.contains('ESH|esh|Esh')\n",
    "info_guess = df['true_label'].isna() & df['top_comment'].str.contains('INFO |info ')"
   ]
  },
  {
   "cell_type": "code",
   "execution_count": 22,
   "id": "0f505c94-4a81-423d-a7f8-f5b419a7e67d",
   "metadata": {},
   "outputs": [
    {
     "data": {
      "text/plain": [
       "0        0\n",
       "1        1\n",
       "2        0\n",
       "3        0\n",
       "4        1\n",
       "        ..\n",
       "13060    0\n",
       "13061    0\n",
       "13062    0\n",
       "13063    0\n",
       "13064    1\n",
       "Length: 13065, dtype: int64"
      ]
     },
     "execution_count": 22,
     "metadata": {},
     "output_type": "execute_result"
    }
   ],
   "source": []
  },
  {
   "cell_type": "code",
   "execution_count": 165,
   "id": "3f7a3e13-f73e-4e6c-ae23-047506891a84",
   "metadata": {},
   "outputs": [],
   "source": [
    "df.loc[yta_guess, 'true_label'] = 'YTA'\n",
    "df.loc[nta_guess, 'true_label'] = 'NTA'\n",
    "df.loc[esh_guess, 'true_label'] = 'ESH'\n",
    "df.loc[info_guess, 'true_label'] = 'INF'\n",
    "df.loc[nah_guess, 'true_label'] = 'NAH'"
   ]
  },
  {
   "cell_type": "code",
   "execution_count": 170,
   "id": "3155f8bf-6bb8-4643-933b-dc8ac0a2f101",
   "metadata": {},
   "outputs": [],
   "source": [
    "df['true_label'] = df['true_label'].replace({'INFO': 'INF'})"
   ]
  },
  {
   "cell_type": "code",
   "execution_count": 171,
   "id": "4593b567-cad5-46c3-8c04-98fb40b38a15",
   "metadata": {},
   "outputs": [],
   "source": [
    "sub = df.iloc[:1500]\n",
    "sub = sub[~sub['true_label'].isna()]"
   ]
  },
  {
   "cell_type": "code",
   "execution_count": 176,
   "id": "f507efea-9869-4ae8-9255-78a60281678c",
   "metadata": {},
   "outputs": [
    {
     "data": {
      "text/plain": [
       "\"Both the OP and Anthony are at fault in this situation. While it is understandable that the OP's wife may feel uncomfortable with the picture, it is not fair for her to demand that Anthony remove it completely or move it to a place where she cannot see it. It is Anthony's house, and he has the right to display sentimental items that hold meaning to him and his wife. However, Anthony could have been more empathetic and understanding towards the OP's wife's feelings and offered to find a compromise, such as moving the picture to a less prominent location. The OP is also at fault for not effectively communicating with both parties and finding a solution that respects everyone's boundaries and feelings. Ultimately, all parties involved should have been more considerate and open to finding a middle ground.\""
      ]
     },
     "execution_count": 176,
     "metadata": {},
     "output_type": "execute_result"
    }
   ],
   "source": [
    "sub['gpt_reason'].iloc[0]"
   ]
  },
  {
   "cell_type": "code",
   "execution_count": 196,
   "id": "76e0916b-0cfc-43f1-bf58-8a8fd43071cf",
   "metadata": {},
   "outputs": [
    {
     "name": "stdout",
     "output_type": "stream",
     "text": [
      "The OP and his wife are temporarily living with the OP's friend, Anthony. The wife is uncomfortable with a framed picture of Anthony and his wife kissing hanging on the wall and asks the OP to talk to Anthony about it. Anthony refuses to move the picture, causing tension between the OP, his wife, and Anthony.\n"
     ]
    }
   ],
   "source": [
    "print(df.iloc[0].gpt_dilemma)"
   ]
  },
  {
   "cell_type": "code",
   "execution_count": null,
   "id": "c19ce21b-0f99-4410-acc9-50aefff3c449",
   "metadata": {},
   "outputs": [],
   "source": [
    "df.iloc"
   ]
  },
  {
   "cell_type": "code",
   "execution_count": 185,
   "id": "9cba4f6c-e7e3-48cc-a4ac-c81b1d7e03b3",
   "metadata": {},
   "outputs": [],
   "source": [
    "sub.to_excel('aita.xlsx', index=False)"
   ]
  },
  {
   "cell_type": "code",
   "execution_count": 199,
   "id": "2af88efe-5c6a-4042-9b32-9761a3e7f019",
   "metadata": {},
   "outputs": [
    {
     "data": {
      "text/plain": [
       "0.6136690647482015"
      ]
     },
     "execution_count": 199,
     "metadata": {},
     "output_type": "execute_result"
    }
   ],
   "source": [
    "(sub['true_label'] == sub['gpt_label']).mean()"
   ]
  },
  {
   "cell_type": "code",
   "execution_count": 178,
   "id": "a8a8ad74-e248-43a2-927c-cc1b0684e3be",
   "metadata": {},
   "outputs": [
    {
     "data": {
      "text/plain": [
       "NTA    0.687259\n",
       "YTA    0.156371\n",
       "ESH    0.108108\n",
       "INF    0.040541\n",
       "NAH    0.007722\n",
       "Name: gpt_label, dtype: float64"
      ]
     },
     "execution_count": 178,
     "metadata": {},
     "output_type": "execute_result"
    }
   ],
   "source": [
    "sub[sub['true_label'] == 'NTA']['gpt_label'].value_counts(normalize=True)"
   ]
  },
  {
   "cell_type": "code",
   "execution_count": 179,
   "id": "d217e525-5203-401e-a960-cee123f10b27",
   "metadata": {},
   "outputs": [
    {
     "data": {
      "text/plain": [
       "YTA    0.556561\n",
       "NTA    0.244344\n",
       "ESH    0.122172\n",
       "INF    0.076923\n",
       "Name: gpt_label, dtype: float64"
      ]
     },
     "execution_count": 179,
     "metadata": {},
     "output_type": "execute_result"
    }
   ],
   "source": [
    "sub[sub['true_label'] == 'YTA']['gpt_label'].value_counts(normalize=True)"
   ]
  },
  {
   "cell_type": "code",
   "execution_count": 180,
   "id": "8830561c-e69e-4bea-a68d-99d43eea6d22",
   "metadata": {},
   "outputs": [
    {
     "data": {
      "text/plain": [
       "NTA    0.745324\n",
       "YTA    0.158993\n",
       "NAH    0.033813\n",
       "ESH    0.033813\n",
       "INF    0.028058\n",
       "Name: true_label, dtype: float64"
      ]
     },
     "execution_count": 180,
     "metadata": {},
     "output_type": "execute_result"
    }
   ],
   "source": [
    "sub['true_label'].value_counts(normalize=True)"
   ]
  },
  {
   "cell_type": "code",
   "execution_count": 181,
   "id": "367e2335-444a-4548-b114-cf83c6783355",
   "metadata": {},
   "outputs": [
    {
     "data": {
      "text/plain": [
       "NTA    0.594964\n",
       "YTA    0.235252\n",
       "ESH    0.113669\n",
       "INF    0.048921\n",
       "NAH    0.007194\n",
       "Name: gpt_label, dtype: float64"
      ]
     },
     "execution_count": 181,
     "metadata": {},
     "output_type": "execute_result"
    }
   ],
   "source": [
    "sub['gpt_label'].value_counts(normalize=True)"
   ]
  },
  {
   "cell_type": "code",
   "execution_count": 172,
   "id": "8e8af2b0-5593-4971-b0d1-8cdf5eec6599",
   "metadata": {},
   "outputs": [
    {
     "data": {
      "text/plain": [
       "true_label  gpt_label\n",
       "NTA         NTA          0.512230\n",
       "            YTA          0.116547\n",
       "YTA         YTA          0.088489\n",
       "NTA         ESH          0.080576\n",
       "YTA         NTA          0.038849\n",
       "NTA         INF          0.030216\n",
       "YTA         ESH          0.019424\n",
       "NAH         NTA          0.017266\n",
       "INF         NTA          0.017266\n",
       "ESH         YTA          0.013669\n",
       "YTA         INF          0.012230\n",
       "NAH         YTA          0.010072\n",
       "ESH         ESH          0.010072\n",
       "            NTA          0.009353\n",
       "INF         YTA          0.006475\n",
       "NTA         NAH          0.005755\n",
       "NAH         INF          0.004317\n",
       "INF         ESH          0.002878\n",
       "NAH         NAH          0.001439\n",
       "INF         INF          0.001439\n",
       "NAH         ESH          0.000719\n",
       "ESH         INF          0.000719\n",
       "dtype: float64"
      ]
     },
     "execution_count": 172,
     "metadata": {},
     "output_type": "execute_result"
    }
   ],
   "source": [
    "sub[['true_label', 'gpt_label']].value_counts(normalize=True)"
   ]
  },
  {
   "cell_type": "code",
   "execution_count": 97,
   "id": "6a5e521a-c0b4-40ef-a7c0-f7969ff5570e",
   "metadata": {},
   "outputs": [
    {
     "name": "stderr",
     "output_type": "stream",
     "text": [
      "/var/folders/6h/ms_dpkl536d1w6qqd_wnckrw0000gn/T/ipykernel_71332/2241315711.py:1: UserWarning: Boolean Series key will be reindexed to match DataFrame index.\n",
      "  df[(df[df['true_label'].isna()]['top_comment'].str.contains('NTA') & df[df['true_label'].isna()]['top_comment'].str.contains('YTA'))]\n"
     ]
    },
    {
     "ename": "IndexingError",
     "evalue": "Unalignable boolean Series provided as indexer (index of the boolean Series and of the indexed object do not match).",
     "output_type": "error",
     "traceback": [
      "\u001b[0;31m---------------------------------------------------------------------------\u001b[0m",
      "\u001b[0;31mIndexingError\u001b[0m                             Traceback (most recent call last)",
      "Input \u001b[0;32mIn [97]\u001b[0m, in \u001b[0;36m<cell line: 1>\u001b[0;34m()\u001b[0m\n\u001b[0;32m----> 1\u001b[0m \u001b[43mdf\u001b[49m\u001b[43m[\u001b[49m\u001b[43m(\u001b[49m\u001b[43mdf\u001b[49m\u001b[43m[\u001b[49m\u001b[43mdf\u001b[49m\u001b[43m[\u001b[49m\u001b[38;5;124;43m'\u001b[39;49m\u001b[38;5;124;43mtrue_label\u001b[39;49m\u001b[38;5;124;43m'\u001b[39;49m\u001b[43m]\u001b[49m\u001b[38;5;241;43m.\u001b[39;49m\u001b[43misna\u001b[49m\u001b[43m(\u001b[49m\u001b[43m)\u001b[49m\u001b[43m]\u001b[49m\u001b[43m[\u001b[49m\u001b[38;5;124;43m'\u001b[39;49m\u001b[38;5;124;43mtop_comment\u001b[39;49m\u001b[38;5;124;43m'\u001b[39;49m\u001b[43m]\u001b[49m\u001b[38;5;241;43m.\u001b[39;49m\u001b[43mstr\u001b[49m\u001b[38;5;241;43m.\u001b[39;49m\u001b[43mcontains\u001b[49m\u001b[43m(\u001b[49m\u001b[38;5;124;43m'\u001b[39;49m\u001b[38;5;124;43mNTA\u001b[39;49m\u001b[38;5;124;43m'\u001b[39;49m\u001b[43m)\u001b[49m\u001b[43m \u001b[49m\u001b[38;5;241;43m&\u001b[39;49m\u001b[43m \u001b[49m\u001b[43mdf\u001b[49m\u001b[43m[\u001b[49m\u001b[43mdf\u001b[49m\u001b[43m[\u001b[49m\u001b[38;5;124;43m'\u001b[39;49m\u001b[38;5;124;43mtrue_label\u001b[39;49m\u001b[38;5;124;43m'\u001b[39;49m\u001b[43m]\u001b[49m\u001b[38;5;241;43m.\u001b[39;49m\u001b[43misna\u001b[49m\u001b[43m(\u001b[49m\u001b[43m)\u001b[49m\u001b[43m]\u001b[49m\u001b[43m[\u001b[49m\u001b[38;5;124;43m'\u001b[39;49m\u001b[38;5;124;43mtop_comment\u001b[39;49m\u001b[38;5;124;43m'\u001b[39;49m\u001b[43m]\u001b[49m\u001b[38;5;241;43m.\u001b[39;49m\u001b[43mstr\u001b[49m\u001b[38;5;241;43m.\u001b[39;49m\u001b[43mcontains\u001b[49m\u001b[43m(\u001b[49m\u001b[38;5;124;43m'\u001b[39;49m\u001b[38;5;124;43mYTA\u001b[39;49m\u001b[38;5;124;43m'\u001b[39;49m\u001b[43m)\u001b[49m\u001b[43m)\u001b[49m\u001b[43m]\u001b[49m\n",
      "File \u001b[0;32m/opt/homebrew/Caskroom/miniforge/base/envs/nlp/lib/python3.9/site-packages/pandas/core/frame.py:3796\u001b[0m, in \u001b[0;36mDataFrame.__getitem__\u001b[0;34m(self, key)\u001b[0m\n\u001b[1;32m   3794\u001b[0m \u001b[38;5;66;03m# Do we have a (boolean) 1d indexer?\u001b[39;00m\n\u001b[1;32m   3795\u001b[0m \u001b[38;5;28;01mif\u001b[39;00m com\u001b[38;5;241m.\u001b[39mis_bool_indexer(key):\n\u001b[0;32m-> 3796\u001b[0m     \u001b[38;5;28;01mreturn\u001b[39;00m \u001b[38;5;28;43mself\u001b[39;49m\u001b[38;5;241;43m.\u001b[39;49m\u001b[43m_getitem_bool_array\u001b[49m\u001b[43m(\u001b[49m\u001b[43mkey\u001b[49m\u001b[43m)\u001b[49m\n\u001b[1;32m   3798\u001b[0m \u001b[38;5;66;03m# We are left with two options: a single key, and a collection of keys,\u001b[39;00m\n\u001b[1;32m   3799\u001b[0m \u001b[38;5;66;03m# We interpret tuples as collections only for non-MultiIndex\u001b[39;00m\n\u001b[1;32m   3800\u001b[0m is_single_key \u001b[38;5;241m=\u001b[39m \u001b[38;5;28misinstance\u001b[39m(key, \u001b[38;5;28mtuple\u001b[39m) \u001b[38;5;129;01mor\u001b[39;00m \u001b[38;5;129;01mnot\u001b[39;00m is_list_like(key)\n",
      "File \u001b[0;32m/opt/homebrew/Caskroom/miniforge/base/envs/nlp/lib/python3.9/site-packages/pandas/core/frame.py:3849\u001b[0m, in \u001b[0;36mDataFrame._getitem_bool_array\u001b[0;34m(self, key)\u001b[0m\n\u001b[1;32m   3843\u001b[0m     \u001b[38;5;28;01mraise\u001b[39;00m \u001b[38;5;167;01mValueError\u001b[39;00m(\n\u001b[1;32m   3844\u001b[0m         \u001b[38;5;124mf\u001b[39m\u001b[38;5;124m\"\u001b[39m\u001b[38;5;124mItem wrong length \u001b[39m\u001b[38;5;132;01m{\u001b[39;00m\u001b[38;5;28mlen\u001b[39m(key)\u001b[38;5;132;01m}\u001b[39;00m\u001b[38;5;124m instead of \u001b[39m\u001b[38;5;132;01m{\u001b[39;00m\u001b[38;5;28mlen\u001b[39m(\u001b[38;5;28mself\u001b[39m\u001b[38;5;241m.\u001b[39mindex)\u001b[38;5;132;01m}\u001b[39;00m\u001b[38;5;124m.\u001b[39m\u001b[38;5;124m\"\u001b[39m\n\u001b[1;32m   3845\u001b[0m     )\n\u001b[1;32m   3847\u001b[0m \u001b[38;5;66;03m# check_bool_indexer will throw exception if Series key cannot\u001b[39;00m\n\u001b[1;32m   3848\u001b[0m \u001b[38;5;66;03m# be reindexed to match DataFrame rows\u001b[39;00m\n\u001b[0;32m-> 3849\u001b[0m key \u001b[38;5;241m=\u001b[39m \u001b[43mcheck_bool_indexer\u001b[49m\u001b[43m(\u001b[49m\u001b[38;5;28;43mself\u001b[39;49m\u001b[38;5;241;43m.\u001b[39;49m\u001b[43mindex\u001b[49m\u001b[43m,\u001b[49m\u001b[43m \u001b[49m\u001b[43mkey\u001b[49m\u001b[43m)\u001b[49m\n\u001b[1;32m   3850\u001b[0m indexer \u001b[38;5;241m=\u001b[39m key\u001b[38;5;241m.\u001b[39mnonzero()[\u001b[38;5;241m0\u001b[39m]\n\u001b[1;32m   3851\u001b[0m \u001b[38;5;28;01mreturn\u001b[39;00m \u001b[38;5;28mself\u001b[39m\u001b[38;5;241m.\u001b[39m_take_with_is_copy(indexer, axis\u001b[38;5;241m=\u001b[39m\u001b[38;5;241m0\u001b[39m)\n",
      "File \u001b[0;32m/opt/homebrew/Caskroom/miniforge/base/envs/nlp/lib/python3.9/site-packages/pandas/core/indexing.py:2548\u001b[0m, in \u001b[0;36mcheck_bool_indexer\u001b[0;34m(index, key)\u001b[0m\n\u001b[1;32m   2546\u001b[0m indexer \u001b[38;5;241m=\u001b[39m result\u001b[38;5;241m.\u001b[39mindex\u001b[38;5;241m.\u001b[39mget_indexer_for(index)\n\u001b[1;32m   2547\u001b[0m \u001b[38;5;28;01mif\u001b[39;00m \u001b[38;5;241m-\u001b[39m\u001b[38;5;241m1\u001b[39m \u001b[38;5;129;01min\u001b[39;00m indexer:\n\u001b[0;32m-> 2548\u001b[0m     \u001b[38;5;28;01mraise\u001b[39;00m IndexingError(\n\u001b[1;32m   2549\u001b[0m         \u001b[38;5;124m\"\u001b[39m\u001b[38;5;124mUnalignable boolean Series provided as \u001b[39m\u001b[38;5;124m\"\u001b[39m\n\u001b[1;32m   2550\u001b[0m         \u001b[38;5;124m\"\u001b[39m\u001b[38;5;124mindexer (index of the boolean Series and of \u001b[39m\u001b[38;5;124m\"\u001b[39m\n\u001b[1;32m   2551\u001b[0m         \u001b[38;5;124m\"\u001b[39m\u001b[38;5;124mthe indexed object do not match).\u001b[39m\u001b[38;5;124m\"\u001b[39m\n\u001b[1;32m   2552\u001b[0m     )\n\u001b[1;32m   2554\u001b[0m result \u001b[38;5;241m=\u001b[39m result\u001b[38;5;241m.\u001b[39mtake(indexer)\n\u001b[1;32m   2556\u001b[0m \u001b[38;5;66;03m# fall through for boolean\u001b[39;00m\n",
      "\u001b[0;31mIndexingError\u001b[0m: Unalignable boolean Series provided as indexer (index of the boolean Series and of the indexed object do not match)."
     ]
    }
   ],
   "source": [
    "df[(df[df['true_label'].isna()]['top_comment'].str.contains('NTA')) & df[df['true_label'].isna()]['top_comment'].str.contains('YTA'))]"
   ]
  },
  {
   "cell_type": "code",
   "execution_count": 94,
   "id": "1041eb2b-416b-4148-8966-41a60f4010f6",
   "metadata": {},
   "outputs": [
    {
     "data": {
      "text/plain": [
       "185"
      ]
     },
     "execution_count": 94,
     "metadata": {},
     "output_type": "execute_result"
    }
   ],
   "source": [
    "df[df['true_label'].isna()]['top_comment'].str.contains('INFO').sum()"
   ]
  },
  {
   "cell_type": "code",
   "execution_count": 76,
   "id": "8433e6b7-6dae-4b5c-a0d5-cad7b6199166",
   "metadata": {},
   "outputs": [],
   "source": [
    "df.iloc[:1500].to_csv('aita_w_gpt.csv', index=False)"
   ]
  },
  {
   "cell_type": "code",
   "execution_count": null,
   "id": "b35f64fe-22c8-4c51-bd0d-0f051267b86f",
   "metadata": {},
   "outputs": [],
   "source": [
    "print(answer)"
   ]
  },
  {
   "cell_type": "code",
   "execution_count": 35,
   "id": "603f1416-8c41-4b33-92fb-6ec9cd805f99",
   "metadata": {},
   "outputs": [
    {
     "data": {
      "text/plain": [
       "\"OP's mother slept with OP's friend without knowing it was OP's mother, and OP is upset and has cut off communication with both their mother and friend.\""
      ]
     },
     "execution_count": 35,
     "metadata": {},
     "output_type": "execute_result"
    }
   ],
   "source": [
    "answer.split('Verdict')[0].replace('Dilemma:', '').strip()"
   ]
  },
  {
   "cell_type": "code",
   "execution_count": 44,
   "id": "bdf56793-5219-4ba3-a2cb-3af926d4dc6e",
   "metadata": {},
   "outputs": [
    {
     "data": {
      "text/plain": [
       "'YTA'"
      ]
     },
     "execution_count": 44,
     "metadata": {},
     "output_type": "execute_result"
    }
   ],
   "source": [
    "answer.split('Verdict: ')[1][:3]"
   ]
  },
  {
   "cell_type": "code",
   "execution_count": 49,
   "id": "ee2e7a52-550f-4eb3-ac39-6fb808d4e53d",
   "metadata": {},
   "outputs": [],
   "source": [
    "df.iloc[:500].to_csv('aita_w_gpt.csv', index=False)"
   ]
  },
  {
   "cell_type": "code",
   "execution_count": 50,
   "id": "60a3c548-d212-4b53-9a30-84c459e6eed0",
   "metadata": {},
   "outputs": [
    {
     "data": {
      "text/html": [
       "<div>\n",
       "<style scoped>\n",
       "    .dataframe tbody tr th:only-of-type {\n",
       "        vertical-align: middle;\n",
       "    }\n",
       "\n",
       "    .dataframe tbody tr th {\n",
       "        vertical-align: top;\n",
       "    }\n",
       "\n",
       "    .dataframe thead th {\n",
       "        text-align: right;\n",
       "    }\n",
       "</style>\n",
       "<table border=\"1\" class=\"dataframe\">\n",
       "  <thead>\n",
       "    <tr style=\"text-align: right;\">\n",
       "      <th></th>\n",
       "      <th>submission_id</th>\n",
       "      <th>title</th>\n",
       "      <th>selftext</th>\n",
       "      <th>created_utc</th>\n",
       "      <th>permalink</th>\n",
       "      <th>score</th>\n",
       "      <th>flair_text</th>\n",
       "      <th>top_comment</th>\n",
       "      <th>true_label</th>\n",
       "      <th>gpt_dilemma</th>\n",
       "      <th>gpt_label</th>\n",
       "      <th>gpt_reason</th>\n",
       "    </tr>\n",
       "  </thead>\n",
       "  <tbody>\n",
       "    <tr>\n",
       "      <th>0</th>\n",
       "      <td>yiplwk</td>\n",
       "      <td>AITA for asking my friend to move a picture of...</td>\n",
       "      <td>\\n\\nMe (M32) and my wife, Dahlia (F28) lost ou...</td>\n",
       "      <td>1667251988</td>\n",
       "      <td>/r/AmItheAsshole/comments/yiplwk/aita_for_aski...</td>\n",
       "      <td>16582</td>\n",
       "      <td>Asshole</td>\n",
       "      <td>YTA Let me guess, the issues you had staying w...</td>\n",
       "      <td>YTA</td>\n",
       "      <td>The OP and his wife are temporarily living wit...</td>\n",
       "      <td>ESH</td>\n",
       "      <td>Both the OP and Anthony are at fault in this s...</td>\n",
       "    </tr>\n",
       "    <tr>\n",
       "      <th>1</th>\n",
       "      <td>yiv572</td>\n",
       "      <td>AITA for asking my husband to stay with me whi...</td>\n",
       "      <td>Throwaway my family knows my account. I'll get...</td>\n",
       "      <td>1667266450</td>\n",
       "      <td>/r/AmItheAsshole/comments/yiv572/aita_for_aski...</td>\n",
       "      <td>4079</td>\n",
       "      <td>NaN</td>\n",
       "      <td>YTA you’re pregnant, not made of glass. You’ll...</td>\n",
       "      <td>NaN</td>\n",
       "      <td>The OP is 7 months pregnant and cannot travel ...</td>\n",
       "      <td>NTA</td>\n",
       "      <td>The OP is not the asshole in this scenario. Be...</td>\n",
       "    </tr>\n",
       "    <tr>\n",
       "      <th>2</th>\n",
       "      <td>yimgaf</td>\n",
       "      <td>AITA for telling my SIL to stop talking about ...</td>\n",
       "      <td>My (37M) wife (37F) is pregnant with our first...</td>\n",
       "      <td>1667245059</td>\n",
       "      <td>/r/AmItheAsshole/comments/yimgaf/aita_for_tell...</td>\n",
       "      <td>9728</td>\n",
       "      <td>Not the A-hole</td>\n",
       "      <td>I'm going with NTA, if it wasn't for her remar...</td>\n",
       "      <td>NTA</td>\n",
       "      <td>The OP's wife is pregnant after years of ferti...</td>\n",
       "      <td>NTA</td>\n",
       "      <td>The OP tried to address the issue with their b...</td>\n",
       "    </tr>\n",
       "    <tr>\n",
       "      <th>3</th>\n",
       "      <td>yin7pf</td>\n",
       "      <td>AITA for wanting to meet my \"daughter\" after g...</td>\n",
       "      <td>Long story short: in my (40f) twenties I had a...</td>\n",
       "      <td>1667246573</td>\n",
       "      <td>/r/AmItheAsshole/comments/yin7pf/aita_for_want...</td>\n",
       "      <td>6889</td>\n",
       "      <td>Asshole</td>\n",
       "      <td>Honestly I think YTA. You decided not to be in...</td>\n",
       "      <td>YTA</td>\n",
       "      <td>The OP had a one-night stand and became pregna...</td>\n",
       "      <td>YTA</td>\n",
       "      <td>While the OP may have had good intentions in w...</td>\n",
       "    </tr>\n",
       "    <tr>\n",
       "      <th>4</th>\n",
       "      <td>yipi15</td>\n",
       "      <td>AITA for making my roommate replace my garlic ...</td>\n",
       "      <td>Last week, I came home and my roommate told me...</td>\n",
       "      <td>1667251720</td>\n",
       "      <td>/r/AmItheAsshole/comments/yipi15/aita_for_maki...</td>\n",
       "      <td>2927</td>\n",
       "      <td>NaN</td>\n",
       "      <td>Do I understand this correctly:\\n\\nShe's norma...</td>\n",
       "      <td>NaN</td>\n",
       "      <td>The OP is upset with their roommate for using ...</td>\n",
       "      <td>YTA</td>\n",
       "      <td>While it is understandable that the OP was ups...</td>\n",
       "    </tr>\n",
       "    <tr>\n",
       "      <th>...</th>\n",
       "      <td>...</td>\n",
       "      <td>...</td>\n",
       "      <td>...</td>\n",
       "      <td>...</td>\n",
       "      <td>...</td>\n",
       "      <td>...</td>\n",
       "      <td>...</td>\n",
       "      <td>...</td>\n",
       "      <td>...</td>\n",
       "      <td>...</td>\n",
       "      <td>...</td>\n",
       "      <td>...</td>\n",
       "    </tr>\n",
       "    <tr>\n",
       "      <th>13060</th>\n",
       "      <td>1228c6b</td>\n",
       "      <td>AITA for complimenting people?</td>\n",
       "      <td>So background, i 19f struggle with depression,...</td>\n",
       "      <td>1679797854</td>\n",
       "      <td>/r/AmItheAsshole/comments/1228c6b/aita_for_com...</td>\n",
       "      <td>61</td>\n",
       "      <td>Not the A-hole</td>\n",
       "      <td>\\nNTA!! This is the post I needed to read toda...</td>\n",
       "      <td>NTA</td>\n",
       "      <td></td>\n",
       "      <td></td>\n",
       "      <td></td>\n",
       "    </tr>\n",
       "    <tr>\n",
       "      <th>13061</th>\n",
       "      <td>122b9tz</td>\n",
       "      <td>AITA for telling my girlfriend that her mom's ...</td>\n",
       "      <td>My girlfriend had a dog for about 6 months bef...</td>\n",
       "      <td>1679805817</td>\n",
       "      <td>/r/AmItheAsshole/comments/122b9tz/aita_for_tel...</td>\n",
       "      <td>26</td>\n",
       "      <td>No A-holes here</td>\n",
       "      <td>I’m going with NAH but you are a little bit of...</td>\n",
       "      <td>NAH</td>\n",
       "      <td></td>\n",
       "      <td></td>\n",
       "      <td></td>\n",
       "    </tr>\n",
       "    <tr>\n",
       "      <th>13062</th>\n",
       "      <td>122bek6</td>\n",
       "      <td>AITA for calling my girlfriend a “filet-o-fish?”</td>\n",
       "      <td>My (M24) girlfriend (F24) and I are often invi...</td>\n",
       "      <td>1679806211</td>\n",
       "      <td>/r/AmItheAsshole/comments/122bek6/aita_for_cal...</td>\n",
       "      <td>56</td>\n",
       "      <td>NaN</td>\n",
       "      <td>Happy meal, everything you need in one package?</td>\n",
       "      <td>NaN</td>\n",
       "      <td></td>\n",
       "      <td></td>\n",
       "      <td></td>\n",
       "    </tr>\n",
       "    <tr>\n",
       "      <th>13063</th>\n",
       "      <td>122csfx</td>\n",
       "      <td>AITA for showing my brother how much he’s over...</td>\n",
       "      <td>My [21m] brother [20m] is overweight, about 20...</td>\n",
       "      <td>1679810416</td>\n",
       "      <td>/r/AmItheAsshole/comments/122csfx/aita_for_sho...</td>\n",
       "      <td>40</td>\n",
       "      <td>Not the A-hole</td>\n",
       "      <td>NTA\\n\\nPortion sizes matter when wanting to g...</td>\n",
       "      <td>NTA</td>\n",
       "      <td></td>\n",
       "      <td></td>\n",
       "      <td></td>\n",
       "    </tr>\n",
       "    <tr>\n",
       "      <th>13064</th>\n",
       "      <td>122e4xg</td>\n",
       "      <td>AITA for not fully disclosing my financial sta...</td>\n",
       "      <td>TL:DR at bottom.\\n\\nBit of background - I (36m...</td>\n",
       "      <td>1679814552</td>\n",
       "      <td>/r/AmItheAsshole/comments/122e4xg/aita_for_not...</td>\n",
       "      <td>32</td>\n",
       "      <td>NaN</td>\n",
       "      <td>ESH - the accountant shouldn't have been discu...</td>\n",
       "      <td>NaN</td>\n",
       "      <td></td>\n",
       "      <td></td>\n",
       "      <td></td>\n",
       "    </tr>\n",
       "  </tbody>\n",
       "</table>\n",
       "<p>13065 rows × 12 columns</p>\n",
       "</div>"
      ],
      "text/plain": [
       "      submission_id                                              title  \\\n",
       "0            yiplwk  AITA for asking my friend to move a picture of...   \n",
       "1            yiv572  AITA for asking my husband to stay with me whi...   \n",
       "2            yimgaf  AITA for telling my SIL to stop talking about ...   \n",
       "3            yin7pf  AITA for wanting to meet my \"daughter\" after g...   \n",
       "4            yipi15  AITA for making my roommate replace my garlic ...   \n",
       "...             ...                                                ...   \n",
       "13060       1228c6b                     AITA for complimenting people?   \n",
       "13061       122b9tz  AITA for telling my girlfriend that her mom's ...   \n",
       "13062       122bek6   AITA for calling my girlfriend a “filet-o-fish?”   \n",
       "13063       122csfx  AITA for showing my brother how much he’s over...   \n",
       "13064       122e4xg  AITA for not fully disclosing my financial sta...   \n",
       "\n",
       "                                                selftext  created_utc  \\\n",
       "0      \\n\\nMe (M32) and my wife, Dahlia (F28) lost ou...   1667251988   \n",
       "1      Throwaway my family knows my account. I'll get...   1667266450   \n",
       "2      My (37M) wife (37F) is pregnant with our first...   1667245059   \n",
       "3      Long story short: in my (40f) twenties I had a...   1667246573   \n",
       "4      Last week, I came home and my roommate told me...   1667251720   \n",
       "...                                                  ...          ...   \n",
       "13060  So background, i 19f struggle with depression,...   1679797854   \n",
       "13061  My girlfriend had a dog for about 6 months bef...   1679805817   \n",
       "13062  My (M24) girlfriend (F24) and I are often invi...   1679806211   \n",
       "13063  My [21m] brother [20m] is overweight, about 20...   1679810416   \n",
       "13064  TL:DR at bottom.\\n\\nBit of background - I (36m...   1679814552   \n",
       "\n",
       "                                               permalink  score  \\\n",
       "0      /r/AmItheAsshole/comments/yiplwk/aita_for_aski...  16582   \n",
       "1      /r/AmItheAsshole/comments/yiv572/aita_for_aski...   4079   \n",
       "2      /r/AmItheAsshole/comments/yimgaf/aita_for_tell...   9728   \n",
       "3      /r/AmItheAsshole/comments/yin7pf/aita_for_want...   6889   \n",
       "4      /r/AmItheAsshole/comments/yipi15/aita_for_maki...   2927   \n",
       "...                                                  ...    ...   \n",
       "13060  /r/AmItheAsshole/comments/1228c6b/aita_for_com...     61   \n",
       "13061  /r/AmItheAsshole/comments/122b9tz/aita_for_tel...     26   \n",
       "13062  /r/AmItheAsshole/comments/122bek6/aita_for_cal...     56   \n",
       "13063  /r/AmItheAsshole/comments/122csfx/aita_for_sho...     40   \n",
       "13064  /r/AmItheAsshole/comments/122e4xg/aita_for_not...     32   \n",
       "\n",
       "            flair_text                                        top_comment  \\\n",
       "0              Asshole  YTA Let me guess, the issues you had staying w...   \n",
       "1                  NaN  YTA you’re pregnant, not made of glass. You’ll...   \n",
       "2       Not the A-hole  I'm going with NTA, if it wasn't for her remar...   \n",
       "3              Asshole  Honestly I think YTA. You decided not to be in...   \n",
       "4                  NaN  Do I understand this correctly:\\n\\nShe's norma...   \n",
       "...                ...                                                ...   \n",
       "13060   Not the A-hole  \\nNTA!! This is the post I needed to read toda...   \n",
       "13061  No A-holes here  I’m going with NAH but you are a little bit of...   \n",
       "13062              NaN    Happy meal, everything you need in one package?   \n",
       "13063   Not the A-hole   NTA\\n\\nPortion sizes matter when wanting to g...   \n",
       "13064              NaN  ESH - the accountant shouldn't have been discu...   \n",
       "\n",
       "      true_label                                        gpt_dilemma gpt_label  \\\n",
       "0            YTA  The OP and his wife are temporarily living wit...       ESH   \n",
       "1            NaN  The OP is 7 months pregnant and cannot travel ...       NTA   \n",
       "2            NTA  The OP's wife is pregnant after years of ferti...       NTA   \n",
       "3            YTA  The OP had a one-night stand and became pregna...       YTA   \n",
       "4            NaN  The OP is upset with their roommate for using ...       YTA   \n",
       "...          ...                                                ...       ...   \n",
       "13060        NTA                                                                \n",
       "13061        NAH                                                                \n",
       "13062        NaN                                                                \n",
       "13063        NTA                                                                \n",
       "13064        NaN                                                                \n",
       "\n",
       "                                              gpt_reason  \n",
       "0      Both the OP and Anthony are at fault in this s...  \n",
       "1      The OP is not the asshole in this scenario. Be...  \n",
       "2      The OP tried to address the issue with their b...  \n",
       "3      While the OP may have had good intentions in w...  \n",
       "4      While it is understandable that the OP was ups...  \n",
       "...                                                  ...  \n",
       "13060                                                     \n",
       "13061                                                     \n",
       "13062                                                     \n",
       "13063                                                     \n",
       "13064                                                     \n",
       "\n",
       "[13065 rows x 12 columns]"
      ]
     },
     "execution_count": 50,
     "metadata": {},
     "output_type": "execute_result"
    }
   ],
   "source": [
    "df"
   ]
  },
  {
   "cell_type": "code",
   "execution_count": null,
   "id": "36e0115d-89cc-4ef0-b35e-92f81aca0f72",
   "metadata": {},
   "outputs": [],
   "source": []
  }
 ],
 "metadata": {
  "kernelspec": {
   "display_name": "nlp",
   "language": "python",
   "name": "nlp"
  },
  "language_info": {
   "codemirror_mode": {
    "name": "ipython",
    "version": 3
   },
   "file_extension": ".py",
   "mimetype": "text/x-python",
   "name": "python",
   "nbconvert_exporter": "python",
   "pygments_lexer": "ipython3",
   "version": "3.9.7"
  }
 },
 "nbformat": 4,
 "nbformat_minor": 5
}
