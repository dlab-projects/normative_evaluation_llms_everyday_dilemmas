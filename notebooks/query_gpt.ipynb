{
 "cells": [
  {
   "cell_type": "code",
   "execution_count": null,
   "id": "3ef7ff64-6213-468b-baf8-5cebb799c9c5",
   "metadata": {},
   "outputs": [],
   "source": [
    "import pandas as pd\n",
    "import tqdm\n",
    "import openai\n",
    "import nltk\n",
    "import os\n",
    "\n",
    "from pyprojroot import here\n",
    "from moral_foundations_llms import utils"
   ]
  },
  {
   "cell_type": "code",
   "execution_count": null,
   "id": "fc498c5b-4980-4631-a057-3ff943a95ce3",
   "metadata": {},
   "outputs": [],
   "source": [
    "api_path = os.path.join(os.environ['HOME'], 'openai/api.txt')"
   ]
  },
  {
   "cell_type": "code",
   "execution_count": null,
   "id": "6f8a65f4-5811-450a-b0f2-f0001d886c91",
   "metadata": {},
   "outputs": [],
   "source": [
    "with open(api_path, 'r') as f:\n",
    "    openai.api_key = f.read().strip()"
   ]
  },
  {
   "cell_type": "code",
   "execution_count": null,
   "id": "13dc2f40-297e-48c4-9235-0423ecaca6b3",
   "metadata": {},
   "outputs": [],
   "source": [
    "df = pd.read_csv(here('data/aita_processed.csv'))"
   ]
  },
  {
   "cell_type": "code",
   "execution_count": null,
   "id": "1943786b-66e7-4a9e-a5da-3afd4d2ae327",
   "metadata": {},
   "outputs": [],
   "source": [
    "failed = []\n",
    "responses = {}"
   ]
  },
  {
   "cell_type": "code",
   "execution_count": null,
   "id": "c04c2997-b768-40f2-b24a-41b839eeaa96",
   "metadata": {},
   "outputs": [],
   "source": [
    "for post in tqdm.tqdm(range(1)):\n",
    "    n_sentences = len(nltk.sent_tokenize(df.iloc[post]['top_comment']))\n",
    "    system_message = utils.create_system_message(identity=\"\", length=f\"{n_sentences} sentences\")\n",
    "    try:\n",
    "        response = openai.ChatCompletion.create(\n",
    "            model='gpt-3.5-turbo',\n",
    "            messages=[\n",
    "                {\"role\": \"system\", \"content\": system_message},\n",
    "                {\"role\": \"user\", \"content\": df['selftext'].iloc[post]}\n",
    "            ],\n",
    "            temperature=0.4)\n",
    "    except openai.error.APIError as e:\n",
    "        print(f\"Post {post}, OpenAI API returned an API Error: {e}\")\n",
    "        failed.append(post)\n",
    "        continue\n",
    "    except openai.error.APIConnectionError as e:\n",
    "        print(f\"Post {post}, OpenAI API request failed to connect: {e}\")\n",
    "        failed.append(post)\n",
    "        continue\n",
    "    except openai.error.ServiceUnavailableError as e:\n",
    "        print(f\"Post {post}, OpenAI API returned a Service Unavailable Error: {e}\")\n",
    "        failed.append(post)\n",
    "        continue\n",
    "        \n",
    "    answer = response['choices'][0]['message']['content']\n",
    "    responses[post] = answer\n",
    "    gpt_dilemma = answer.split('Verdict')[0].replace('Dilemma:', '').strip()\n",
    "    gpt_label = answer.split('Verdict: ')[1][:3]\n",
    "    gpt_reason = answer.split('Reasoning:')[-1].strip()\n",
    "    df.loc[post, 'gpt_dilemma'] = gpt_dilemma\n",
    "    df.loc[post, 'gpt_label'] = gpt_label\n",
    "    df.loc[post, 'gpt_reason'] = gpt_reason"
   ]
  }
 ],
 "metadata": {
  "kernelspec": {
   "display_name": "nlp",
   "language": "python",
   "name": "nlp"
  },
  "language_info": {
   "codemirror_mode": {
    "name": "ipython",
    "version": 3
   },
   "file_extension": ".py",
   "mimetype": "text/x-python",
   "name": "python",
   "nbconvert_exporter": "python",
   "pygments_lexer": "ipython3",
   "version": "3.9.16"
  }
 },
 "nbformat": 4,
 "nbformat_minor": 5
}
