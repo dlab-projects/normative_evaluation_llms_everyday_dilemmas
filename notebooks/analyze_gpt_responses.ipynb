{
 "cells": [
  {
   "cell_type": "code",
   "execution_count": 1,
   "metadata": {},
   "outputs": [],
   "source": [
    "import matplotlib.pyplot as plt\n",
    "import numpy as np\n",
    "import pandas as pd\n",
    "import seaborn as sns\n",
    "\n",
    "from functools import partial\n",
    "from pyprojroot import here\n",
    "from scipy.stats import bootstrap\n",
    "\n",
    "%matplotlib inline"
   ]
  },
  {
   "cell_type": "code",
   "execution_count": 2,
   "metadata": {},
   "outputs": [],
   "source": [
    "df = pd.read_csv(here('data/aita_processed_gpt.csv'))"
   ]
  },
  {
   "cell_type": "code",
   "execution_count": 3,
   "metadata": {},
   "outputs": [],
   "source": [
    "labels = ['NTA', 'YTA', 'NAH', 'ESH', 'INFO']\n",
    "n_labels = len(labels)"
   ]
  },
  {
   "cell_type": "code",
   "execution_count": 36,
   "metadata": {},
   "outputs": [],
   "source": [
    "# Calculate bootstrap estimates\n",
    "def categorical_proportion(data, category):\n",
    "    return np.mean(data == category)"
   ]
  },
  {
   "cell_type": "code",
   "execution_count": 37,
   "metadata": {},
   "outputs": [],
   "source": [
    "observed_bounds = [\n",
    "    bootstrap((df['true_label'].values,), partial(categorical_proportion, category=label))\n",
    "    for label in labels]"
   ]
  },
  {
   "cell_type": "code",
   "execution_count": 38,
   "metadata": {},
   "outputs": [],
   "source": [
    "gpt_bounds = [\n",
    "    bootstrap((df['gpt_label'].values,), partial(categorical_proportion, category=label))\n",
    "    for label in labels]"
   ]
  },
  {
   "cell_type": "code",
   "execution_count": 61,
   "metadata": {},
   "outputs": [
    {
     "data": {
      "text/plain": [
       "[Text(0, 0, 'NTA'),\n",
       " Text(1, 0, 'YTA'),\n",
       " Text(2, 0, 'NAH'),\n",
       " Text(3, 0, 'ESH'),\n",
       " Text(4, 0, 'INFO')]"
      ]
     },
     "execution_count": 61,
     "metadata": {},
     "output_type": "execute_result"
    },
    {
     "name": "stderr",
     "output_type": "stream",
     "text": [
      "findfont: Font family 'Helvetica' not found.\n",
      "findfont: Font family 'Helvetica' not found.\n",
      "findfont: Font family 'Helvetica' not found.\n",
      "findfont: Font family 'Helvetica' not found.\n",
      "findfont: Font family 'Helvetica' not found.\n",
      "findfont: Font family 'Helvetica' not found.\n",
      "findfont: Font family 'Helvetica' not found.\n",
      "findfont: Font family 'Helvetica' not found.\n",
      "findfont: Font family 'Helvetica' not found.\n",
      "findfont: Font family 'Helvetica' not found.\n",
      "findfont: Font family 'Helvetica' not found.\n",
      "findfont: Font family 'Helvetica' not found.\n",
      "findfont: Font family 'Helvetica' not found.\n",
      "findfont: Font family 'Helvetica' not found.\n",
      "findfont: Font family 'Helvetica' not found.\n",
      "findfont: Font family 'Helvetica' not found.\n",
      "findfont: Font family 'Helvetica' not found.\n",
      "findfont: Font family 'Helvetica' not found.\n",
      "findfont: Font family 'Helvetica' not found.\n",
      "findfont: Font family 'Helvetica' not found.\n",
      "findfont: Font family 'Helvetica' not found.\n",
      "findfont: Font family 'Helvetica' not found.\n",
      "findfont: Font family 'Helvetica' not found.\n",
      "findfont: Font family 'Helvetica' not found.\n",
      "findfont: Font family 'Helvetica' not found.\n",
      "findfont: Font family 'Helvetica' not found.\n",
      "findfont: Font family 'Helvetica' not found.\n",
      "findfont: Font family 'Helvetica' not found.\n",
      "findfont: Font family 'Helvetica' not found.\n",
      "findfont: Font family 'Helvetica' not found.\n",
      "findfont: Font family 'Helvetica' not found.\n",
      "findfont: Font family 'Helvetica' not found.\n",
      "findfont: Font family 'Helvetica' not found.\n",
      "findfont: Font family 'Helvetica' not found.\n",
      "findfont: Font family 'Helvetica' not found.\n",
      "findfont: Font family 'Helvetica' not found.\n",
      "findfont: Font family 'Helvetica' not found.\n",
      "findfont: Font family 'Helvetica' not found.\n",
      "findfont: Font family 'Helvetica' not found.\n",
      "findfont: Font family 'Helvetica' not found.\n",
      "findfont: Font family 'Helvetica' not found.\n",
      "findfont: Font family 'Helvetica' not found.\n",
      "findfont: Font family 'Helvetica' not found.\n",
      "findfont: Font family 'Helvetica' not found.\n",
      "findfont: Font family 'Helvetica' not found.\n",
      "findfont: Font family 'Helvetica' not found.\n",
      "findfont: Font family 'Helvetica' not found.\n",
      "findfont: Font family 'Helvetica' not found.\n",
      "findfont: Font family 'Helvetica' not found.\n",
      "findfont: Font family 'Helvetica' not found.\n",
      "findfont: Font family 'Helvetica' not found.\n",
      "findfont: Font family 'Helvetica' not found.\n",
      "findfont: Font family 'Helvetica' not found.\n",
      "findfont: Font family 'Helvetica' not found.\n",
      "findfont: Font family 'Helvetica' not found.\n",
      "findfont: Font family 'Helvetica' not found.\n",
      "findfont: Font family 'Helvetica' not found.\n",
      "findfont: Font family 'Helvetica' not found.\n",
      "findfont: Font family 'Helvetica' not found.\n",
      "findfont: Font family 'Helvetica' not found.\n",
      "findfont: Font family 'Helvetica' not found.\n",
      "findfont: Font family 'Helvetica' not found.\n",
      "findfont: Font family 'Helvetica' not found.\n",
      "findfont: Font family 'Helvetica' not found.\n",
      "findfont: Font family 'Helvetica' not found.\n",
      "findfont: Font family 'Helvetica' not found.\n",
      "findfont: Font family 'Helvetica' not found.\n",
      "findfont: Font family 'Helvetica' not found.\n",
      "findfont: Font family 'Helvetica' not found.\n",
      "findfont: Font family 'Helvetica' not found.\n",
      "findfont: Font family 'Helvetica' not found.\n",
      "findfont: Font family 'Helvetica' not found.\n",
      "findfont: Font family 'Helvetica' not found.\n",
      "findfont: Font family 'Helvetica' not found.\n",
      "findfont: Font family 'Helvetica' not found.\n",
      "findfont: Font family 'Helvetica' not found.\n",
      "findfont: Font family 'Helvetica' not found.\n",
      "findfont: Font family 'Helvetica' not found.\n",
      "findfont: Font family 'Helvetica' not found.\n",
      "findfont: Font family 'Helvetica' not found.\n",
      "findfont: Font family 'Helvetica' not found.\n",
      "findfont: Font family 'Helvetica' not found.\n",
      "findfont: Font family 'Helvetica' not found.\n",
      "findfont: Font family 'Helvetica' not found.\n",
      "findfont: Font family 'Helvetica' not found.\n",
      "findfont: Font family 'Helvetica' not found.\n",
      "findfont: Font family 'Helvetica' not found.\n",
      "findfont: Font family 'Helvetica' not found.\n",
      "findfont: Font family 'Helvetica' not found.\n",
      "findfont: Font family 'Helvetica' not found.\n"
     ]
    },
    {
     "data": {
      "image/png": "[encoded data removed]",
      "text/plain": [
       "<Figure size 600x400 with 1 Axes>"
      ]
     },
     "metadata": {},
     "output_type": "display_data"
    }
   ],
   "source": [
    "fig, ax = plt.subplots(1, 1, figsize=(6, 4))\n",
    "\n",
    "observed_counts = df['true_label'].value_counts(normalize=True)\n",
    "gpt_counts = df['gpt_label'].value_counts(normalize=True)\n",
    "\n",
    "width = 0.4\n",
    "\n",
    "ax.bar(x=np.arange(n_labels) - width / 2,\n",
    "       height=[observed_counts[label] for label in labels],\n",
    "       width=width,\n",
    "       yerr=[[observed_bounds[ii].confidence_interval.high - observed_counts[labels[ii]]\n",
    "              for ii in range(n_labels)],\n",
    "             [observed_counts[labels[ii]] - observed_bounds[ii].confidence_interval.low\n",
    "              for ii in range(n_labels)]],\n",
    "       error_kw={'capsize': 4},\n",
    "       color='gray',\n",
    "       label='Observed')\n",
    "ax.bar(x=np.arange(n_labels) + width / 2,\n",
    "       height=[gpt_counts[label] for label in labels],\n",
    "       width=width,\n",
    "       yerr=[[gpt_bounds[ii].confidence_interval.high - gpt_counts[labels[ii]]\n",
    "              for ii in range(n_labels)],\n",
    "             [gpt_counts[labels[ii]] - gpt_bounds[ii].confidence_interval.low\n",
    "              for ii in range(n_labels)]],\n",
    "       error_kw={'capsize': 4},\n",
    "       color='red',\n",
    "       label='GPT')\n",
    "\n",
    "ax.set_ylim([0, 1])\n",
    "ax.legend(loc=0, prop={'size': 10})\n",
    "ax.set_xticks(np.arange(n_labels))\n",
    "ax.set_xticklabels(['NTA', 'YTA', 'NAH', 'ESH', 'INFO'])"
   ]
  },
  {
   "cell_type": "code",
   "execution_count": 8,
   "metadata": {},
   "outputs": [],
   "source": [
    "ct = pd.crosstab(df['true_label'], df['gpt_label']).reindex(labels)[labels]"
   ]
  },
  {
   "cell_type": "code",
   "execution_count": 12,
   "metadata": {},
   "outputs": [
    {
     "data": {
      "text/plain": [
       "Text(50.722222222222214, 0.5, 'Observed Label')"
      ]
     },
     "execution_count": 12,
     "metadata": {},
     "output_type": "execute_result"
    },
    {
     "data": {
      "image/png": "[encoded data removed]",
      "text/plain": [
       "<Figure size 640x480 with 2 Axes>"
      ]
     },
     "metadata": {},
     "output_type": "display_data"
    }
   ],
   "source": [
    "ax = sns.heatmap(ct)\n",
    "ax.set_xlabel('GPT Label')\n",
    "ax.set_ylabel('Observed Label')"
   ]
  },
  {
   "cell_type": "code",
   "execution_count": 23,
   "metadata": {},
   "outputs": [],
   "source": [
    "ct_normed = pd.crosstab(df['true_label'], df['gpt_label'], normalize='index').reindex(labels)[labels]"
   ]
  },
  {
   "cell_type": "code",
   "execution_count": 25,
   "metadata": {},
   "outputs": [
    {
     "data": {
      "text/plain": [
       "Text(50.722222222222214, 0.5, 'Observed Label')"
      ]
     },
     "execution_count": 25,
     "metadata": {},
     "output_type": "execute_result"
    },
    {
     "data": {
      "image/png": "[encoded data removed]",
      "text/plain": [
       "<Figure size 640x480 with 2 Axes>"
      ]
     },
     "metadata": {},
     "output_type": "display_data"
    }
   ],
   "source": [
    "ax = sns.heatmap(ct, vmin=0, vmax=1)\n",
    "ax.set_xlabel('GPT Label')\n",
    "ax.set_ylabel('Observed Label')"
   ]
  },
  {
   "cell_type": "code",
   "execution_count": 26,
   "metadata": {},
   "outputs": [
    {
     "data": {
      "text/html": [
       "<div>\n",
       "<style scoped>\n",
       "    .dataframe tbody tr th:only-of-type {\n",
       "        vertical-align: middle;\n",
       "    }\n",
       "\n",
       "    .dataframe tbody tr th {\n",
       "        vertical-align: top;\n",
       "    }\n",
       "\n",
       "    .dataframe thead th {\n",
       "        text-align: right;\n",
       "    }\n",
       "</style>\n",
       "<table border=\"1\" class=\"dataframe\">\n",
       "  <thead>\n",
       "    <tr style=\"text-align: right;\">\n",
       "      <th>gpt_label</th>\n",
       "      <th>NTA</th>\n",
       "      <th>YTA</th>\n",
       "      <th>NAH</th>\n",
       "      <th>ESH</th>\n",
       "      <th>INFO</th>\n",
       "    </tr>\n",
       "    <tr>\n",
       "      <th>true_label</th>\n",
       "      <th></th>\n",
       "      <th></th>\n",
       "      <th></th>\n",
       "      <th></th>\n",
       "      <th></th>\n",
       "    </tr>\n",
       "  </thead>\n",
       "  <tbody>\n",
       "    <tr>\n",
       "      <th>NTA</th>\n",
       "      <td>0.652558</td>\n",
       "      <td>0.222907</td>\n",
       "      <td>0.004186</td>\n",
       "      <td>0.102209</td>\n",
       "      <td>0.018140</td>\n",
       "    </tr>\n",
       "    <tr>\n",
       "      <th>YTA</th>\n",
       "      <td>0.156110</td>\n",
       "      <td>0.692768</td>\n",
       "      <td>0.003990</td>\n",
       "      <td>0.105736</td>\n",
       "      <td>0.041397</td>\n",
       "    </tr>\n",
       "    <tr>\n",
       "      <th>NAH</th>\n",
       "      <td>0.424370</td>\n",
       "      <td>0.399160</td>\n",
       "      <td>0.029412</td>\n",
       "      <td>0.084034</td>\n",
       "      <td>0.063025</td>\n",
       "    </tr>\n",
       "    <tr>\n",
       "      <th>ESH</th>\n",
       "      <td>0.306383</td>\n",
       "      <td>0.408511</td>\n",
       "      <td>0.000000</td>\n",
       "      <td>0.263830</td>\n",
       "      <td>0.021277</td>\n",
       "    </tr>\n",
       "    <tr>\n",
       "      <th>INFO</th>\n",
       "      <td>0.335740</td>\n",
       "      <td>0.494585</td>\n",
       "      <td>0.010830</td>\n",
       "      <td>0.137184</td>\n",
       "      <td>0.021661</td>\n",
       "    </tr>\n",
       "  </tbody>\n",
       "</table>\n",
       "</div>"
      ],
      "text/plain": [
       "gpt_label        NTA       YTA       NAH       ESH      INFO\n",
       "true_label                                                  \n",
       "NTA         0.652558  0.222907  0.004186  0.102209  0.018140\n",
       "YTA         0.156110  0.692768  0.003990  0.105736  0.041397\n",
       "NAH         0.424370  0.399160  0.029412  0.084034  0.063025\n",
       "ESH         0.306383  0.408511  0.000000  0.263830  0.021277\n",
       "INFO        0.335740  0.494585  0.010830  0.137184  0.021661"
      ]
     },
     "execution_count": 26,
     "metadata": {},
     "output_type": "execute_result"
    }
   ],
   "source": [
    "ct_normed"
   ]
  },
  {
   "cell_type": "code",
   "execution_count": 20,
   "metadata": {},
   "outputs": [
    {
     "data": {
      "text/plain": [
       "0.6525581395348837"
      ]
     },
     "execution_count": 20,
     "metadata": {},
     "output_type": "execute_result"
    }
   ],
   "source": [
    "5612 / 8600"
   ]
  },
  {
   "cell_type": "code",
   "execution_count": 28,
   "metadata": {},
   "outputs": [],
   "source": [
    "ct_normed = pd.crosstab(df['true_label'], df['gpt_label'], normalize='columns').reindex(labels)[labels]"
   ]
  },
  {
   "cell_type": "code",
   "execution_count": 29,
   "metadata": {},
   "outputs": [
    {
     "data": {
      "text/html": [
       "<div>\n",
       "<style scoped>\n",
       "    .dataframe tbody tr th:only-of-type {\n",
       "        vertical-align: middle;\n",
       "    }\n",
       "\n",
       "    .dataframe tbody tr th {\n",
       "        vertical-align: top;\n",
       "    }\n",
       "\n",
       "    .dataframe thead th {\n",
       "        text-align: right;\n",
       "    }\n",
       "</style>\n",
       "<table border=\"1\" class=\"dataframe\">\n",
       "  <thead>\n",
       "    <tr style=\"text-align: right;\">\n",
       "      <th>gpt_label</th>\n",
       "      <th>NTA</th>\n",
       "      <th>YTA</th>\n",
       "      <th>NAH</th>\n",
       "      <th>ESH</th>\n",
       "      <th>INFO</th>\n",
       "    </tr>\n",
       "    <tr>\n",
       "      <th>true_label</th>\n",
       "      <th></th>\n",
       "      <th></th>\n",
       "      <th></th>\n",
       "      <th></th>\n",
       "      <th></th>\n",
       "    </tr>\n",
       "  </thead>\n",
       "  <tbody>\n",
       "    <tr>\n",
       "      <th>NTA</th>\n",
       "      <td>0.906477</td>\n",
       "      <td>0.527518</td>\n",
       "      <td>0.666667</td>\n",
       "      <td>0.725846</td>\n",
       "      <td>0.588679</td>\n",
       "    </tr>\n",
       "    <tr>\n",
       "      <th>YTA</th>\n",
       "      <td>0.050557</td>\n",
       "      <td>0.382223</td>\n",
       "      <td>0.148148</td>\n",
       "      <td>0.175062</td>\n",
       "      <td>0.313208</td>\n",
       "    </tr>\n",
       "    <tr>\n",
       "      <th>NAH</th>\n",
       "      <td>0.016314</td>\n",
       "      <td>0.026142</td>\n",
       "      <td>0.129630</td>\n",
       "      <td>0.016515</td>\n",
       "      <td>0.056604</td>\n",
       "    </tr>\n",
       "    <tr>\n",
       "      <th>ESH</th>\n",
       "      <td>0.011630</td>\n",
       "      <td>0.026417</td>\n",
       "      <td>0.000000</td>\n",
       "      <td>0.051197</td>\n",
       "      <td>0.018868</td>\n",
       "    </tr>\n",
       "    <tr>\n",
       "      <th>INFO</th>\n",
       "      <td>0.015022</td>\n",
       "      <td>0.037700</td>\n",
       "      <td>0.055556</td>\n",
       "      <td>0.031379</td>\n",
       "      <td>0.022642</td>\n",
       "    </tr>\n",
       "  </tbody>\n",
       "</table>\n",
       "</div>"
      ],
      "text/plain": [
       "gpt_label        NTA       YTA       NAH       ESH      INFO\n",
       "true_label                                                  \n",
       "NTA         0.906477  0.527518  0.666667  0.725846  0.588679\n",
       "YTA         0.050557  0.382223  0.148148  0.175062  0.313208\n",
       "NAH         0.016314  0.026142  0.129630  0.016515  0.056604\n",
       "ESH         0.011630  0.026417  0.000000  0.051197  0.018868\n",
       "INFO        0.015022  0.037700  0.055556  0.031379  0.022642"
      ]
     },
     "execution_count": 29,
     "metadata": {},
     "output_type": "execute_result"
    }
   ],
   "source": [
    "ct_normed"
   ]
  },
  {
   "cell_type": "code",
   "execution_count": 30,
   "metadata": {},
   "outputs": [
    {
     "data": {
      "text/html": [
       "<div>\n",
       "<style scoped>\n",
       "    .dataframe tbody tr th:only-of-type {\n",
       "        vertical-align: middle;\n",
       "    }\n",
       "\n",
       "    .dataframe tbody tr th {\n",
       "        vertical-align: top;\n",
       "    }\n",
       "\n",
       "    .dataframe thead th {\n",
       "        text-align: right;\n",
       "    }\n",
       "</style>\n",
       "<table border=\"1\" class=\"dataframe\">\n",
       "  <thead>\n",
       "    <tr style=\"text-align: right;\">\n",
       "      <th>gpt_label</th>\n",
       "      <th>NTA</th>\n",
       "      <th>YTA</th>\n",
       "      <th>NAH</th>\n",
       "      <th>ESH</th>\n",
       "      <th>INFO</th>\n",
       "    </tr>\n",
       "    <tr>\n",
       "      <th>true_label</th>\n",
       "      <th></th>\n",
       "      <th></th>\n",
       "      <th></th>\n",
       "      <th></th>\n",
       "      <th></th>\n",
       "    </tr>\n",
       "  </thead>\n",
       "  <tbody>\n",
       "    <tr>\n",
       "      <th>NTA</th>\n",
       "      <td>0.652558</td>\n",
       "      <td>0.222907</td>\n",
       "      <td>0.004186</td>\n",
       "      <td>0.102209</td>\n",
       "      <td>0.018140</td>\n",
       "    </tr>\n",
       "    <tr>\n",
       "      <th>YTA</th>\n",
       "      <td>0.156110</td>\n",
       "      <td>0.692768</td>\n",
       "      <td>0.003990</td>\n",
       "      <td>0.105736</td>\n",
       "      <td>0.041397</td>\n",
       "    </tr>\n",
       "    <tr>\n",
       "      <th>NAH</th>\n",
       "      <td>0.424370</td>\n",
       "      <td>0.399160</td>\n",
       "      <td>0.029412</td>\n",
       "      <td>0.084034</td>\n",
       "      <td>0.063025</td>\n",
       "    </tr>\n",
       "    <tr>\n",
       "      <th>ESH</th>\n",
       "      <td>0.306383</td>\n",
       "      <td>0.408511</td>\n",
       "      <td>0.000000</td>\n",
       "      <td>0.263830</td>\n",
       "      <td>0.021277</td>\n",
       "    </tr>\n",
       "    <tr>\n",
       "      <th>INFO</th>\n",
       "      <td>0.335740</td>\n",
       "      <td>0.494585</td>\n",
       "      <td>0.010830</td>\n",
       "      <td>0.137184</td>\n",
       "      <td>0.021661</td>\n",
       "    </tr>\n",
       "  </tbody>\n",
       "</table>\n",
       "</div>"
      ],
      "text/plain": [
       "gpt_label        NTA       YTA       NAH       ESH      INFO\n",
       "true_label                                                  \n",
       "NTA         0.652558  0.222907  0.004186  0.102209  0.018140\n",
       "YTA         0.156110  0.692768  0.003990  0.105736  0.041397\n",
       "NAH         0.424370  0.399160  0.029412  0.084034  0.063025\n",
       "ESH         0.306383  0.408511  0.000000  0.263830  0.021277\n",
       "INFO        0.335740  0.494585  0.010830  0.137184  0.021661"
      ]
     },
     "execution_count": 30,
     "metadata": {},
     "output_type": "execute_result"
    }
   ],
   "source": [
    "ct"
   ]
  },
  {
   "cell_type": "code",
   "execution_count": 31,
   "metadata": {},
   "outputs": [
    {
     "data": {
      "text/html": [
       "<div>\n",
       "<style scoped>\n",
       "    .dataframe tbody tr th:only-of-type {\n",
       "        vertical-align: middle;\n",
       "    }\n",
       "\n",
       "    .dataframe tbody tr th {\n",
       "        vertical-align: top;\n",
       "    }\n",
       "\n",
       "    .dataframe thead th {\n",
       "        text-align: right;\n",
       "    }\n",
       "</style>\n",
       "<table border=\"1\" class=\"dataframe\">\n",
       "  <thead>\n",
       "    <tr style=\"text-align: right;\">\n",
       "      <th>gpt_label</th>\n",
       "      <th>NTA</th>\n",
       "      <th>YTA</th>\n",
       "      <th>NAH</th>\n",
       "      <th>ESH</th>\n",
       "      <th>INFO</th>\n",
       "    </tr>\n",
       "    <tr>\n",
       "      <th>true_label</th>\n",
       "      <th></th>\n",
       "      <th></th>\n",
       "      <th></th>\n",
       "      <th></th>\n",
       "      <th></th>\n",
       "    </tr>\n",
       "  </thead>\n",
       "  <tbody>\n",
       "    <tr>\n",
       "      <th>NTA</th>\n",
       "      <td>5612</td>\n",
       "      <td>1917</td>\n",
       "      <td>36</td>\n",
       "      <td>879</td>\n",
       "      <td>156</td>\n",
       "    </tr>\n",
       "    <tr>\n",
       "      <th>YTA</th>\n",
       "      <td>313</td>\n",
       "      <td>1389</td>\n",
       "      <td>8</td>\n",
       "      <td>212</td>\n",
       "      <td>83</td>\n",
       "    </tr>\n",
       "    <tr>\n",
       "      <th>NAH</th>\n",
       "      <td>101</td>\n",
       "      <td>95</td>\n",
       "      <td>7</td>\n",
       "      <td>20</td>\n",
       "      <td>15</td>\n",
       "    </tr>\n",
       "    <tr>\n",
       "      <th>ESH</th>\n",
       "      <td>72</td>\n",
       "      <td>96</td>\n",
       "      <td>0</td>\n",
       "      <td>62</td>\n",
       "      <td>5</td>\n",
       "    </tr>\n",
       "    <tr>\n",
       "      <th>INFO</th>\n",
       "      <td>93</td>\n",
       "      <td>137</td>\n",
       "      <td>3</td>\n",
       "      <td>38</td>\n",
       "      <td>6</td>\n",
       "    </tr>\n",
       "  </tbody>\n",
       "</table>\n",
       "</div>"
      ],
      "text/plain": [
       "gpt_label    NTA   YTA  NAH  ESH  INFO\n",
       "true_label                            \n",
       "NTA         5612  1917   36  879   156\n",
       "YTA          313  1389    8  212    83\n",
       "NAH          101    95    7   20    15\n",
       "ESH           72    96    0   62     5\n",
       "INFO          93   137    3   38     6"
      ]
     },
     "execution_count": 31,
     "metadata": {},
     "output_type": "execute_result"
    }
   ],
   "source": [
    "pd.crosstab(df['true_label'], df['gpt_label']).reindex(labels)[labels]"
   ]
  },
  {
   "cell_type": "code",
   "execution_count": null,
   "metadata": {},
   "outputs": [],
   "source": []
  }
 ],
 "metadata": {
  "kernelspec": {
   "display_name": "nlp",
   "language": "python",
   "name": "python3"
  },
  "language_info": {
   "codemirror_mode": {
    "name": "ipython",
    "version": 3
   },
   "file_extension": ".py",
   "mimetype": "text/x-python",
   "name": "python",
   "nbconvert_exporter": "python",
   "pygments_lexer": "ipython3",
   "version": "3.10.10"
  },
  "orig_nbformat": 4
 },
 "nbformat": 4,
 "nbformat_minor": 2
}
