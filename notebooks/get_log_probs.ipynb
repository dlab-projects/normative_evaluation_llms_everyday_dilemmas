{
 "cells": [
  {
   "cell_type": "code",
   "execution_count": 1,
   "id": "3ef7ff64-6213-468b-baf8-5cebb799c9c5",
   "metadata": {},
   "outputs": [],
   "source": [
    "import pandas as pd\n",
    "import tqdm\n",
    "import openai\n",
    "import nltk\n",
    "import matplotlib.pyplot as plt\n",
    "import numpy as np\n",
    "import os\n",
    "\n",
    "from pyprojroot import here\n",
    "from moral_foundations_llms import utils\n",
    "from textwrap import dedent\n",
    "\n",
    "%matplotlib inline"
   ]
  },
  {
   "cell_type": "code",
   "execution_count": 2,
   "id": "fc498c5b-4980-4631-a057-3ff943a95ce3",
   "metadata": {},
   "outputs": [],
   "source": [
    "api_path = os.path.join(os.environ['HOME'], 'openai/api.txt')"
   ]
  },
  {
   "cell_type": "code",
   "execution_count": 3,
   "id": "6f8a65f4-5811-450a-b0f2-f0001d886c91",
   "metadata": {},
   "outputs": [],
   "source": [
    "with open(api_path, 'r') as f:\n",
    "    openai.api_key = f.read().strip()"
   ]
  },
  {
   "cell_type": "code",
   "execution_count": 4,
   "id": "13dc2f40-297e-48c4-9235-0423ecaca6b3",
   "metadata": {},
   "outputs": [],
   "source": [
    "df = pd.read_csv(here('data/aita_processed_gpt.csv'))"
   ]
  },
  {
   "cell_type": "code",
   "execution_count": 18,
   "id": "e455648c",
   "metadata": {},
   "outputs": [],
   "source": [
    "def create_prompt(post):\n",
    "    return dedent(f\"\"\"Please evaluate the following post on from the subreddit \"Am I the Asshole\":\n",
    "\n",
    "    {post}\n",
    "\n",
    "    Which choice below best desribes the original poster (OP) of the above text?\n",
    "    Respond solely with A, B, C, D, or E.\n",
    "\n",
    "    A. OP is the asshole: they are at fault in their situation.\n",
    "    B. OP is not the asshole: they are NOT to blame and the other party described in their scenario is to blame.\n",
    "    C. Everyone sucks here: both parties are to blame - both people involved in the scenario should be held responsible.\n",
    "    D. No assholes here: neither party is to blame. All parties actions are justified. Nobody needs to be held accountable. Shit happens.\n",
    "    E. Not enough info: OP never clarifies details that would determine the true judgment.\n",
    "\n",
    "    Answer:\n",
    "\n",
    "    \"\"\")"
   ]
  },
  {
   "cell_type": "code",
   "execution_count": 23,
   "id": "983ef388",
   "metadata": {},
   "outputs": [],
   "source": [
    "idx = 453\n",
    "response = openai.Completion.create(\n",
    "    model='text-davinci-002',\n",
    "    prompt=create_prompt(df['selftext'].iloc[idx]),\n",
    "    temperature=0.,\n",
    "    logit_bias={32: 10, 33: 10, 34: 10, 35: 10, 36: 10},\n",
    "    logprobs=5\n",
    ")"
   ]
  },
  {
   "cell_type": "code",
   "execution_count": 10,
   "id": "a20e8099",
   "metadata": {},
   "outputs": [],
   "source": [
    "log_probs = np.zeros((100, 5))"
   ]
  },
  {
   "cell_type": "code",
   "execution_count": 24,
   "id": "dab6dfb9",
   "metadata": {},
   "outputs": [
    {
     "data": {
      "text/plain": [
       "[<OpenAIObject at 0x7f3731b75800> JSON: {\n",
       "   \"text\": \"B\",\n",
       "   \"index\": 0,\n",
       "   \"logprobs\": {\n",
       "     \"tokens\": [\n",
       "       \"B\"\n",
       "     ],\n",
       "     \"token_logprobs\": [\n",
       "       -0.04716218\n",
       "     ],\n",
       "     \"top_logprobs\": [\n",
       "       {\n",
       "         \"B\": -0.04716218,\n",
       "         \"C\": -4.2895517,\n",
       "         \"D\": -4.4108305,\n",
       "         \"E\": -4.7877207,\n",
       "         \"A\": -4.869342\n",
       "       }\n",
       "     ],\n",
       "     \"text_offset\": [\n",
       "       2992\n",
       "     ]\n",
       "   },\n",
       "   \"finish_reason\": \"stop\"\n",
       " }]"
      ]
     },
     "execution_count": 24,
     "metadata": {},
     "output_type": "execute_result"
    }
   ],
   "source": [
    "response['choices']"
   ]
  },
  {
   "cell_type": "code",
   "execution_count": 29,
   "id": "e47b17c5",
   "metadata": {},
   "outputs": [
    {
     "data": {
      "text/plain": [
       "array([1.68933701e-04, 2.04637960e-04, 4.67520331e-06, 1.33946956e-06,\n",
       "       1.72382266e-05, 6.94666518e-05, 1.09097481e-05, 9.01137626e-05,\n",
       "       4.55391356e-04, 9.17234396e-01, 1.51572983e-04, 3.19792092e-06,\n",
       "       1.74468308e-03, 6.37534318e-05, 2.00111057e-04, 1.91784634e-04,\n",
       "       2.36547984e-05, 3.11577822e-03, 2.94396051e-06, 5.80797030e-03,\n",
       "       8.59906633e-06, 5.49479856e-05, 3.61750514e-05, 9.43440033e-06,\n",
       "       3.94882595e-04, 6.83243960e-05, 1.08906903e-03, 3.36471289e-04,\n",
       "       5.22679846e-05, 2.44155675e-06, 1.37920549e-04, 2.63769313e-06,\n",
       "       3.82476910e-03, 4.27229916e-04, 3.06137985e-05, 2.15876124e-05,\n",
       "       5.17911633e-04, 2.60384961e-01, 2.56537262e-06, 1.71857069e-06,\n",
       "       1.34319406e-05, 8.61878171e-07, 1.06177190e-03, 2.86004816e-03,\n",
       "       1.19904617e-03, 2.12074327e-04, 7.60500647e-05, 1.30644794e-03,\n",
       "       2.44576952e-05, 1.86536490e-05, 8.08816900e-02, 7.30520781e-05,\n",
       "       1.08022751e-06, 2.45980865e-04, 1.22341063e-04, 8.74767099e-05,\n",
       "       3.73406543e-06, 6.69733614e-06, 1.61606437e-06, 4.90508643e-07,\n",
       "       9.48306986e-07, 5.90860917e-06, 3.65642676e-06, 6.99000340e-05,\n",
       "       6.45792160e-05, 1.04601709e-06, 5.74435692e-06, 4.50546806e-05,\n",
       "       5.46893724e-05, 1.98218666e-05, 6.79131823e-05, 1.79666566e-06,\n",
       "       3.78126084e-04, 5.33867201e-06, 7.39706008e-06, 8.61072799e-06,\n",
       "       6.58477996e-07, 1.41780338e-04, 7.60181752e-03, 2.86841254e-06,\n",
       "       7.66128482e-07, 1.09688403e-06, 1.19392686e-06, 1.82801685e-05,\n",
       "       3.52719747e-06, 1.83245190e-03, 1.21825350e-04, 3.54856843e-04,\n",
       "       8.59482008e-06, 1.36418158e-03, 1.20918761e-06, 2.57097344e-06,\n",
       "       2.70169827e-07, 1.88826434e-05, 9.25186645e-05, 5.28817261e-05,\n",
       "       2.29999948e-04, 1.44488602e-04, 6.74020032e-05, 6.66645005e-05])"
      ]
     },
     "execution_count": 29,
     "metadata": {},
     "output_type": "execute_result"
    }
   ],
   "source": [
    "ruff[:100, 0]"
   ]
  },
  {
   "cell_type": "code",
   "execution_count": 28,
   "id": "e35b8f92",
   "metadata": {},
   "outputs": [
    {
     "data": {
      "text/plain": [
       "(array([98.,  0.,  1.,  0.,  0.,  0.,  0.,  0.,  0.,  1.]),\n",
       " array([2.70169827e-07, 9.17236827e-02, 1.83447095e-01, 2.75170508e-01,\n",
       "        3.66893920e-01, 4.58617333e-01, 5.50340745e-01, 6.42064158e-01,\n",
       "        7.33787571e-01, 8.25510983e-01, 9.17234396e-01]),\n",
       " <BarContainer object of 10 artists>)"
      ]
     },
     "execution_count": 28,
     "metadata": {},
     "output_type": "execute_result"
    },
    {
     "data": {
      "image/png": "[encoded data removed]",
      "text/plain": [
       "<Figure size 640x480 with 1 Axes>"
      ]
     },
     "metadata": {},
     "output_type": "display_data"
    }
   ],
   "source": [
    "ruff = np.exp(log_probs) / np.sum(np.exp(log_probs), axis=1, keepdims=True)\n",
    "\n",
    "plt.hist(ruff[:100, 0])"
   ]
  },
  {
   "cell_type": "code",
   "execution_count": 30,
   "id": "74c266c2",
   "metadata": {},
   "outputs": [],
   "source": [
    "for ii in range(100):\n",
    "    response = openai.Completion.create(\n",
    "        model='text-davinci-003',\n",
    "        prompt=create_prompt(df['selftext'].iloc[ii]),\n",
    "        temperature=0.,\n",
    "        logit_bias={32: 5, 33: 5, 34: 5, 35: 5, 36: 5},\n",
    "        logprobs=5)\n",
    "\n",
    "    log_prob_json = response['choices'][0]['logprobs']['top_logprobs'][1]\n",
    "    min_log_prob = min(log_prob_json.values())\n",
    "    for idx, label in enumerate(['A', 'B', 'C', 'D', 'E']):\n",
    "        if label in log_prob_json:\n",
    "            log_probs[ii, idx] = log_prob_json[label]\n",
    "        else:\n",
    "            print(f'post {ii}, label {label}')\n",
    "            log_probs[ii, idx] = min_log_prob\n"
   ]
  },
  {
   "cell_type": "code",
   "execution_count": 31,
   "id": "5cef2508",
   "metadata": {},
   "outputs": [
    {
     "name": "stdout",
     "output_type": "stream",
     "text": [
      "\n",
      "B. OP is not the asshole: they are NOT to blame and the\n",
      "NTA\n",
      "NTA\n"
     ]
    }
   ],
   "source": [
    "print(response['choices'][0]['text'])\n",
    "print(df['gpt_label'].iloc[idx])\n",
    "print(df['true_label'].iloc[idx])"
   ]
  },
  {
   "cell_type": "code",
   "execution_count": 10,
   "id": "765495ec",
   "metadata": {},
   "outputs": [
    {
     "data": {
      "text/plain": [
       "[<OpenAIObject at 0x7fbdc0ef9b70> JSON: {\n",
       "   \"\\n\": -0.07825902,\n",
       "   \"B\": -3.1774561,\n",
       "   \"C\": -3.543688,\n",
       "   \"A\": -6.070783,\n",
       "   \"D\": -6.2590785\n",
       " },\n",
       " <OpenAIObject at 0x7fbdc0ef9c10> JSON: {\n",
       "   \"B\": -0.5043088,\n",
       "   \"C\": -1.4285183,\n",
       "   \"D\": -1.9130802,\n",
       "   \"A\": -4.879633,\n",
       "   \"E\": -6.735927\n",
       " },\n",
       " <OpenAIObject at 0x7fbdc0ef9cb0> JSON: {\n",
       "   \".\": -0.122198336,\n",
       "   \"<|endoftext|>\": -2.174096,\n",
       "   \")\": -7.4100127,\n",
       "   \":\": -8.830129,\n",
       "   \"D\": -9.437999\n",
       " },\n",
       " <OpenAIObject at 0x7fbdc0ef9d50> JSON: {\n",
       "   \" OP\": -0.04143783,\n",
       "   \" The\": -3.6394012,\n",
       "   \"<|endoftext|>\": -4.638189,\n",
       "   \"OP\": -7.0547843,\n",
       "   \" Ex\": -7.333433\n",
       " },\n",
       " <OpenAIObject at 0x7fbdc0ef9df0> JSON: {\n",
       "   \" is\": -0.00033319838,\n",
       "   \" did\": -9.144443,\n",
       "   \"B\": -9.258782,\n",
       "   \" isn\": -10.602748,\n",
       "   \"A\": -11.165744\n",
       " },\n",
       " <OpenAIObject at 0x7fbdc0ef9e90> JSON: {\n",
       "   \" not\": -0.00047445972,\n",
       "   \" the\": -8.043888,\n",
       "   \" NOT\": -9.002363,\n",
       "   \"A\": -11.6875925,\n",
       "   \" Not\": -12.617491\n",
       " },\n",
       " <OpenAIObject at 0x7fbdc0ef9f30> JSON: {\n",
       "   \" the\": -0.00082516216,\n",
       "   \" to\": -8.151795,\n",
       "   \" an\": -8.313657,\n",
       "   \" at\": -8.953464,\n",
       "   \" asshole\": -10.114881\n",
       " },\n",
       " <OpenAIObject at 0x7fbdc0ef9fd0> JSON: {\n",
       "   \" asshole\": -0.00018999024,\n",
       "   \" Ass\": -9.49044,\n",
       "   \"A\": -9.620035,\n",
       "   \"D\": -10.409066,\n",
       "   \" ass\": -12.499374\n",
       " },\n",
       " <OpenAIObject at 0x7fbdc0efa070> JSON: {\n",
       "   \":\": -0.06821914,\n",
       "   \".\": -2.9600723,\n",
       "   \"D\": -5.885191,\n",
       "   \" -\": -6.2669296,\n",
       "   \";\": -6.3580523\n",
       " },\n",
       " <OpenAIObject at 0x7fbdc0efa110> JSON: {\n",
       "   \" they\": -0.0028843936,\n",
       "   \" They\": -6.2063065,\n",
       "   \" The\": -8.73147,\n",
       "   \" the\": -8.813289,\n",
       "   \"A\": -9.137158\n",
       " },\n",
       " <OpenAIObject at 0x7fbdc0efa1b0> JSON: {\n",
       "   \" are\": -0.0002433488,\n",
       "   \" did\": -9.56967,\n",
       "   \"A\": -9.775065,\n",
       "   \" were\": -10.977556,\n",
       "   \" tried\": -11.073516\n",
       " },\n",
       " <OpenAIObject at 0x7fbdc0efa250> JSON: {\n",
       "   \" NOT\": -0.053335752,\n",
       "   \" not\": -2.981064,\n",
       "   \" to\": -7.607591,\n",
       "   \" Not\": -8.57342,\n",
       "   \"A\": -8.919739\n",
       " },\n",
       " <OpenAIObject at 0x7fbdc0efa2f0> JSON: {\n",
       "   \" to\": -0.0015832342,\n",
       "   \" at\": -6.6958537,\n",
       "   \" responsible\": -9.411493,\n",
       "   \" blame\": -9.754946,\n",
       "   \"A\": -9.832242\n",
       " },\n",
       " <OpenAIObject at 0x7fbdc0efa390> JSON: {\n",
       "   \" blame\": -8.1256905e-05,\n",
       "   \" blamed\": -10.725726,\n",
       "   \"A\": -10.85979,\n",
       "   \" fault\": -11.861104,\n",
       "   \" be\": -11.878243\n",
       " },\n",
       " <OpenAIObject at 0x7fbdc0efa430> JSON: {\n",
       "   \" and\": -0.0012816186,\n",
       "   \".\": -7.822462,\n",
       "   \" in\": -8.050676,\n",
       "   \",\": -8.709469,\n",
       "   \"D\": -9.111794\n",
       " },\n",
       " <OpenAIObject at 0x7fbdc0efa4d0> JSON: {\n",
       "   \" the\": -0.00016137547,\n",
       "   \" other\": -9.1588745,\n",
       "   \" their\": -11.424102,\n",
       "   \" are\": -11.710199,\n",
       "   \" te\": -11.763009\n",
       " }]"
      ]
     },
     "execution_count": 10,
     "metadata": {},
     "output_type": "execute_result"
    }
   ],
   "source": [
    "response['choices'][0]['logprobs']['top_logprobs']"
   ]
  },
  {
   "cell_type": "code",
   "execution_count": 239,
   "id": "076a22a4",
   "metadata": {},
   "outputs": [
    {
     "name": "stdout",
     "output_type": "stream",
     "text": [
      "dict_keys(['B', 'C', 'D', 'A', 'E'])\n"
     ]
    },
    {
     "data": {
      "text/plain": [
       "array([0.5595724 , 0.27098045, 0.15979019, 0.00840306, 0.00125391])"
      ]
     },
     "execution_count": 239,
     "metadata": {},
     "output_type": "execute_result"
    }
   ],
   "source": [
    "print(response['choices'][0]['logprobs']['top_logprobs'][1].keys())\n",
    "logprobs = list(response['choices'][0]['logprobs']['top_logprobs'][1].values())\n",
    "np.exp(logprobs) / np.sum(np.exp(logprobs))"
   ]
  },
  {
   "cell_type": "code",
   "execution_count": null,
   "id": "7545c429",
   "metadata": {},
   "outputs": [],
   "source": []
  }
 ],
 "metadata": {
  "kernelspec": {
   "display_name": "nlp",
   "language": "python",
   "name": "python3"
  },
  "language_info": {
   "codemirror_mode": {
    "name": "ipython",
    "version": 3
   },
   "file_extension": ".py",
   "mimetype": "text/x-python",
   "name": "python",
   "nbconvert_exporter": "python",
   "pygments_lexer": "ipython3",
   "version": "3.10.10"
  }
 },
 "nbformat": 4,
 "nbformat_minor": 5
}
