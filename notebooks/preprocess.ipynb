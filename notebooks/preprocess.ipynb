{
 "cells": [
  {
   "cell_type": "code",
   "execution_count": 1,
   "id": "ef43f78e-771c-4d27-9eb5-d0ecd34c8c92",
   "metadata": {},
   "outputs": [],
   "source": [
    "import pandas as pd\n",
    "import numpy as np\n",
    "\n",
    "from pyprojroot import here"
   ]
  },
  {
   "cell_type": "code",
   "execution_count": 2,
   "id": "346ebdce-6ac5-4b83-91c6-614a9970cf61",
   "metadata": {},
   "outputs": [],
   "source": [
    "df = pd.read_csv(here('data/aita_full.csv'))"
   ]
  },
  {
   "cell_type": "code",
   "execution_count": 7,
   "id": "2ea61864-e255-4be9-a0d6-300e6a099f42",
   "metadata": {},
   "outputs": [
    {
     "data": {
      "text/plain": [
       "0       2022-10-01 17:47:45\n",
       "1       2022-10-31 21:33:08\n",
       "2       2022-11-01 01:34:10\n",
       "3       2022-10-31 19:37:39\n",
       "4       2022-10-31 20:02:53\n",
       "                ...        \n",
       "13200   2023-03-26 02:30:54\n",
       "13201   2023-03-26 04:43:37\n",
       "13202   2023-03-26 04:50:11\n",
       "13203   2023-03-26 06:00:16\n",
       "13204   2023-03-26 07:09:12\n",
       "Name: created_utc, Length: 13205, dtype: datetime64[ns]"
      ]
     },
     "execution_count": 7,
     "metadata": {},
     "output_type": "execute_result"
    }
   ],
   "source": [
    "pd.to_datetime(df.created_utc, unit='s')"
   ]
  },
  {
   "cell_type": "code",
   "execution_count": 14,
   "id": "56d61005-c6b2-46e5-a280-076a79fe0045",
   "metadata": {},
   "outputs": [
    {
     "data": {
      "text/plain": [
       "0.9280575539568345"
      ]
     },
     "execution_count": 14,
     "metadata": {},
     "output_type": "execute_result"
    }
   ],
   "source": [
    "(df['score'] > 25).mean()"
   ]
  },
  {
   "cell_type": "code",
   "execution_count": 12,
   "id": "cd38566e-0604-4ff5-87df-92a19904f9f0",
   "metadata": {},
   "outputs": [
    {
     "data": {
      "text/plain": [
       "0.9917455509276789"
      ]
     },
     "execution_count": 12,
     "metadata": {},
     "output_type": "execute_result"
    }
   ],
   "source": [
    "(df['selftext'].str.len() > 300).mean()"
   ]
  },
  {
   "cell_type": "code",
   "execution_count": 13,
   "id": "5bd71a3c-0ef0-41a2-9228-967570b220f4",
   "metadata": {},
   "outputs": [
    {
     "data": {
      "text/plain": [
       "0.981294964028777"
      ]
     },
     "execution_count": 13,
     "metadata": {},
     "output_type": "execute_result"
    }
   ],
   "source": [
    "(df['top_comment'].str.len() > 15).mean()"
   ]
  },
  {
   "cell_type": "code",
   "execution_count": 18,
   "id": "4576ee7d-a96a-4eb0-9b13-6b850854e1bc",
   "metadata": {},
   "outputs": [],
   "source": [
    "to_drop_flairs = ['UPDATE',\n",
    "                  'TL;DR',\n",
    "                  'Best of 2022',\n",
    "                  'Open Forum',\n",
    "                  'META',\n",
    "                  'Upcoming Talk!!!']"
   ]
  },
  {
   "cell_type": "code",
   "execution_count": 19,
   "id": "2d8d7fce-5028-4a39-ab4d-0af13d94863c",
   "metadata": {},
   "outputs": [],
   "source": [
    "df = df[~df['flair_text'].isin(to_drop_flairs)].reset_index(drop=True).copy()\n",
    "df = df[df['top_comment'] != '[removed]']\n",
    "df = df[df['top_comment'] != '[deleted]']\n",
    "df = df[df['selftext'] != '[removed]']\n",
    "df = df[df['selftext'] != '[deleted]']\n",
    "df = df[df['score'] > 25]\n",
    "df = df[df['top_comment'].str.len() > 15]\n",
    "df = df[df['selftext'].str.len() > 300]\n",
    "df = df.reset_index(drop=True)"
   ]
  },
  {
   "cell_type": "code",
   "execution_count": 20,
   "id": "627d4835-8620-414a-b0b2-7c46af32eb52",
   "metadata": {},
   "outputs": [],
   "source": [
    "df['true_label'] = df['flair_text'].replace({\n",
    "    'Asshole': 'YTA',\n",
    "    'Not the A-hole': 'NTA',\n",
    "    'Everyone Sucks': 'ESH',\n",
    "    'No A-holes here': 'NAH',\n",
    "    'Not enough info': 'INFO'})"
   ]
  },
  {
   "cell_type": "code",
   "execution_count": 21,
   "id": "386afc09-e3db-4164-957e-12042adc2008",
   "metadata": {},
   "outputs": [],
   "source": [
    "df['yta_guess'] = df['true_label'].isna() & df['top_comment'].str.contains('YTA| yta | yta.|^yta|Y T A|YWBTA|Yta')\n",
    "df['nta_guess'] = df['true_label'].isna() & df['top_comment'].str.contains('NTA| nta | nta.|^nta|N T A|YWNBTA|Nta')\n",
    "df['nah_guess'] = df['true_label'].isna() & df['top_comment'].str.contains('NAH| nah | nah.|^nah')\n",
    "df['esh_guess'] = df['true_label'].isna() & df['top_comment'].str.contains('ESH| esh | esh.|^esh')\n",
    "df['info_guess'] = df['true_label'].isna() & df['top_comment'].str.contains('INFO|^Info')"
   ]
  },
  {
   "cell_type": "code",
   "execution_count": 22,
   "id": "789b1e06-ea7b-4515-a757-2537a84f4469",
   "metadata": {},
   "outputs": [],
   "source": [
    "df.loc[df['esh_guess'], 'true_label'] = 'ESH'\n",
    "df.loc[df['nah_guess'], 'true_label'] = 'NAH'\n",
    "df.loc[df['info_guess'], 'true_label'] = 'INFO'\n",
    "df.loc[df['yta_guess'], 'true_label'] = 'YTA'\n",
    "df.loc[df['nta_guess'], 'true_label'] = 'NTA'"
   ]
  },
  {
   "cell_type": "code",
   "execution_count": 23,
   "id": "0031b6a6-3f40-4e62-9701-09a70f06b2f9",
   "metadata": {},
   "outputs": [],
   "source": [
    "df = df[~df['true_label'].isna()]"
   ]
  },
  {
   "cell_type": "code",
   "execution_count": 24,
   "id": "db70d994-57c2-4711-ae42-e6dfef31e42a",
   "metadata": {},
   "outputs": [],
   "source": [
    "df['created_utc'] = pd.to_datetime(df['created_utc'], unit='s')"
   ]
  },
  {
   "cell_type": "code",
   "execution_count": 25,
   "id": "1c216a1c-94b4-4cbd-b250-8ba64e4cc3fa",
   "metadata": {},
   "outputs": [],
   "source": [
    "df = df.drop(['yta_guess',\n",
    "              'nta_guess',\n",
    "              'nah_guess',\n",
    "              'esh_guess',\n",
    "              'info_guess'], axis=1).sort_values('created_utc', ascending=True).reset_index(drop=True)"
   ]
  },
  {
   "cell_type": "code",
   "execution_count": 28,
   "id": "b5105e67-f522-492f-afbb-616332ef2700",
   "metadata": {},
   "outputs": [
    {
     "name": "stderr",
     "output_type": "stream",
     "text": [
      "/opt/homebrew/Caskroom/miniforge/base/envs/nlp/lib/python3.9/site-packages/pyprojroot/pyprojroot.py:51: UserWarning: Path doesn't exist: /Users/psachdeva/projects/moral_foundations_llms/data/aita_processed.csv\n",
      "  warnings.warn(\"Path doesn't exist: {}\".format(path))\n"
     ]
    }
   ],
   "source": [
    "df.to_csv(here('data/aita_processed.csv'), index=False)"
   ]
  }
 ],
 "metadata": {
  "kernelspec": {
   "display_name": "nlp",
   "language": "python",
   "name": "nlp"
  },
  "language_info": {
   "codemirror_mode": {
    "name": "ipython",
    "version": 3
   },
   "file_extension": ".py",
   "mimetype": "text/x-python",
   "name": "python",
   "nbconvert_exporter": "python",
   "pygments_lexer": "ipython3",
   "version": "3.9.16"
  }
 },
 "nbformat": 4,
 "nbformat_minor": 5
}
