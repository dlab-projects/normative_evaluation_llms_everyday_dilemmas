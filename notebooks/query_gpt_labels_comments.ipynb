{
 "cells": [
  {
   "cell_type": "code",
   "execution_count": 1,
   "id": "91bc8bff-3a88-4481-9a04-05b241914659",
   "metadata": {},
   "outputs": [],
   "source": [
    "import pandas as pd\n",
    "import tqdm\n",
    "import openai\n",
    "import nltk\n",
    "import os\n",
    "\n",
    "from pyprojroot import here\n",
    "from moral_foundations_llms import utils\n",
    "from textwrap import dedent"
   ]
  },
  {
   "cell_type": "code",
   "execution_count": 2,
   "id": "2201e12e-bebe-4b28-b0b6-61e741efcea7",
   "metadata": {},
   "outputs": [],
   "source": [
    "api_path = os.path.join(os.environ['HOME'], 'openai/api.txt')"
   ]
  },
  {
   "cell_type": "code",
   "execution_count": 3,
   "id": "5e9059c1-c0f6-433a-b2ba-0716e23fb536",
   "metadata": {},
   "outputs": [],
   "source": [
    "with open(api_path, 'r') as f:\n",
    "    openai.api_key = f.read().strip()"
   ]
  },
  {
   "cell_type": "code",
   "execution_count": 4,
   "id": "e565a884-59bd-439a-a8ad-f87b0095c369",
   "metadata": {},
   "outputs": [],
   "source": [
    "df = pd.read_csv(here('data/aita_comments_Aug17_labels_update_Aug31.csv'))"
   ]
  },
  {
   "cell_type": "markdown",
   "metadata": {},
   "source": []
  },
  {
   "cell_type": "code",
   "execution_count": 5,
   "metadata": {},
   "outputs": [
    {
     "data": {
      "text/plain": [
       "Index(['id', 'flair_text_x', 'comment', 'score_x', 'comment_author',\n",
       "       'comment_time', 'comment_parent_id', 'comment_depth',\n",
       "       'comment_permalink', 'author_comment_karma', 'author_link_karma',\n",
       "       'submission_id', 'title', 'selftext', 'created_utc', 'permalink',\n",
       "       'score_y', 'flair_text_y', 'top_comment', 'true_label', 'gpt_dilemma',\n",
       "       'gpt_label', 'gpt_reason', 'care_p', 'fairness_p', 'loyalty_p',\n",
       "       'authority_p', 'sanctity_p', 'care_sent', 'fairness_sent',\n",
       "       'loyalty_sent', 'authority_sent', 'sanctity_sent',\n",
       "       'moral_nonmoral_ratio', 'f_var', 'sent_var', 'comment_label'],\n",
       "      dtype='object')"
      ]
     },
     "execution_count": 5,
     "metadata": {},
     "output_type": "execute_result"
    }
   ],
   "source": [
    "df"
   ]
  },
  {
   "cell_type": "code",
   "execution_count": 25,
   "id": "2a6f1b0e-69b5-41b2-9871-0c4d1d25087d",
   "metadata": {},
   "outputs": [],
   "source": [
    "df = df[df['comment_author'] != 'AutoModerator']"
   ]
  },
  {
   "cell_type": "code",
   "execution_count": 29,
   "id": "c9c6ae6f-8663-4d15-bfef-5dab26aabcc6",
   "metadata": {},
   "outputs": [],
   "source": [
    "df_nan = df[df['comment_label'].isna()]"
   ]
  },
  {
   "cell_type": "code",
   "execution_count": 31,
   "id": "50d95d12-76cf-4947-89d9-60fcd06f2e09",
   "metadata": {},
   "outputs": [],
   "source": [
    "instructions = dedent(\"\"\"\n",
    "    You are a tool for labeling social media posts.\n",
    "    \n",
    "    Please evaluate the following comment on from the subreddit \"Am I the Asshole\".\n",
    "    \n",
    "    Determine whether the following comment is expressing one of the following judgements:\n",
    "    \n",
    "    - YTA or \"You're the Asshole\" is for scenarios where the OP is at fault in their situation.\n",
    "    - NTA or \"Not the Asshole\" is for scenarios where the OP is NOT to blame and the other party described in their scenario is to blame.\n",
    "    - ESH or \"Everyone Sucks Here\" is for scenarios where both parties are to blame- both people involved in the scenario should be held responsible.\n",
    "    - NAH or \"No Assholes Here\" is for scenarios where neither party is to blame. All parties actions are justified. Nobody needs to be held accountable. Shit happens.\n",
    "    - INFO or \"Not Enough Info\" is for situations where the OP never clarifies details that would determine the true judgment.\n",
    "    - NONE when it seems like no specific judgement is being rendered.\n",
    "    \n",
    "    You should lean toward assigning \"NONE\" if it is not clear what the judgement is.\n",
    "    Usually, commenters will use one of the labels in their post, but sometimes they imply it.\n",
    "    A comment simply expressing a strong sentiment is not enough to guarantee a YTA assignment, for example.\n",
    "    Additionally, a comment that implies multiple judgements, usually conditioned on unknown information, should also be assigned NONE.\n",
    "    \n",
    "    Please return the label you think should be assigned to the comment.\"\"\")"
   ]
  },
  {
   "cell_type": "code",
   "execution_count": 43,
   "id": "55b04206-e533-4320-a7db-a402f4cec078",
   "metadata": {},
   "outputs": [
    {
     "name": "stderr",
     "output_type": "stream",
     "text": [
      " 11%|███████                                                        | 1/9 [00:00<00:07,  1.06it/s]"
     ]
    },
    {
     "name": "stdout",
     "output_type": "stream",
     "text": [
      "YTA\n"
     ]
    },
    {
     "name": "stderr",
     "output_type": "stream",
     "text": [
      " 22%|██████████████                                                 | 2/9 [00:01<00:04,  1.46it/s]"
     ]
    },
    {
     "name": "stdout",
     "output_type": "stream",
     "text": [
      "NONE\n"
     ]
    },
    {
     "name": "stderr",
     "output_type": "stream",
     "text": [
      " 33%|█████████████████████                                          | 3/9 [00:01<00:03,  1.65it/s]"
     ]
    },
    {
     "name": "stdout",
     "output_type": "stream",
     "text": [
      "NONE\n"
     ]
    },
    {
     "name": "stderr",
     "output_type": "stream",
     "text": [
      " 44%|████████████████████████████                                   | 4/9 [00:02<00:03,  1.37it/s]"
     ]
    },
    {
     "name": "stdout",
     "output_type": "stream",
     "text": [
      "YTA\n"
     ]
    },
    {
     "name": "stderr",
     "output_type": "stream",
     "text": [
      " 56%|███████████████████████████████████                            | 5/9 [00:03<00:02,  1.58it/s]"
     ]
    },
    {
     "name": "stdout",
     "output_type": "stream",
     "text": [
      "NTA\n"
     ]
    },
    {
     "name": "stderr",
     "output_type": "stream",
     "text": [
      " 67%|██████████████████████████████████████████                     | 6/9 [00:03<00:01,  1.64it/s]"
     ]
    },
    {
     "name": "stdout",
     "output_type": "stream",
     "text": [
      "NTA\n"
     ]
    },
    {
     "name": "stderr",
     "output_type": "stream",
     "text": [
      " 78%|█████████████████████████████████████████████████              | 7/9 [00:04<00:01,  1.41it/s]"
     ]
    },
    {
     "name": "stdout",
     "output_type": "stream",
     "text": [
      "YTA\n"
     ]
    },
    {
     "name": "stderr",
     "output_type": "stream",
     "text": [
      " 89%|████████████████████████████████████████████████████████       | 8/9 [00:05<00:00,  1.54it/s]"
     ]
    },
    {
     "name": "stdout",
     "output_type": "stream",
     "text": [
      "NONE\n"
     ]
    },
    {
     "name": "stderr",
     "output_type": "stream",
     "text": [
      "100%|███████████████████████████████████████████████████████████████| 9/9 [00:05<00:00,  1.56it/s]"
     ]
    },
    {
     "name": "stdout",
     "output_type": "stream",
     "text": [
      "NONE\n"
     ]
    },
    {
     "name": "stderr",
     "output_type": "stream",
     "text": [
      "\n"
     ]
    }
   ],
   "source": [
    "for post in tqdm.tqdm(range(31, 40)):\n",
    "    try:\n",
    "        response = openai.ChatCompletion.create(\n",
    "            model='gpt-3.5-turbo',\n",
    "            messages=[\n",
    "                {\"role\": \"system\", \"content\": instructions},\n",
    "                {\"role\": \"user\", \"content\": df_nan['comment'].iloc[post]}\n",
    "            ],\n",
    "            temperature=0.4)\n",
    "    except openai.error.APIError as e:\n",
    "        print(f\"Post {post}, OpenAI API returned an API Error: {e}\")\n",
    "        failed.append(post)\n",
    "        continue\n",
    "    except openai.error.APIConnectionError as e:\n",
    "        print(f\"Post {post}, OpenAI API request failed to connect: {e}\")\n",
    "        failed.append(post)\n",
    "        continue\n",
    "    except openai.error.ServiceUnavailableError as e:\n",
    "        print(f\"Post {post}, OpenAI API returned a Service Unavailable Error: {e}\")\n",
    "        failed.append(post)\n",
    "        continue\n",
    "\n",
    "    answer = response['choices'][0]['message']['content']\n",
    "    print(answer)\n",
    "\n",
    "        "
   ]
  },
  {
   "cell_type": "code",
   "execution_count": 46,
   "id": "8ab0eb14-b991-4971-b030-b0765d01c096",
   "metadata": {},
   "outputs": [
    {
     "name": "stdout",
     "output_type": "stream",
     "text": [
      "NTA: tell her and her flying monkeys that she abandoned them for 10 years. They don’t know her anymore and don’t want anything to do with her. If that changes you’ll inform her if not, she needs to leave you alone. In the meantime, I suggest you inform the court that she showed up so she can start paying you child support.\n"
     ]
    }
   ],
   "source": [
    "print(df_nan['comment'].iloc[35])"
   ]
  },
  {
   "cell_type": "code",
   "execution_count": null,
   "id": "4d7d10db-b5fd-4a65-ba29-84591b5ad1cd",
   "metadata": {},
   "outputs": [],
   "source": []
  }
 ],
 "metadata": {
  "kernelspec": {
   "display_name": "nlp",
   "language": "python",
   "name": "python3"
  },
  "language_info": {
   "codemirror_mode": {
    "name": "ipython",
    "version": 3
   },
   "file_extension": ".py",
   "mimetype": "text/x-python",
   "name": "python",
   "nbconvert_exporter": "python",
   "pygments_lexer": "ipython3",
   "version": "3.9.16"
  }
 },
 "nbformat": 4,
 "nbformat_minor": 5
}
