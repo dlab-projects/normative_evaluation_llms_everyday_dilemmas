{
 "cells": [
  {
   "cell_type": "code",
   "execution_count": 1,
   "id": "405c36a9-52ca-43c4-b219-198cd0d1c220",
   "metadata": {},
   "outputs": [],
   "source": [
    "import pandas as pd\n",
    "import tqdm\n",
    "import openai\n",
    "import nltk\n",
    "import os\n",
    "\n",
    "from pyprojroot import here\n",
    "from moral_foundations_llms import utils\n",
    "from textwrap import dedent"
   ]
  },
  {
   "cell_type": "code",
   "execution_count": 2,
   "id": "badcddc6-8aab-4f38-9680-189df4978a4d",
   "metadata": {},
   "outputs": [],
   "source": [
    "comments = pd.read_csv(here('data/aita_comments_Aug17_labels_update_Aug31.csv'))\n",
    "filled = pd.read_csv(here('data/aita_nan_comments_labels_gpt.csv'))"
   ]
  },
  {
   "cell_type": "code",
   "execution_count": 3,
   "id": "6fd49a5d-59b0-46da-968f-f42870e09f6f",
   "metadata": {},
   "outputs": [],
   "source": [
    "comments = comments.drop(columns=['flair_text_y'])\n",
    "comments = comments.rename(\n",
    "    columns={'flair_text_x': 'flair_text',\n",
    "             'score_x': 'score_comment',\n",
    "             'score_y': 'score_submission'})\n",
    "comments = comments[comments['comment_author'] != 'AutoModerator'] \n",
    "comments = comments[comments['comment_author'] != 'AmItheAsshole-ModTeam']"
   ]
  },
  {
   "cell_type": "code",
   "execution_count": 4,
   "id": "17f5e660-1160-446d-ae02-b072b16fdc8c",
   "metadata": {},
   "outputs": [],
   "source": [
    "comments = comments.merge(right=filled[['comment_permalink', 'gpt_comment_label']],\n",
    "               how='left',\n",
    "               on='comment_permalink')"
   ]
  },
  {
   "cell_type": "code",
   "execution_count": 5,
   "id": "f981e888-b4ba-4721-83ea-14558073f460",
   "metadata": {},
   "outputs": [],
   "source": [
    "comments['comment_label'].replace(\n",
    "    {'NTA (Not the Asshole)': 'NTA',\n",
    "     'NTA or \"Not the Asshole\"': 'NTA',\n",
    "     \"ESH (Everyone Sucks Here)\": \"ESH\",\n",
    "     \n",
    "     \"YWBTA\": \"YTA\",\n",
    "     \"NTAH\": \"NTA\",\n",
    "     \"YTA (You're the Asshole)\": \"YTA\",\n",
    "     \"Label: YTA (You're the Asshole)\": \"YTA\",\n",
    "     \"YTA/ESH\": \"YTA\",\n",
    "     \"NTA/NAH\": \"NTA\",\n",
    "     \"NAH/INFO\": \"NAH\",\n",
    "     \"Label: YTA\": \"YTA\",\n",
    "     \"ESH, but even slight YTA.\": \"ESH\",\n",
    "     \"The comment expresses multiple judgements, including NTA for expecting the friend not to make jokes about the miscarriage, and YTA for expecting the friend to want to be around the baby\": \"YTA\",\n",
    "     'Based on the comment you provided, it seems to be expressing the judgement of YTA or \"You\\'re the Asshole\". The commenter states that the OP is at fault for not recognizing that the child\\'s behavior was normal and for overreacting by involving the MIL.': \"YTA\",\n",
    "     \"I apologize for the confusion. I am a tool designed to evaluate social media comments and assign them a label based on whether the commenter is seen as the asshole (YTA), not the asshole (NTA), everyone sucks (ESH), no assholes (NAH), not enough information (INFO), or if no specific judgement is being rendered (NONE). I will analyze the comment you provide and assign the appropriate label based on the content of the comment.         1\\nNTA to NAH\": \"NTA\",\n",
    "    }, inplace=True)"
   ]
  },
  {
   "cell_type": "code",
   "execution_count": 6,
   "id": "4adbb466-b827-4ddd-8a11-5403e179faf3",
   "metadata": {},
   "outputs": [],
   "source": [
    "comments['comment_label'] = comments['comment_label'].fillna(comments['gpt_comment_label'])\n",
    "comments.loc[~comments['comment_label'].str.contains('YTA|NTA|INFO|NONE|ESH|INFO|NAH', regex=True), 'comment_label'] = 'NONE'\n",
    "comments.loc[comments['comment_label'].str.contains('NONE'), 'comment_label'] = 'NONE'\n",
    "comments.loc[comments['comment_label'].str.contains('INFO'), 'comment_label'] = 'INFO'\n",
    "comments.loc[comments['comment_label'].str.contains('YTA'), 'comment_label'] = 'YTA'\n",
    "comments.loc[comments['comment_label'].str.contains('NTA'), 'comment_label'] = 'NTA'\n",
    "comments.loc[comments['comment_label'].str.contains('ESH'), 'comment_label'] = 'ESH'"
   ]
  },
  {
   "cell_type": "code",
   "execution_count": 7,
   "id": "9823686c-2970-4d33-9f8d-e40548748e7e",
   "metadata": {},
   "outputs": [
    {
     "data": {
      "text/plain": [
       "NTA     306405\n",
       "YTA      99228\n",
       "NONE     82065\n",
       "ESH      13241\n",
       "INFO     13138\n",
       "NAH       9683\n",
       "Name: comment_label, dtype: int64"
      ]
     },
     "execution_count": 7,
     "metadata": {},
     "output_type": "execute_result"
    }
   ],
   "source": [
    "comments['comment_label'].value_counts(dropna=False)"
   ]
  },
  {
   "cell_type": "code",
   "execution_count": 10,
   "id": "6a66a960-7d59-4e44-8d53-fd4613356d1b",
   "metadata": {},
   "outputs": [
    {
     "name": "stderr",
     "output_type": "stream",
     "text": [
      "/opt/homebrew/Caskroom/miniforge/base/envs/nlp/lib/python3.9/site-packages/pyprojroot/pyprojroot.py:51: UserWarning: Path doesn't exist: /Users/psachdeva/projects/moral_foundations_llms/data/aita_all_comments_labeled.csv\n",
      "  warnings.warn(\"Path doesn't exist: {}\".format(path))\n"
     ]
    }
   ],
   "source": [
    "comments.to_csv(here('data/aita_all_comments_labeled.csv'), index=False)"
   ]
  },
  {
   "cell_type": "code",
   "execution_count": null,
   "id": "fa9fe68f-d50a-4c1a-b379-33217e2cfa19",
   "metadata": {},
   "outputs": [],
   "source": []
  }
 ],
 "metadata": {
  "kernelspec": {
   "display_name": "nlp",
   "language": "python",
   "name": "nlp"
  },
  "language_info": {
   "codemirror_mode": {
    "name": "ipython",
    "version": 3
   },
   "file_extension": ".py",
   "mimetype": "text/x-python",
   "name": "python",
   "nbconvert_exporter": "python",
   "pygments_lexer": "ipython3",
   "version": "3.9.16"
  }
 },
 "nbformat": 4,
 "nbformat_minor": 5
}
