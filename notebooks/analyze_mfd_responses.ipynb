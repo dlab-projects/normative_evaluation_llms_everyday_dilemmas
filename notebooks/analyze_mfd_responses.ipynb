{
 "cells": [
  {
   "cell_type": "code",
   "execution_count": 16,
   "metadata": {},
   "outputs": [],
   "source": [
    "import matplotlib.pyplot as plt\n",
    "import numpy as np\n",
    "import pandas as pd\n",
    "import seaborn as sns\n",
    "import mpl_lego as mplego\n",
    "\n",
    "from functools import partial\n",
    "from pyprojroot import here\n",
    "from mpl_lego.labels import bold_text, add_significance_label\n",
    "from scipy.stats import bootstrap, mannwhitneyu\n",
    "\n",
    "%matplotlib inline"
   ]
  },
  {
   "cell_type": "code",
   "execution_count": 2,
   "metadata": {},
   "outputs": [],
   "source": [
    "mplego.style.use_latex_style()"
   ]
  },
  {
   "cell_type": "code",
   "execution_count": 3,
   "metadata": {},
   "outputs": [],
   "source": [
    "df1 = pd.read_csv(here('data/aita_w_gpt_w_mfd.csv'))"
   ]
  },
  {
   "cell_type": "code",
   "execution_count": 4,
   "metadata": {},
   "outputs": [],
   "source": [
    "df2 = pd.read_csv(here('data/aita_final_no_mfd.csv'))"
   ]
  },
  {
   "cell_type": "code",
   "execution_count": 5,
   "metadata": {},
   "outputs": [],
   "source": [
    "df = df2.merge(df1[['submission_id',\n",
    "              'care_p',\n",
    "              'fairness_p',\n",
    "              'loyalty_p',\n",
    "              'authority_p',\n",
    "              'sanctity_p',\n",
    "              'care_sent',\n",
    "              'fairness_sent',\n",
    "              'loyalty_sent',\n",
    "              'authority_sent',\n",
    "              'sanctity_sent',\n",
    "              'moral_nonmoral_ratio',\n",
    "              'f_var',\n",
    "              'sent_var']],\n",
    "          on='submission_id',\n",
    "          how='left')"
   ]
  },
  {
   "cell_type": "code",
   "execution_count": 38,
   "metadata": {},
   "outputs": [],
   "source": [
    "df.to_csv('../data/aita_final.csv', index=False)"
   ]
  },
  {
   "cell_type": "code",
   "execution_count": 6,
   "metadata": {},
   "outputs": [],
   "source": [
    "labels = ['NTA', 'YTA', 'NAH', 'ESH', 'INFO']\n",
    "n_labels = len(labels)"
   ]
  },
  {
   "cell_type": "code",
   "execution_count": 7,
   "metadata": {},
   "outputs": [
    {
     "data": {
      "text/html": [
       "<div>\n",
       "<style scoped>\n",
       "    .dataframe tbody tr th:only-of-type {\n",
       "        vertical-align: middle;\n",
       "    }\n",
       "\n",
       "    .dataframe tbody tr th {\n",
       "        vertical-align: top;\n",
       "    }\n",
       "\n",
       "    .dataframe thead th {\n",
       "        text-align: right;\n",
       "    }\n",
       "</style>\n",
       "<table border=\"1\" class=\"dataframe\">\n",
       "  <thead>\n",
       "    <tr style=\"text-align: right;\">\n",
       "      <th></th>\n",
       "      <th>care_p</th>\n",
       "      <th>fairness_p</th>\n",
       "      <th>loyalty_p</th>\n",
       "      <th>authority_p</th>\n",
       "      <th>sanctity_p</th>\n",
       "      <th>f_var</th>\n",
       "    </tr>\n",
       "    <tr>\n",
       "      <th>gpt_label_1</th>\n",
       "      <th></th>\n",
       "      <th></th>\n",
       "      <th></th>\n",
       "      <th></th>\n",
       "      <th></th>\n",
       "      <th></th>\n",
       "    </tr>\n",
       "  </thead>\n",
       "  <tbody>\n",
       "    <tr>\n",
       "      <th>ESH</th>\n",
       "      <td>0.106824</td>\n",
       "      <td>0.097340</td>\n",
       "      <td>0.095187</td>\n",
       "      <td>0.087176</td>\n",
       "      <td>0.087252</td>\n",
       "      <td>0.000108</td>\n",
       "    </tr>\n",
       "    <tr>\n",
       "      <th>INFO</th>\n",
       "      <td>0.105624</td>\n",
       "      <td>0.097458</td>\n",
       "      <td>0.095918</td>\n",
       "      <td>0.086511</td>\n",
       "      <td>0.086540</td>\n",
       "      <td>0.000111</td>\n",
       "    </tr>\n",
       "    <tr>\n",
       "      <th>NAH</th>\n",
       "      <td>0.107271</td>\n",
       "      <td>0.098788</td>\n",
       "      <td>0.096174</td>\n",
       "      <td>0.087502</td>\n",
       "      <td>0.088199</td>\n",
       "      <td>0.000125</td>\n",
       "    </tr>\n",
       "    <tr>\n",
       "      <th>NTA</th>\n",
       "      <td>0.107380</td>\n",
       "      <td>0.098048</td>\n",
       "      <td>0.095884</td>\n",
       "      <td>0.087842</td>\n",
       "      <td>0.087916</td>\n",
       "      <td>0.000109</td>\n",
       "    </tr>\n",
       "    <tr>\n",
       "      <th>YTA</th>\n",
       "      <td>0.106164</td>\n",
       "      <td>0.096961</td>\n",
       "      <td>0.095348</td>\n",
       "      <td>0.086695</td>\n",
       "      <td>0.086855</td>\n",
       "      <td>0.000112</td>\n",
       "    </tr>\n",
       "  </tbody>\n",
       "</table>\n",
       "</div>"
      ],
      "text/plain": [
       "               care_p  fairness_p  loyalty_p  authority_p  sanctity_p  \\\n",
       "gpt_label_1                                                             \n",
       "ESH          0.106824    0.097340   0.095187     0.087176    0.087252   \n",
       "INFO         0.105624    0.097458   0.095918     0.086511    0.086540   \n",
       "NAH          0.107271    0.098788   0.096174     0.087502    0.088199   \n",
       "NTA          0.107380    0.098048   0.095884     0.087842    0.087916   \n",
       "YTA          0.106164    0.096961   0.095348     0.086695    0.086855   \n",
       "\n",
       "                f_var  \n",
       "gpt_label_1            \n",
       "ESH          0.000108  \n",
       "INFO         0.000111  \n",
       "NAH          0.000125  \n",
       "NTA          0.000109  \n",
       "YTA          0.000112  "
      ]
     },
     "execution_count": 7,
     "metadata": {},
     "output_type": "execute_result"
    }
   ],
   "source": [
    "df.groupby('gpt_label_1')[['care_p', 'fairness_p', 'loyalty_p', 'authority_p', 'sanctity_p', 'f_var']].mean()"
   ]
  },
  {
   "cell_type": "code",
   "execution_count": 8,
   "metadata": {},
   "outputs": [
    {
     "data": {
      "text/html": [
       "<div>\n",
       "<style scoped>\n",
       "    .dataframe tbody tr th:only-of-type {\n",
       "        vertical-align: middle;\n",
       "    }\n",
       "\n",
       "    .dataframe tbody tr th {\n",
       "        vertical-align: top;\n",
       "    }\n",
       "\n",
       "    .dataframe thead th {\n",
       "        text-align: right;\n",
       "    }\n",
       "</style>\n",
       "<table border=\"1\" class=\"dataframe\">\n",
       "  <thead>\n",
       "    <tr style=\"text-align: right;\">\n",
       "      <th></th>\n",
       "      <th>care_p</th>\n",
       "      <th>fairness_p</th>\n",
       "      <th>loyalty_p</th>\n",
       "      <th>authority_p</th>\n",
       "      <th>sanctity_p</th>\n",
       "    </tr>\n",
       "    <tr>\n",
       "      <th>true_label</th>\n",
       "      <th></th>\n",
       "      <th></th>\n",
       "      <th></th>\n",
       "      <th></th>\n",
       "      <th></th>\n",
       "    </tr>\n",
       "  </thead>\n",
       "  <tbody>\n",
       "    <tr>\n",
       "      <th>ESH</th>\n",
       "      <td>0.106689</td>\n",
       "      <td>0.096861</td>\n",
       "      <td>0.095469</td>\n",
       "      <td>0.087342</td>\n",
       "      <td>0.087530</td>\n",
       "    </tr>\n",
       "    <tr>\n",
       "      <th>INFO</th>\n",
       "      <td>0.106991</td>\n",
       "      <td>0.098874</td>\n",
       "      <td>0.096141</td>\n",
       "      <td>0.087754</td>\n",
       "      <td>0.088077</td>\n",
       "    </tr>\n",
       "    <tr>\n",
       "      <th>NAH</th>\n",
       "      <td>0.106087</td>\n",
       "      <td>0.096261</td>\n",
       "      <td>0.095123</td>\n",
       "      <td>0.085840</td>\n",
       "      <td>0.087296</td>\n",
       "    </tr>\n",
       "    <tr>\n",
       "      <th>NTA</th>\n",
       "      <td>0.107143</td>\n",
       "      <td>0.097965</td>\n",
       "      <td>0.095695</td>\n",
       "      <td>0.087583</td>\n",
       "      <td>0.087595</td>\n",
       "    </tr>\n",
       "    <tr>\n",
       "      <th>YTA</th>\n",
       "      <td>0.105912</td>\n",
       "      <td>0.096170</td>\n",
       "      <td>0.095438</td>\n",
       "      <td>0.086611</td>\n",
       "      <td>0.086910</td>\n",
       "    </tr>\n",
       "  </tbody>\n",
       "</table>\n",
       "</div>"
      ],
      "text/plain": [
       "              care_p  fairness_p  loyalty_p  authority_p  sanctity_p\n",
       "true_label                                                          \n",
       "ESH         0.106689    0.096861   0.095469     0.087342    0.087530\n",
       "INFO        0.106991    0.098874   0.096141     0.087754    0.088077\n",
       "NAH         0.106087    0.096261   0.095123     0.085840    0.087296\n",
       "NTA         0.107143    0.097965   0.095695     0.087583    0.087595\n",
       "YTA         0.105912    0.096170   0.095438     0.086611    0.086910"
      ]
     },
     "execution_count": 8,
     "metadata": {},
     "output_type": "execute_result"
    }
   ],
   "source": [
    "df.groupby('true_label')[['care_p', 'fairness_p', 'loyalty_p', 'authority_p', 'sanctity_p']].mean()"
   ]
  },
  {
   "cell_type": "code",
   "execution_count": 9,
   "metadata": {},
   "outputs": [],
   "source": [
    "gpt_yta = df[(df['gpt_label_1'] == 'YTA')]\n",
    "hum_yta = df[(df['true_label'] == 'YTA')]\n",
    "gpt_yta_hum_not_yta = df[(df['gpt_label_2'] == 'YTA') & (df['true_label'] != 'YTA')]\n",
    "gpt_not_yta_hum_yta = df[(df['gpt_label_2'] != 'YTA') & (df['true_label'] == 'YTA')]"
   ]
  },
  {
   "cell_type": "code",
   "execution_count": 33,
   "metadata": {},
   "outputs": [],
   "source": [
    "yta2yta = df[(df['true_label'] == 'YTA') & (df['gpt_label_3'] == 'YTA')]\n",
    "yta2nta = df[(df['true_label'] == 'YTA') & (df['gpt_label_3'] == 'NTA')]\n",
    "nta2yta = df[(df['true_label'] != 'YTA') & (df['gpt_label_3'] == 'YTA')]\n",
    "nta2nta = df[(df['true_label'] == 'NTA') & (df['gpt_label_3'] == 'NTA')]"
   ]
  },
  {
   "cell_type": "code",
   "execution_count": 36,
   "metadata": {},
   "outputs": [
    {
     "data": {
      "text/plain": [
       "(291, 36)"
      ]
     },
     "execution_count": 36,
     "metadata": {},
     "output_type": "execute_result"
    }
   ],
   "source": [
    "yta2nta.shape"
   ]
  },
  {
   "cell_type": "code",
   "execution_count": 35,
   "metadata": {},
   "outputs": [
    {
     "data": {
      "text/plain": [
       "(1259, 36)"
      ]
     },
     "execution_count": 35,
     "metadata": {},
     "output_type": "execute_result"
    }
   ],
   "source": [
    "yta2yta.shape"
   ]
  },
  {
   "cell_type": "code",
   "execution_count": 37,
   "metadata": {},
   "outputs": [
    {
     "data": {
      "text/plain": [
       "(1797, 36)"
      ]
     },
     "execution_count": 37,
     "metadata": {},
     "output_type": "execute_result"
    }
   ],
   "source": [
    "nta2yta.shape"
   ]
  },
  {
   "cell_type": "code",
   "execution_count": 38,
   "metadata": {},
   "outputs": [
    {
     "data": {
      "text/plain": [
       "(5435, 36)"
      ]
     },
     "execution_count": 38,
     "metadata": {},
     "output_type": "execute_result"
    }
   ],
   "source": [
    "nta2nta.shape"
   ]
  },
  {
   "cell_type": "code",
   "execution_count": 11,
   "metadata": {},
   "outputs": [],
   "source": [
    "probs = ['care_p', 'fairness_p', 'loyalty_p', 'authority_p', 'sanctity_p']\n",
    "labels = ['Care', 'Fairness', 'Loyalty', 'Authority', 'Sanctity']"
   ]
  },
  {
   "cell_type": "code",
   "execution_count": 30,
   "metadata": {},
   "outputs": [
    {
     "data": {
      "text/plain": [
       "<matplotlib.legend.Legend at 0x169c8e220>"
      ]
     },
     "execution_count": 30,
     "metadata": {},
     "output_type": "execute_result"
    },
    {
     "data": {
      "image/png": "[encoded data removed]",
      "text/plain": [
       "<Figure size 600x400 with 1 Axes>"
      ]
     },
     "metadata": {},
     "output_type": "display_data"
    }
   ],
   "source": [
    "fig, ax = plt.subplots(1, 1, figsize=(6, 4))\n",
    "\n",
    "bp1 = ax.boxplot([gpt_yta[prob] for prob in probs],\n",
    "           patch_artist=True,\n",
    "           notch=True,\n",
    "           widths=0.15,\n",
    "           positions=[idx + 0.4 for idx in range(5)],\n",
    "           boxprops={'facecolor': 'slategrey'},\n",
    "           medianprops={'linewidth': 1, 'color': 'black'},\n",
    "           showfliers=False)\n",
    "bp2 = ax.boxplot([hum_yta[prob] for prob in probs],\n",
    "           patch_artist=True,\n",
    "           notch=True,\n",
    "           widths=0.15,\n",
    "           positions=[idx + 0.6 for idx in range(5)],\n",
    "           boxprops={'facecolor': 'darkred'},\n",
    "           medianprops={'linewidth': 1, 'color': 'black'},\n",
    "           showfliers=False)\n",
    "\n",
    "bp3 = ax.boxplot([gpt_yta_hum_not_yta[prob] for prob in probs],\n",
    "           patch_artist=True,\n",
    "           notch=True,\n",
    "           widths=0.15,\n",
    "           positions=[idx + 0.8 for idx in range(5)],\n",
    "           boxprops={'facecolor': 'blue'},\n",
    "           medianprops={'linewidth': 1, 'color': 'black'},\n",
    "           showfliers=False)\n",
    "\n",
    "ax.set_xticks(0.5 + np.arange(5))\n",
    "ax.set_xticklabels(labels)\n",
    "ax.legend([bp1[\"boxes\"][0], bp2[\"boxes\"][0], bp3[\"boxes\"][0]],\n",
    "          ['GPT', 'Redditor', 'Disagree'], loc='upper right')"
   ]
  },
  {
   "cell_type": "code",
   "execution_count": 31,
   "metadata": {},
   "outputs": [
    {
     "data": {
      "text/plain": [
       "[-0.005268063205634346,\n",
       " -0.0005399788141275536,\n",
       " 0.0034790744915637606,\n",
       " 0.0019391072357327482,\n",
       " -0.0014253849517594508]"
      ]
     },
     "execution_count": 31,
     "metadata": {},
     "output_type": "execute_result"
    }
   ],
   "source": [
    "[np.median(hum_yta[prob]) - np.median(gpt_yta_hum_not_yta[prob]) for prob in probs]"
   ]
  },
  {
   "cell_type": "code",
   "execution_count": 32,
   "metadata": {},
   "outputs": [
    {
     "data": {
      "text/plain": [
       "[MannwhitneyuResult(statistic=16917.0, pvalue=0.319166126158148),\n",
       " MannwhitneyuResult(statistic=18995.0, pvalue=0.8812738138465063),\n",
       " MannwhitneyuResult(statistic=22891.0, pvalue=0.15045666500570778),\n",
       " MannwhitneyuResult(statistic=21578.0, pvalue=0.366604572807267),\n",
       " MannwhitneyuResult(statistic=16897.0, pvalue=0.31522282674958846)]"
      ]
     },
     "execution_count": 32,
     "metadata": {},
     "output_type": "execute_result"
    }
   ],
   "source": [
    "[mannwhitneyu(hum_yta[prob], gpt_yta_hum_not_yta[prob]) for prob in probs]"
   ]
  },
  {
   "cell_type": "code",
   "execution_count": 33,
   "metadata": {},
   "outputs": [
    {
     "data": {
      "text/plain": [
       "[MannwhitneyuResult(statistic=163161.0, pvalue=0.0036172699876635852),\n",
       " MannwhitneyuResult(statistic=162773.0, pvalue=0.0030157656360914457),\n",
       " MannwhitneyuResult(statistic=182061.0, pvalue=0.8703654140317051),\n",
       " MannwhitneyuResult(statistic=171450.0, pvalue=0.08815996706329828),\n",
       " MannwhitneyuResult(statistic=167717.0, pvalue=0.02459760326494545)]"
      ]
     },
     "execution_count": 33,
     "metadata": {},
     "output_type": "execute_result"
    }
   ],
   "source": [
    "[mannwhitneyu(yta2yta[prob], yta2nta[prob]) for prob in probs]"
   ]
  },
  {
   "cell_type": "code",
   "execution_count": 34,
   "metadata": {},
   "outputs": [
    {
     "data": {
      "text/plain": [
       "<Axes: >"
      ]
     },
     "execution_count": 34,
     "metadata": {},
     "output_type": "execute_result"
    },
    {
     "data": {
      "image/png": "[encoded data removed]",
      "text/plain": [
       "<Figure size 500x300 with 1 Axes>"
      ]
     },
     "metadata": {},
     "output_type": "display_data"
    }
   ],
   "source": [
    "fig, ax = plt.subplots(1, 1, figsize=(5, 3))\n",
    "\n",
    "bp1 = ax.boxplot([yta2yta[prob] for prob in probs],\n",
    "           patch_artist=True,\n",
    "           notch=True,\n",
    "           widths=0.15,\n",
    "           positions=[idx + 0.4 for idx in range(5)],\n",
    "           boxprops={'facecolor': 'slategrey'},\n",
    "           medianprops={'linewidth': 1, 'color': 'black'},\n",
    "           showfliers=False)\n",
    "bp2 = ax.boxplot([nta2yta[prob] for prob in probs],\n",
    "           patch_artist=True,\n",
    "           notch=True,\n",
    "           widths=0.15,\n",
    "           positions=[idx + 0.6 for idx in range(5)],\n",
    "           boxprops={'facecolor': 'darkred'},\n",
    "           medianprops={'linewidth': 1, 'color': 'black'},\n",
    "           showfliers=False)\n",
    "    \n",
    "ax.set_xticks(0.5 + np.arange(5))\n",
    "ax.set_xticklabels(bold_text(labels))\n",
    "ax.legend([bp1[\"boxes\"][0], bp2[\"boxes\"][0]],\n",
    "          ['GPT: YTA; Redditor: YTA', 'GPT: YTA; Redditor: NTA'], loc='upper right')\n",
    "ax.grid(axis='y')\n",
    "ax.set_axisbelow(True)\n",
    "add_significance_label(ax,\n",
    "                       bounds=[0.4, 0.6],\n",
    "                       label=bold_text('***'),\n",
    "                       spacing=0.02,\n",
    "                       fontsize=10,\n",
    "                       width=0.025)\n",
    "add_significance_label(ax,\n",
    "                       bounds=[1.4, 1.6],\n",
    "                       label=bold_text('***'),\n",
    "                       spacing=0.02,\n",
    "                       fontsize=10,\n",
    "                       width=0.025)"
   ]
  },
  {
   "cell_type": "code",
   "execution_count": 29,
   "metadata": {},
   "outputs": [
    {
     "data": {
      "text/plain": [
       "<Axes: >"
      ]
     },
     "execution_count": 29,
     "metadata": {},
     "output_type": "execute_result"
    },
    {
     "data": {
      "image/png": "[encoded data removed]",
      "text/plain": [
       "<Figure size 500x300 with 1 Axes>"
      ]
     },
     "metadata": {},
     "output_type": "display_data"
    }
   ],
   "source": [
    "fig, ax = plt.subplots(1, 1, figsize=(5, 3))\n",
    "\n",
    "bp1 = ax.boxplot([nta2nta[prob] for prob in probs],\n",
    "           patch_artist=True,\n",
    "           notch=True,\n",
    "           widths=0.15,\n",
    "           positions=[idx + 0.4 for idx in range(5)],\n",
    "           boxprops={'facecolor': 'slategrey'},\n",
    "           medianprops={'linewidth': 1, 'color': 'black'},\n",
    "           showfliers=False)\n",
    "bp2 = ax.boxplot([yta2nta[prob] for prob in probs],\n",
    "           patch_artist=True,\n",
    "           notch=True,\n",
    "           widths=0.15,\n",
    "           positions=[idx + 0.6 for idx in range(5)],\n",
    "           boxprops={'facecolor': 'darkred'},\n",
    "           medianprops={'linewidth': 1, 'color': 'black'},\n",
    "           showfliers=False)\n",
    "    \n",
    "ax.set_xticks(0.5 + np.arange(5))\n",
    "ax.set_xticklabels(bold_text(labels))\n",
    "ax.legend([bp1[\"boxes\"][0], bp2[\"boxes\"][0]],\n",
    "          ['GPT: YTA; Redditor: YTA', 'GPT: YTA; Redditor: NTA'], loc='upper right')\n",
    "ax.grid(axis='y')\n",
    "ax.set_axisbelow(True)\n",
    "add_significance_label(ax,\n",
    "                       bounds=[0.4, 0.6],\n",
    "                       label=bold_text('***'),\n",
    "                       spacing=0.02,\n",
    "                       fontsize=10,\n",
    "                       width=0.025)\n",
    "add_significance_label(ax,\n",
    "                       bounds=[1.4, 1.6],\n",
    "                       label=bold_text('***'),\n",
    "                       spacing=0.02,\n",
    "                       fontsize=10,\n",
    "                       width=0.025)"
   ]
  },
  {
   "cell_type": "code",
   "execution_count": 30,
   "metadata": {},
   "outputs": [
    {
     "data": {
      "text/plain": [
       "[MannwhitneyuResult(statistic=780580.0, pvalue=0.7101168573342374),\n",
       " MannwhitneyuResult(statistic=744238.0, pvalue=0.09017313276736053),\n",
       " MannwhitneyuResult(statistic=758233.0, pvalue=0.23598133907202434),\n",
       " MannwhitneyuResult(statistic=747466.0, pvalue=0.11479747617839216),\n",
       " MannwhitneyuResult(statistic=784630.0, pvalue=0.8225346521429722)]"
      ]
     },
     "execution_count": 30,
     "metadata": {},
     "output_type": "execute_result"
    }
   ],
   "source": [
    "[mannwhitneyu(yta2nta[prob], nta2nta[prob]) for prob in probs]"
   ]
  },
  {
   "cell_type": "code",
   "execution_count": 35,
   "metadata": {},
   "outputs": [
    {
     "data": {
      "text/plain": [
       "[MannwhitneyuResult(statistic=1243526.0, pvalue=0.002396847523373521),\n",
       " MannwhitneyuResult(statistic=1179346.0, pvalue=7.103383299467168e-08),\n",
       " MannwhitneyuResult(statistic=1317916.0, pvalue=0.7570464917965758),\n",
       " MannwhitneyuResult(statistic=1269529.0, pvalue=0.03725586165413692),\n",
       " MannwhitneyuResult(statistic=1289381.0, pvalue=0.1753252983207293)]"
      ]
     },
     "execution_count": 35,
     "metadata": {},
     "output_type": "execute_result"
    }
   ],
   "source": [
    "[mannwhitneyu(yta2yta[prob], nta2yta[prob]) for prob in probs]"
   ]
  },
  {
   "cell_type": "code",
   "execution_count": 14,
   "metadata": {},
   "outputs": [
    {
     "data": {
      "text/plain": [
       "[-0.0019546382249479577,\n",
       " -0.0011610624226033178,\n",
       " 0.00012299750786716468,\n",
       " -0.0002767090841676867,\n",
       " -0.0009865661503763723]"
      ]
     },
     "execution_count": 14,
     "metadata": {},
     "output_type": "execute_result"
    }
   ],
   "source": [
    "[yta2yta[prob].mean() - yta2nta[prob].mean() for prob in probs]"
   ]
  },
  {
   "cell_type": "code",
   "execution_count": 40,
   "metadata": {},
   "outputs": [
    {
     "data": {
      "text/plain": [
       "[-0.0011606699458300007,\n",
       " -0.0020072183560318063,\n",
       " -4.056465507801255e-06,\n",
       " -0.0009766492112200098,\n",
       " -0.0006842457159550036]"
      ]
     },
     "execution_count": 40,
     "metadata": {},
     "output_type": "execute_result"
    }
   ],
   "source": [
    "[yta2yta[prob].median() - nta2yta[prob].median() for prob in probs]"
   ]
  },
  {
   "cell_type": "code",
   "execution_count": null,
   "metadata": {},
   "outputs": [],
   "source": []
  }
 ],
 "metadata": {
  "kernelspec": {
   "display_name": "nlp",
   "language": "python",
   "name": "nlp"
  },
  "language_info": {
   "codemirror_mode": {
    "name": "ipython",
    "version": 3
   },
   "file_extension": ".py",
   "mimetype": "text/x-python",
   "name": "python",
   "nbconvert_exporter": "python",
   "pygments_lexer": "ipython3",
   "version": "3.9.16"
  }
 },
 "nbformat": 4,
 "nbformat_minor": 4
}
