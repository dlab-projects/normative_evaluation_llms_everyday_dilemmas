{
 "cells": [
  {
   "cell_type": "code",
   "execution_count": 1,
   "metadata": {},
   "outputs": [],
   "source": [
    "import matplotlib.pyplot as plt\n",
    "import numpy as np\n",
    "import pandas as pd\n",
    "import seaborn as sns\n",
    "\n",
    "from functools import partial\n",
    "from pyprojroot import here\n",
    "from scipy.stats import bootstrap\n",
    "\n",
    "%matplotlib inline"
   ]
  },
  {
   "cell_type": "code",
   "execution_count": 2,
   "metadata": {},
   "outputs": [],
   "source": [
    "df = pd.read_csv(here('data/aita_w_gpt_w_mfd.csv'))"
   ]
  },
  {
   "cell_type": "code",
   "execution_count": 3,
   "metadata": {},
   "outputs": [],
   "source": [
    "labels = ['NTA', 'YTA', 'NAH', 'ESH', 'INFO']\n",
    "n_labels = len(labels)"
   ]
  },
  {
   "cell_type": "code",
   "execution_count": 4,
   "metadata": {},
   "outputs": [
    {
     "data": {
      "text/plain": [
       "Index(['submission_id', 'title', 'selftext', 'created_utc', 'permalink',\n",
       "       'score', 'flair_text', 'top_comment', 'true_label', 'gpt_dilemma',\n",
       "       'gpt_label', 'gpt_reason', 'care_p', 'fairness_p', 'loyalty_p',\n",
       "       'authority_p', 'sanctity_p', 'care_sent', 'fairness_sent',\n",
       "       'loyalty_sent', 'authority_sent', 'sanctity_sent',\n",
       "       'moral_nonmoral_ratio', 'f_var', 'sent_var'],\n",
       "      dtype='object')"
      ]
     },
     "execution_count": 4,
     "metadata": {},
     "output_type": "execute_result"
    }
   ],
   "source": [
    "df.columns"
   ]
  },
  {
   "cell_type": "code",
   "execution_count": 8,
   "metadata": {},
   "outputs": [
    {
     "data": {
      "text/html": [
       "<div>\n",
       "<style scoped>\n",
       "    .dataframe tbody tr th:only-of-type {\n",
       "        vertical-align: middle;\n",
       "    }\n",
       "\n",
       "    .dataframe tbody tr th {\n",
       "        vertical-align: top;\n",
       "    }\n",
       "\n",
       "    .dataframe thead th {\n",
       "        text-align: right;\n",
       "    }\n",
       "</style>\n",
       "<table border=\"1\" class=\"dataframe\">\n",
       "  <thead>\n",
       "    <tr style=\"text-align: right;\">\n",
       "      <th></th>\n",
       "      <th>care_p</th>\n",
       "      <th>fairness_p</th>\n",
       "      <th>loyalty_p</th>\n",
       "      <th>authority_p</th>\n",
       "      <th>sanctity_p</th>\n",
       "      <th>f_var</th>\n",
       "    </tr>\n",
       "    <tr>\n",
       "      <th>gpt_label</th>\n",
       "      <th></th>\n",
       "      <th></th>\n",
       "      <th></th>\n",
       "      <th></th>\n",
       "      <th></th>\n",
       "      <th></th>\n",
       "    </tr>\n",
       "  </thead>\n",
       "  <tbody>\n",
       "    <tr>\n",
       "      <th>ESH</th>\n",
       "      <td>0.106847</td>\n",
       "      <td>0.097399</td>\n",
       "      <td>0.095191</td>\n",
       "      <td>0.087199</td>\n",
       "      <td>0.087277</td>\n",
       "      <td>0.000109</td>\n",
       "    </tr>\n",
       "    <tr>\n",
       "      <th>INFO</th>\n",
       "      <td>0.105617</td>\n",
       "      <td>0.097294</td>\n",
       "      <td>0.095852</td>\n",
       "      <td>0.086445</td>\n",
       "      <td>0.086594</td>\n",
       "      <td>0.000111</td>\n",
       "    </tr>\n",
       "    <tr>\n",
       "      <th>NAH</th>\n",
       "      <td>0.107061</td>\n",
       "      <td>0.098537</td>\n",
       "      <td>0.096209</td>\n",
       "      <td>0.087408</td>\n",
       "      <td>0.088055</td>\n",
       "      <td>0.000122</td>\n",
       "    </tr>\n",
       "    <tr>\n",
       "      <th>NTA</th>\n",
       "      <td>0.107410</td>\n",
       "      <td>0.098046</td>\n",
       "      <td>0.095901</td>\n",
       "      <td>0.087839</td>\n",
       "      <td>0.087984</td>\n",
       "      <td>0.000109</td>\n",
       "    </tr>\n",
       "    <tr>\n",
       "      <th>YTA</th>\n",
       "      <td>0.106212</td>\n",
       "      <td>0.096990</td>\n",
       "      <td>0.095332</td>\n",
       "      <td>0.086636</td>\n",
       "      <td>0.086891</td>\n",
       "      <td>0.000112</td>\n",
       "    </tr>\n",
       "  </tbody>\n",
       "</table>\n",
       "</div>"
      ],
      "text/plain": [
       "             care_p  fairness_p  loyalty_p  authority_p  sanctity_p     f_var\n",
       "gpt_label                                                                    \n",
       "ESH        0.106847    0.097399   0.095191     0.087199    0.087277  0.000109\n",
       "INFO       0.105617    0.097294   0.095852     0.086445    0.086594  0.000111\n",
       "NAH        0.107061    0.098537   0.096209     0.087408    0.088055  0.000122\n",
       "NTA        0.107410    0.098046   0.095901     0.087839    0.087984  0.000109\n",
       "YTA        0.106212    0.096990   0.095332     0.086636    0.086891  0.000112"
      ]
     },
     "execution_count": 8,
     "metadata": {},
     "output_type": "execute_result"
    }
   ],
   "source": [
    "df.groupby('gpt_label')[['care_p', 'fairness_p', 'loyalty_p', 'authority_p', 'sanctity_p', 'f_var']].mean()"
   ]
  },
  {
   "cell_type": "code",
   "execution_count": 6,
   "metadata": {},
   "outputs": [
    {
     "data": {
      "text/html": [
       "<div>\n",
       "<style scoped>\n",
       "    .dataframe tbody tr th:only-of-type {\n",
       "        vertical-align: middle;\n",
       "    }\n",
       "\n",
       "    .dataframe tbody tr th {\n",
       "        vertical-align: top;\n",
       "    }\n",
       "\n",
       "    .dataframe thead th {\n",
       "        text-align: right;\n",
       "    }\n",
       "</style>\n",
       "<table border=\"1\" class=\"dataframe\">\n",
       "  <thead>\n",
       "    <tr style=\"text-align: right;\">\n",
       "      <th></th>\n",
       "      <th>care_sent</th>\n",
       "      <th>fairness_sent</th>\n",
       "      <th>loyalty_sent</th>\n",
       "      <th>authority_sent</th>\n",
       "      <th>sanctity_sent</th>\n",
       "    </tr>\n",
       "    <tr>\n",
       "      <th>gpt_label</th>\n",
       "      <th></th>\n",
       "      <th></th>\n",
       "      <th></th>\n",
       "      <th></th>\n",
       "      <th></th>\n",
       "    </tr>\n",
       "  </thead>\n",
       "  <tbody>\n",
       "    <tr>\n",
       "      <th>ESH</th>\n",
       "      <td>-0.063148</td>\n",
       "      <td>-0.024993</td>\n",
       "      <td>0.008497</td>\n",
       "      <td>-0.010437</td>\n",
       "      <td>-0.053405</td>\n",
       "    </tr>\n",
       "    <tr>\n",
       "      <th>INFO</th>\n",
       "      <td>-0.053531</td>\n",
       "      <td>-0.013665</td>\n",
       "      <td>0.016281</td>\n",
       "      <td>-0.002970</td>\n",
       "      <td>-0.046645</td>\n",
       "    </tr>\n",
       "    <tr>\n",
       "      <th>NAH</th>\n",
       "      <td>-0.056991</td>\n",
       "      <td>-0.017082</td>\n",
       "      <td>0.014032</td>\n",
       "      <td>-0.004378</td>\n",
       "      <td>-0.045782</td>\n",
       "    </tr>\n",
       "    <tr>\n",
       "      <th>NTA</th>\n",
       "      <td>-0.057511</td>\n",
       "      <td>-0.020902</td>\n",
       "      <td>0.010903</td>\n",
       "      <td>-0.008582</td>\n",
       "      <td>-0.050131</td>\n",
       "    </tr>\n",
       "    <tr>\n",
       "      <th>YTA</th>\n",
       "      <td>-0.059937</td>\n",
       "      <td>-0.020676</td>\n",
       "      <td>0.013126</td>\n",
       "      <td>-0.006810</td>\n",
       "      <td>-0.050780</td>\n",
       "    </tr>\n",
       "  </tbody>\n",
       "</table>\n",
       "</div>"
      ],
      "text/plain": [
       "           care_sent  fairness_sent  loyalty_sent  authority_sent   \n",
       "gpt_label                                                           \n",
       "ESH        -0.063148      -0.024993      0.008497       -0.010437  \\\n",
       "INFO       -0.053531      -0.013665      0.016281       -0.002970   \n",
       "NAH        -0.056991      -0.017082      0.014032       -0.004378   \n",
       "NTA        -0.057511      -0.020902      0.010903       -0.008582   \n",
       "YTA        -0.059937      -0.020676      0.013126       -0.006810   \n",
       "\n",
       "           sanctity_sent  \n",
       "gpt_label                 \n",
       "ESH            -0.053405  \n",
       "INFO           -0.046645  \n",
       "NAH            -0.045782  \n",
       "NTA            -0.050131  \n",
       "YTA            -0.050780  "
      ]
     },
     "execution_count": 6,
     "metadata": {},
     "output_type": "execute_result"
    }
   ],
   "source": [
    "df.groupby('gpt_label')[['care_sent', 'fairness_sent', 'loyalty_sent', 'authority_sent', 'sanctity_sent']].mean()"
   ]
  },
  {
   "cell_type": "code",
   "execution_count": 14,
   "metadata": {},
   "outputs": [
    {
     "data": {
      "text/plain": [
       "0        NTA\n",
       "1        NTA\n",
       "2        NTA\n",
       "3        NTA\n",
       "4        NTA\n",
       "        ... \n",
       "11350    NAH\n",
       "11351    NTA\n",
       "11352    NAH\n",
       "11353    NTA\n",
       "11354    ESH\n",
       "Name: true_label, Length: 11355, dtype: object"
      ]
     },
     "execution_count": 14,
     "metadata": {},
     "output_type": "execute_result"
    }
   ],
   "source": [
    "df['true_label']"
   ]
  },
  {
   "cell_type": "code",
   "execution_count": 15,
   "metadata": {},
   "outputs": [
    {
     "data": {
      "text/html": [
       "<div>\n",
       "<style scoped>\n",
       "    .dataframe tbody tr th:only-of-type {\n",
       "        vertical-align: middle;\n",
       "    }\n",
       "\n",
       "    .dataframe tbody tr th {\n",
       "        vertical-align: top;\n",
       "    }\n",
       "\n",
       "    .dataframe thead th {\n",
       "        text-align: right;\n",
       "    }\n",
       "</style>\n",
       "<table border=\"1\" class=\"dataframe\">\n",
       "  <thead>\n",
       "    <tr style=\"text-align: right;\">\n",
       "      <th></th>\n",
       "      <th>care_p</th>\n",
       "      <th>fairness_p</th>\n",
       "      <th>loyalty_p</th>\n",
       "      <th>authority_p</th>\n",
       "      <th>sanctity_p</th>\n",
       "    </tr>\n",
       "    <tr>\n",
       "      <th>true_label</th>\n",
       "      <th></th>\n",
       "      <th></th>\n",
       "      <th></th>\n",
       "      <th></th>\n",
       "      <th></th>\n",
       "    </tr>\n",
       "  </thead>\n",
       "  <tbody>\n",
       "    <tr>\n",
       "      <th>ESH</th>\n",
       "      <td>0.106646</td>\n",
       "      <td>0.096979</td>\n",
       "      <td>0.095467</td>\n",
       "      <td>0.087425</td>\n",
       "      <td>0.087729</td>\n",
       "    </tr>\n",
       "    <tr>\n",
       "      <th>INFO</th>\n",
       "      <td>0.107051</td>\n",
       "      <td>0.098917</td>\n",
       "      <td>0.096111</td>\n",
       "      <td>0.087913</td>\n",
       "      <td>0.088036</td>\n",
       "    </tr>\n",
       "    <tr>\n",
       "      <th>NAH</th>\n",
       "      <td>0.106223</td>\n",
       "      <td>0.096355</td>\n",
       "      <td>0.095210</td>\n",
       "      <td>0.085824</td>\n",
       "      <td>0.087566</td>\n",
       "    </tr>\n",
       "    <tr>\n",
       "      <th>NTA</th>\n",
       "      <td>0.107177</td>\n",
       "      <td>0.097982</td>\n",
       "      <td>0.095718</td>\n",
       "      <td>0.087569</td>\n",
       "      <td>0.087627</td>\n",
       "    </tr>\n",
       "    <tr>\n",
       "      <th>YTA</th>\n",
       "      <td>0.105931</td>\n",
       "      <td>0.096137</td>\n",
       "      <td>0.095333</td>\n",
       "      <td>0.086514</td>\n",
       "      <td>0.087000</td>\n",
       "    </tr>\n",
       "  </tbody>\n",
       "</table>\n",
       "</div>"
      ],
      "text/plain": [
       "              care_p  fairness_p  loyalty_p  authority_p  sanctity_p\n",
       "true_label                                                          \n",
       "ESH         0.106646    0.096979   0.095467     0.087425    0.087729\n",
       "INFO        0.107051    0.098917   0.096111     0.087913    0.088036\n",
       "NAH         0.106223    0.096355   0.095210     0.085824    0.087566\n",
       "NTA         0.107177    0.097982   0.095718     0.087569    0.087627\n",
       "YTA         0.105931    0.096137   0.095333     0.086514    0.087000"
      ]
     },
     "execution_count": 15,
     "metadata": {},
     "output_type": "execute_result"
    }
   ],
   "source": [
    "df.groupby('true_label')[['care_p', 'fairness_p', 'loyalty_p', 'authority_p', 'sanctity_p']].mean()"
   ]
  },
  {
   "cell_type": "code",
   "execution_count": 34,
   "metadata": {},
   "outputs": [],
   "source": [
    "from scipy.stats import mannwhitneyu"
   ]
  },
  {
   "cell_type": "code",
   "execution_count": 40,
   "metadata": {},
   "outputs": [],
   "source": [
    "yta2yta = df[(df['true_label'] == 'YTA') & (df['gpt_label'] == 'YTA')]\n",
    "yta2nta = df[(df['true_label'] == 'YTA') & (df['gpt_label'] == 'NTA')]"
   ]
  },
  {
   "cell_type": "code",
   "execution_count": 55,
   "metadata": {},
   "outputs": [
    {
     "data": {
      "text/plain": [
       "[MannwhitneyuResult(statistic=188545.0, pvalue=0.00024187953405421445),\n",
       " MannwhitneyuResult(statistic=190146.0, pvalue=0.0005265253856754474),\n",
       " MannwhitneyuResult(statistic=195071.0, pvalue=0.0045129410707415475),\n",
       " MannwhitneyuResult(statistic=187475.0, pvalue=0.0001407031627776536),\n",
       " MannwhitneyuResult(statistic=188857.0, pvalue=0.00028233884020479645)]"
      ]
     },
     "execution_count": 55,
     "metadata": {},
     "output_type": "execute_result"
    }
   ],
   "source": [
    "[mannwhitneyu(yta2yta[prob], yta2nta[prob]) for prob in probs]"
   ]
  },
  {
   "cell_type": "code",
   "execution_count": 47,
   "metadata": {},
   "outputs": [],
   "source": [
    "probs = ['care_p', 'fairness_p', 'loyalty_p', 'authority_p', 'sanctity_p']\n",
    "labels = ['Care', 'Fairness', 'Loyalty', 'Authority', 'Sanctity']"
   ]
  },
  {
   "cell_type": "code",
   "execution_count": 78,
   "metadata": {},
   "outputs": [
    {
     "data": {
      "text/plain": [
       "<matplotlib.legend.Legend at 0x7f40229b5f30>"
      ]
     },
     "execution_count": 78,
     "metadata": {},
     "output_type": "execute_result"
    },
    {
     "data": {
      "image/png": "[encoded data removed]",
      "text/plain": [
       "<Figure size 600x400 with 1 Axes>"
      ]
     },
     "metadata": {},
     "output_type": "display_data"
    }
   ],
   "source": [
    "fig, ax = plt.subplots(1, 1, figsize=(6, 4))\n",
    "\n",
    "bp1 = ax.boxplot([yta2yta[prob] for prob in probs],\n",
    "           patch_artist=True,\n",
    "           notch=True,\n",
    "           widths=0.15,\n",
    "           positions=[idx + 0.4 for idx in range(5)],\n",
    "           boxprops={'facecolor': 'slategrey'},\n",
    "           medianprops={'linewidth': 1, 'color': 'black'},\n",
    "           showfliers=False)\n",
    "bp2 = ax.boxplot([yta2nta[prob] for prob in probs],\n",
    "           patch_artist=True,\n",
    "           notch=True,\n",
    "           widths=0.15,\n",
    "           positions=[idx + 0.6 for idx in range(5)],\n",
    "           boxprops={'facecolor': 'darkred'},\n",
    "           medianprops={'linewidth': 1, 'color': 'black'},\n",
    "           showfliers=False)\n",
    "    \n",
    "ax.set_xticks(0.5 + np.arange(5))\n",
    "ax.set_xticklabels(labels)\n",
    "ax.legend([bp1[\"boxes\"][0], bp2[\"boxes\"][0]], ['YTA->YTA', 'YTA->NTA'], loc='upper right')"
   ]
  },
  {
   "cell_type": "code",
   "execution_count": 80,
   "metadata": {},
   "outputs": [
    {
     "data": {
      "text/plain": [
       "[-0.0027599616147152978,\n",
       " -0.001856748542182679,\n",
       " -0.0013748734042169641,\n",
       " -0.001466645305282982,\n",
       " -0.002201892321230692]"
      ]
     },
     "execution_count": 80,
     "metadata": {},
     "output_type": "execute_result"
    }
   ],
   "source": [
    "[yta2yta[prob].mean() - yta2nta[prob].mean() for prob in probs]"
   ]
  },
  {
   "cell_type": "code",
   "execution_count": 46,
   "metadata": {},
   "outputs": [
    {
     "data": {
      "text/plain": [
       "(array([ 0.        ,  0.        ,  0.        ,  0.        ,  0.        ,\n",
       "         0.        ,  2.95857988,  6.50887574, 21.30177515, 37.86982249,\n",
       "        46.15384615, 28.99408284, 19.52662722, 13.01775148,  4.14201183,\n",
       "         2.36686391,  1.77514793,  0.        ,  0.        ,  0.        ,\n",
       "         0.        ,  0.        ,  0.        ,  0.        ]),\n",
       " array([0.05      , 0.05541667, 0.06083333, 0.06625   , 0.07166667,\n",
       "        0.07708333, 0.0825    , 0.08791667, 0.09333333, 0.09875   ,\n",
       "        0.10416667, 0.10958333, 0.115     , 0.12041667, 0.12583333,\n",
       "        0.13125   , 0.13666667, 0.14208333, 0.1475    , 0.15291667,\n",
       "        0.15833333, 0.16375   , 0.16916667, 0.17458333, 0.18      ]),\n",
       " [<matplotlib.patches.Polygon at 0x7f402642f610>])"
      ]
     },
     "execution_count": 46,
     "metadata": {},
     "output_type": "execute_result"
    },
    {
     "data": {
      "image/png": "[encoded data removed]",
      "text/plain": [
       "<Figure size 800x400 with 1 Axes>"
      ]
     },
     "metadata": {},
     "output_type": "display_data"
    }
   ],
   "source": [
    "fig, axes = plt.subplots(5, 1, figsize=(10, 4))\n",
    "\n",
    "for idx, (ax, prob, label) in enumerate(zip(axes, probs, labels)):\n",
    "    ax.hist(yta2yta['care_p'],\n",
    "            density=True,\n",
    "            bins=np.linspace(0.05, 0.18, 25),\n",
    "            histtype='step',\n",
    "            label='YTA->YTA'\n",
    "            )\n",
    "    ax.hist(yta2nta['care_p'],\n",
    "            density=True,\n",
    "            bins=np.linspace(0.05, 0.18, 25),\n",
    "            histtype='step',\n",
    "            label=''"
   ]
  },
  {
   "cell_type": "code",
   "execution_count": 21,
   "metadata": {},
   "outputs": [
    {
     "data": {
      "text/plain": [
       "<Axes: >"
      ]
     },
     "execution_count": 21,
     "metadata": {},
     "output_type": "execute_result"
    },
    {
     "data": {
      "image/png": "[encoded data removed]",
      "text/plain": [
       "<Figure size 640x480 with 1 Axes>"
      ]
     },
     "metadata": {},
     "output_type": "display_data"
    }
   ],
   "source": [
    "df['authority_sent'].hist()"
   ]
  },
  {
   "cell_type": "code",
   "execution_count": null,
   "metadata": {},
   "outputs": [],
   "source": []
  }
 ],
 "metadata": {
  "kernelspec": {
   "display_name": "nlp",
   "language": "python",
   "name": "python3"
  },
  "language_info": {
   "codemirror_mode": {
    "name": "ipython",
    "version": 3
   },
   "file_extension": ".py",
   "mimetype": "text/x-python",
   "name": "python",
   "nbconvert_exporter": "python",
   "pygments_lexer": "ipython3",
   "version": "3.10.10"
  },
  "orig_nbformat": 4
 },
 "nbformat": 4,
 "nbformat_minor": 2
}
