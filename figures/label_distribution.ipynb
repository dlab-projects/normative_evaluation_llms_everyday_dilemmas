{
 "cells": [
  {
   "cell_type": "code",
   "execution_count": 1,
   "id": "33f9fd42-7f0d-4e30-be29-fe407192b14e",
   "metadata": {},
   "outputs": [],
   "source": [
    "import matplotlib.pyplot as plt\n",
    "import mpl_lego as mplego\n",
    "import numpy as np\n",
    "import pandas as pd\n",
    "\n",
    "from functools import partial\n",
    "from mpl_lego.labels import bold_text\n",
    "from pyprojroot import here\n",
    "from scipy.stats import bootstrap\n",
    "\n",
    "from moral_foundations_llms import keys\n",
    " \n",
    "%matplotlib inline"
   ]
  },
  {
   "cell_type": "code",
   "execution_count": 2,
   "id": "3677999d-a39c-42ed-9b5a-16730656f4d9",
   "metadata": {},
   "outputs": [],
   "source": [
    "mplego.style.use_latex_style()"
   ]
  },
  {
   "cell_type": "code",
   "execution_count": 3,
   "id": "84b66712-7829-4923-a35b-244d37666ef8",
   "metadata": {},
   "outputs": [
    {
     "name": "stderr",
     "output_type": "stream",
     "text": [
      "/var/folders/6h/ms_dpkl536d1w6qqd_wnckrw0000gn/T/ipykernel_79612/2259072775.py:1: DtypeWarning: Columns (29,34,35) have mixed types. Specify dtype option on import or set low_memory=False.\n",
      "  df = pd.read_csv(here('data/aita_final_v15.csv'))\n"
     ]
    }
   ],
   "source": [
    "df = pd.read_csv(here('data/aita_final_v15.csv'))"
   ]
  },
  {
   "cell_type": "code",
   "execution_count": 4,
   "id": "3a5d3740-4828-43b6-9af1-37d0cdc88e4b",
   "metadata": {},
   "outputs": [],
   "source": [
    "# Calculate bootstrap estimates\n",
    "def categorical_proportion(data, category):\n",
    "    return np.mean(data == category)"
   ]
  },
  {
   "cell_type": "code",
   "execution_count": 5,
   "id": "1846d0e0-d925-4afc-b709-a1bfc0709357",
   "metadata": {},
   "outputs": [
    {
     "name": "stderr",
     "output_type": "stream",
     "text": [
      "/opt/homebrew/Caskroom/miniforge/base/envs/nlp/lib/python3.9/site-packages/scipy/stats/_resampling.py:147: RuntimeWarning: invalid value encountered in scalar divide\n",
      "  a_hat = 1/6 * sum(nums) / sum(dens)**(3/2)\n",
      "/opt/homebrew/Caskroom/miniforge/base/envs/nlp/lib/python3.9/site-packages/scipy/stats/_resampling.py:100: DegenerateDataWarning: The BCa confidence interval cannot be calculated. This problem is known to occur when the distribution is degenerate or the statistic is np.min.\n",
      "  warnings.warn(DegenerateDataWarning(msg))\n"
     ]
    }
   ],
   "source": [
    "observed_bounds = [[\n",
    "    bootstrap((df[label_col].values,), partial(categorical_proportion, category=label))\n",
    "    for label in keys.AITA_LABELS]\n",
    "    for label_col in keys.LABEL_COLS]"
   ]
  },
  {
   "cell_type": "code",
   "execution_count": 7,
   "id": "db6cf96f-1aaf-4393-aeb5-6c183c789040",
   "metadata": {},
   "outputs": [
    {
     "name": "stdout",
     "output_type": "stream",
     "text": [
      "reddit_label NTA    0.764179\n",
      "YTA    0.170238\n",
      "INF    0.023924\n",
      "NAH    0.020968\n",
      "ESH    0.020691\n",
      "Name: reddit_label, dtype: float64\n",
      "gpt3.5_label_1 NTA    0.553021\n",
      "YTA    0.312950\n",
      "ESH    0.105302\n",
      "INF    0.023924\n",
      "NAH    0.004803\n",
      "Name: gpt3.5_label_1, dtype: float64\n",
      "gpt4_label_1 NTA    0.750416\n",
      "YTA    0.127286\n",
      "NAH    0.064567\n",
      "ESH    0.057177\n",
      "INF    0.000554\n",
      "Name: gpt4_label_1, dtype: float64\n",
      "claude_label_1 NTA    0.868650\n",
      "YTA    0.082856\n",
      "ESH    0.034824\n",
      "NAH    0.013209\n",
      "INF    0.000462\n",
      "Name: claude_label_1, dtype: float64\n",
      "bison_label_1 NTA    0.880658\n",
      "YTA    0.072695\n",
      "NAH    0.027157\n",
      "ESH    0.017827\n",
      "INF    0.001663\n",
      "Name: bison_label_1, dtype: float64\n",
      "llama_label_1 YTA    0.792721\n",
      "NAH    0.151487\n",
      "ESH    0.050711\n",
      "NTA    0.005080\n",
      "Name: llama_label_1, dtype: float64\n",
      "mistral_label_1 NAH    0.393682\n",
      "ESH    0.355348\n",
      "INF    0.113338\n",
      "NTA    0.075651\n",
      "YTA    0.061980\n",
      "Name: mistral_label_1, dtype: float64\n",
      "gemma_label_1 NTA    0.607519\n",
      "ESH    0.244781\n",
      "YTA    0.147146\n",
      "NAH    0.000369\n",
      "INF    0.000185\n",
      "Name: gemma_label_1, dtype: float64\n"
     ]
    },
    {
     "data": {
      "image/png": "[encoded data removed]",
      "text/plain": [
       "<Figure size 800x400 with 1 Axes>"
      ]
     },
     "metadata": {},
     "output_type": "display_data"
    }
   ],
   "source": [
    "fig, ax = plt.subplots(1, 1, figsize=(8, 4))\n",
    "\n",
    "width = 0.1\n",
    "\n",
    "# Iterate over model labels\n",
    "for idx, reason_col in enumerate(keys.LABEL_COLS):\n",
    "    # Calculate proportions\n",
    "    proportions = df[reason_col].value_counts(normalize=True)\n",
    "    # Fill in missing AITA labels\n",
    "    for label in keys.AITA_LABELS:\n",
    "        if label not in proportions:\n",
    "            proportions[label] = 0\n",
    "    # Sort AITA labels\n",
    "    proportions = proportions.loc[keys.AITA_LABELS]\n",
    "\n",
    "    # Plot fraction of posts for each AITA label\n",
    "    ax.bar(\n",
    "        x=np.arange(keys.n_aita_labels) + idx * width,\n",
    "        height=proportions,\n",
    "        width=width,\n",
    "        color=f'C{idx}',\n",
    "        yerr=[[observed_bounds[idx][ii].confidence_interval.high - proportions.loc[aita_label]\n",
    "               for ii, aita_label in enumerate(keys.AITA_LABELS)],\n",
    "              [proportions[aita_label] - observed_bounds[idx][ii].confidence_interval.low\n",
    "               for ii, aita_label in enumerate(keys.AITA_LABELS)]],\n",
    "        error_kw={'capsize': 3})\n",
    "    \n",
    "\n",
    "ax.set_xticks(np.arange(5) + 3 * width)\n",
    "ax.set_xticklabels(bold_text(keys.AITA_LABELS_PLOT), fontsize=15)\n",
    "\n",
    "for idx, label in enumerate(keys.MODEL_LABELS_PLOT):\n",
    "    ax.bar(x=0.5, height=0, color=f'C{idx}', label=bold_text(label))\n",
    "\n",
    "ax.legend(loc='center left', bbox_to_anchor=(1.01, 0.5), prop={'size': 14})\n",
    "    \n",
    "ax.set_ylim([0, 1])\n",
    "ax.grid(axis='y')\n",
    "ax.set_axisbelow(True)\n",
    "ax.set_ylabel(bold_text('Fraction of Posts'), fontsize=16)\n",
    "plt.savefig('label_distribution.pdf', bbox_inches='tight')"
   ]
  },
  {
   "cell_type": "code",
   "execution_count": null,
   "id": "a68a83d2-b79d-4b73-aaa7-b77b29727365",
   "metadata": {},
   "outputs": [],
   "source": []
  }
 ],
 "metadata": {
  "kernelspec": {
   "display_name": "nlp",
   "language": "python",
   "name": "nlp"
  },
  "language_info": {
   "codemirror_mode": {
    "name": "ipython",
    "version": 3
   },
   "file_extension": ".py",
   "mimetype": "text/x-python",
   "name": "python",
   "nbconvert_exporter": "python",
   "pygments_lexer": "ipython3",
   "version": "3.9.16"
  }
 },
 "nbformat": 4,
 "nbformat_minor": 5
}
