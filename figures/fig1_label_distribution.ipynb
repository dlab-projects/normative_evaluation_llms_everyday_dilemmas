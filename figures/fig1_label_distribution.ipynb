{
 "cells": [
  {
   "cell_type": "code",
   "execution_count": null,
   "id": "33f9fd42-7f0d-4e30-be29-fe407192b14e",
   "metadata": {},
   "outputs": [],
   "source": [
    "import matplotlib.pyplot as plt\n",
    "import mpl_lego as mplego\n",
    "import numpy as np\n",
    "import pandas as pd\n",
    "\n",
    "from functools import partial\n",
    "from mpl_lego.labels import bold_text\n",
    "from pyprojroot import here\n",
    "from scipy.stats import bootstrap\n",
    "\n",
    "from normative_evaluation_llms_everyday_dilemmas import keys\n",
    " \n",
    "%matplotlib inline"
   ]
  },
  {
   "cell_type": "code",
   "execution_count": null,
   "id": "3677999d-a39c-42ed-9b5a-16730656f4d9",
   "metadata": {},
   "outputs": [],
   "source": [
    "# Turn into LaTeX style; you need to have LaTeX installed\n",
    "mplego.style.use_latex_style()"
   ]
  },
  {
   "cell_type": "code",
   "execution_count": null,
   "id": "84b66712-7829-4923-a35b-244d37666ef8",
   "metadata": {},
   "outputs": [],
   "source": [
    "df = pd.read_csv(here('data/normative_evaluation_everyday_dilemmas_dataset.csv'))"
   ]
  },
  {
   "cell_type": "code",
   "execution_count": null,
   "id": "3a5d3740-4828-43b6-9af1-37d0cdc88e4b",
   "metadata": {},
   "outputs": [],
   "source": [
    "# Calculate bootstrap estimates\n",
    "def categorical_proportion(data, category):\n",
    "    return np.mean(data == category)"
   ]
  },
  {
   "cell_type": "code",
   "execution_count": null,
   "id": "68f0d166-dfa4-486a-8dfa-829a0c32bd9b",
   "metadata": {},
   "outputs": [],
   "source": [
    "# For reporting exact values of label distributions\n",
    "for idx, label_col in enumerate(keys.LABEL_COLS):\n",
    "    proportions = df[label_col].value_counts(normalize=True)\n",
    "    print(\"Model:\", label_col)\n",
    "    print(proportions)\n",
    "    print('----')"
   ]
  },
  {
   "cell_type": "code",
   "execution_count": null,
   "id": "1846d0e0-d925-4afc-b709-a1bfc0709357",
   "metadata": {},
   "outputs": [],
   "source": [
    "# Calculate bounds for bootstrap estimates on label distributions\n",
    "observed_bounds = [[\n",
    "    bootstrap((df[label_col].values,), partial(categorical_proportion, category=label))\n",
    "    for label in keys.AITA_LABELS]\n",
    "    for label_col in keys.LABEL_COLS]"
   ]
  },
  {
   "cell_type": "code",
   "execution_count": null,
   "id": "db6cf96f-1aaf-4393-aeb5-6c183c789040",
   "metadata": {},
   "outputs": [],
   "source": [
    "fig, ax = plt.subplots(1, 1, figsize=(10, 4))\n",
    "\n",
    "BAR_WIDTH = 0.10\n",
    "X_AXIS_TICK_FONTSIZE = 18\n",
    "Y_AXIS_TICK_FONTSIZE = 16\n",
    "Y_AXIS_LABEL_FONTSIZE = 19\n",
    "ERROR_BAR_CAPSIZE = 3\n",
    "LEGEND_SIZE = 14\n",
    "\n",
    "# Iterate over model labels\n",
    "for idx, reason_col in enumerate(keys.LABEL_COLS):\n",
    "    # Calculate proportions\n",
    "    proportions = df[reason_col].value_counts(normalize=True)\n",
    "    # Fill in missing AITA labels\n",
    "    for label in keys.AITA_LABELS:\n",
    "        if label not in proportions:\n",
    "            proportions[label] = 0\n",
    "    # Sort AITA labels\n",
    "    proportions = proportions.loc[keys.AITA_LABELS]\n",
    "\n",
    "    # Plot fraction of posts for each AITA label\n",
    "    ax.bar(\n",
    "        x=np.arange(keys.n_aita_labels) + idx * BAR_WIDTH,\n",
    "        height=proportions,\n",
    "        width=BAR_WIDTH,\n",
    "        color=f'C{idx}',\n",
    "        # Bootstrapped error bars\n",
    "        yerr=[[observed_bounds[idx][ii].confidence_interval.high - proportions.loc[aita_label]\n",
    "               for ii, aita_label in enumerate(keys.AITA_LABELS)],\n",
    "              [proportions[aita_label] - observed_bounds[idx][ii].confidence_interval.low\n",
    "               for ii, aita_label in enumerate(keys.AITA_LABELS)]],\n",
    "        error_kw={'capsize': ERROR_BAR_CAPSIZE})\n",
    "\n",
    "# Set up legend with dummy bars\n",
    "for idx, label in enumerate(keys.MODEL_LABELS_PLOT):\n",
    "    ax.bar(x=0.5,\n",
    "           height=0,\n",
    "           color=f'C{idx}',\n",
    "           label=bold_text(label))\n",
    "\n",
    "# Create legend\n",
    "ax.legend(loc='center left',\n",
    "          bbox_to_anchor=(1.01, 0.5),\n",
    "          prop={'size': LEGEND_SIZE})\n",
    "\n",
    "# x-axis\n",
    "ax.set_xticks(np.arange(keys.n_aita_labels) + 3 * BAR_WIDTH)\n",
    "ax.set_xticklabels(bold_text(keys.AITA_LABELS_PLOT), fontsize=X_AXIS_TICK_FONTSIZE)\n",
    "\n",
    "# y-axis\n",
    "ax.tick_params(axis='y', labelsize=Y_AXIS_TICK_FONTSIZE)\n",
    "ax.set_ylim([0, 1])\n",
    "ax.grid(axis='y')\n",
    "ax.set_axisbelow(True)\n",
    "ax.set_ylabel(bold_text('Fraction of Posts'), fontsize=Y_AXIS_LABEL_FONTSIZE)\n",
    "\n",
    "plt.savefig('fig1_label_distribution.pdf', bbox_inches='tight')"
   ]
  }
 ],
 "metadata": {
  "kernelspec": {
   "display_name": "llm",
   "language": "python",
   "name": "python3"
  },
  "language_info": {
   "codemirror_mode": {
    "name": "ipython",
    "version": 3
   },
   "file_extension": ".py",
   "mimetype": "text/x-python",
   "name": "python",
   "nbconvert_exporter": "python",
   "pygments_lexer": "ipython3",
   "version": "3.10.17"
  }
 },
 "nbformat": 4,
 "nbformat_minor": 5
}
