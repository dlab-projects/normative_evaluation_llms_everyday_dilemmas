{
 "cells": [
  {
   "cell_type": "code",
   "execution_count": null,
   "id": "e131595a-ee15-4936-ae9f-0f34a5e49795",
   "metadata": {},
   "outputs": [],
   "source": [
    "import numpy as np\n",
    "import pickle\n",
    "import umap\n",
    "import matplotlib.pyplot as plt\n",
    "import pandas as pd\n",
    "\n",
    "from matplotlib.colors import to_hex\n",
    "from pyprojroot import here\n",
    "from sklearn.preprocessing import StandardScaler\n",
    "\n",
    "from mpl_lego.labels import bold_text\n",
    "from mpl_lego.style import use_latex_style\n",
    "\n",
    "from normative_evaluation_llms_everyday_dilemmas import keys"
   ]
  },
  {
   "cell_type": "code",
   "execution_count": null,
   "id": "dd4bce8c-4970-4b0d-9fe3-0f18b7f80b83",
   "metadata": {},
   "outputs": [],
   "source": [
    "use_latex_style()"
   ]
  },
  {
   "cell_type": "code",
   "execution_count": null,
   "id": "ec74f4c9-e7d3-4e2c-ba92-3fc48982be0a",
   "metadata": {},
   "outputs": [],
   "source": [
    "df = pd.read_csv(here('data/normative_evaluation_everyday_dilemmas_dataset.csv'))"
   ]
  },
  {
   "cell_type": "code",
   "execution_count": null,
   "id": "0f5b61b3-62a3-4ad5-80c5-c086a12408b9",
   "metadata": {},
   "outputs": [],
   "source": [
    "with open('../data/embedding.pkl', 'rb') as file:\n",
    "    embeddings = pickle.load(file)"
   ]
  },
  {
   "cell_type": "code",
   "execution_count": null,
   "id": "994f1323-6964-462c-996a-3e1f05a89e04",
   "metadata": {},
   "outputs": [],
   "source": [
    "embeddings = np.vstack(list(embeddings.values()))"
   ]
  },
  {
   "cell_type": "code",
   "execution_count": null,
   "id": "c0cf6062-a88e-4961-b693-f0e9e962ce27",
   "metadata": {},
   "outputs": [],
   "source": [
    "labels = []\n",
    "\n",
    "for label in keys.LABEL_COLS:\n",
    "    labels.append(list(df[label].values))"
   ]
  },
  {
   "cell_type": "code",
   "execution_count": null,
   "id": "aa4c2056-cd38-4c8d-8a9c-3c1f0d485618",
   "metadata": {},
   "outputs": [],
   "source": [
    "labels = np.concatenate(labels)"
   ]
  },
  {
   "cell_type": "code",
   "execution_count": null,
   "id": "1536f220-60dc-4d07-b2f1-50866a4ea92d",
   "metadata": {},
   "outputs": [],
   "source": [
    "colors = np.repeat([f'C{idx}' for idx in range(8)], 10826)\n",
    "colors_hex = [to_hex(color) for color in colors]"
   ]
  },
  {
   "cell_type": "code",
   "execution_count": null,
   "id": "e472e781-2a75-4999-96d2-b07f11432aba",
   "metadata": {},
   "outputs": [],
   "source": [
    "scaler = StandardScaler()\n",
    "standardized_embeddings = scaler.fit_transform(embeddings)"
   ]
  },
  {
   "cell_type": "code",
   "execution_count": null,
   "id": "4f898544-48ba-4533-a6eb-16c929e43628",
   "metadata": {},
   "outputs": [],
   "source": [
    "n_neighbors = 30\n",
    "min_dist = 0.3\n",
    "n_components = 2\n",
    "metric = 'cosine'\n",
    "\n",
    "reducer = umap.UMAP(n_neighbors=n_neighbors,\n",
    "                    min_dist=min_dist,\n",
    "                    n_components=n_components,\n",
    "                    metric=metric,\n",
    "                    n_jobs=8,\n",
    "                    random_state=2332)\n",
    "reduced_embeddings = reducer.fit_transform(standardized_embeddings)"
   ]
  },
  {
   "cell_type": "code",
   "execution_count": null,
   "id": "9b3d5a16-0680-4a3e-b221-0a844e0b7a1b",
   "metadata": {},
   "outputs": [],
   "source": [
    "# Visualization\n",
    "fig, ax = plt.subplots(1, 1, figsize=(5, 5))\n",
    "\n",
    "ax.scatter(\n",
    "    reduced_embeddings[:, 0],\n",
    "    reduced_embeddings[:, 1],\n",
    "    s=0.5,\n",
    "    alpha=0.2,\n",
    "    c=colors)\n",
    "ax.set_xlabel(bold_text(\"UMAP Dimension 1\"), fontsize=12)\n",
    "ax.set_ylabel(bold_text(\"UMAP Dimension 2\"), fontsize=12)\n",
    "ax.set_ylim([-5, 20])\n",
    "ax.set_xlim([-5, 20])\n",
    "for idx, label in enumerate(keys.MODEL_LABELS_PLOT):\n",
    "    ax.scatter(-10,\n",
    "               -10,\n",
    "               s=20,\n",
    "               alpha=1,\n",
    "               c=f'C{idx}',\n",
    "               label=bold_text(label))\n",
    "ax.legend(loc='center left', bbox_to_anchor=(1.03, 0.5), prop={'size': 12})\n",
    "plt.savefig('fig4_umap.png', bbox_inches='tight')\n",
    "plt.show()"
   ]
  }
 ],
 "metadata": {
  "kernelspec": {
   "display_name": "llm",
   "language": "python",
   "name": "python3"
  },
  "language_info": {
   "codemirror_mode": {
    "name": "ipython",
    "version": 3
   },
   "file_extension": ".py",
   "mimetype": "text/x-python",
   "name": "python",
   "nbconvert_exporter": "python",
   "pygments_lexer": "ipython3",
   "version": "3.10.17"
  }
 },
 "nbformat": 4,
 "nbformat_minor": 5
}
