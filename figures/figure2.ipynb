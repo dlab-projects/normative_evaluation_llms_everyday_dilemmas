{
 "cells": [
  {
   "cell_type": "code",
   "execution_count": 1,
   "id": "b7a85c89-61b2-4433-9e93-d9faf01ac5be",
   "metadata": {},
   "outputs": [],
   "source": [
    "import matplotlib.pyplot as plt\n",
    "import mpl_lego as mplego\n",
    "import numpy as np\n",
    "import pandas as pd\n",
    "\n",
    "from functools import partial\n",
    "from mpl_lego.labels import bold_text\n",
    "from scipy.stats import bootstrap\n",
    " \n",
    "%matplotlib inline"
   ]
  },
  {
   "cell_type": "code",
   "execution_count": 2,
   "id": "7b61fb16-5f68-4940-b5cf-0699cb9cba87",
   "metadata": {},
   "outputs": [],
   "source": [
    "mplego.style.use_latex_style()"
   ]
  },
  {
   "cell_type": "code",
   "execution_count": 3,
   "id": "01a68b4a-b61b-4599-aa6f-3a05ff5513da",
   "metadata": {},
   "outputs": [],
   "source": [
    "df = pd.read_csv('../data/aita_gpt_3.5_all_runs.csv')"
   ]
  },
  {
   "cell_type": "code",
   "execution_count": 4,
   "id": "44d32c76-b588-4480-be6a-cf1c4862fdbe",
   "metadata": {},
   "outputs": [],
   "source": [
    "comments = pd.read_csv('../data/aita_comments_Aug17_labels_update_Aug31.csv')"
   ]
  },
  {
   "cell_type": "code",
   "execution_count": null,
   "id": "b80216cf-1646-4b67-a50b-12ca56ca2cf9",
   "metadata": {},
   "outputs": [],
   "source": []
  }
 ],
 "metadata": {
  "kernelspec": {
   "display_name": "nlp",
   "language": "python",
   "name": "nlp"
  },
  "language_info": {
   "codemirror_mode": {
    "name": "ipython",
    "version": 3
   },
   "file_extension": ".py",
   "mimetype": "text/x-python",
   "name": "python",
   "nbconvert_exporter": "python",
   "pygments_lexer": "ipython3",
   "version": "3.9.16"
  }
 },
 "nbformat": 4,
 "nbformat_minor": 5
}
