{
 "cells": [
  {
   "cell_type": "code",
   "execution_count": null,
   "id": "c098ee8d-4c06-4ff1-93f3-9876fb650e99",
   "metadata": {},
   "outputs": [],
   "source": [
    "import matplotlib.pyplot as plt\n",
    "import mpl_lego as mplego\n",
    "import numpy as np\n",
    "import pandas as pd\n",
    "import spacy\n",
    "import seaborn as sns\n",
    "\n",
    "from functools import partial\n",
    "from mpl_lego.labels import bold_text\n",
    "from scipy.stats import bootstrap\n",
    "from pyprojroot import here\n",
    "from spacy_cleaner import processing, Cleaner\n",
    "from textacy import preprocessing\n",
    "from sklearn.feature_extraction.text import CountVectorizer, TfidfVectorizer\n",
    "\n",
    "from sklearn.metrics.pairwise import cosine_similarity\n",
    "\n",
    "from moral_foundations_llms import keys\n",
    " \n",
    "%matplotlib inline"
   ]
  },
  {
   "cell_type": "code",
   "execution_count": null,
   "id": "bc7c995f-2d94-47e6-9741-92a2e9aacab1",
   "metadata": {},
   "outputs": [],
   "source": [
    "mplego.style.use_latex_style()"
   ]
  },
  {
   "cell_type": "code",
   "execution_count": null,
   "id": "27fdfc83-6d7f-49b6-bc2b-0a29ce593539",
   "metadata": {},
   "outputs": [],
   "source": [
    "nlp = spacy.load(\"en_core_web_lg\")"
   ]
  },
  {
   "cell_type": "code",
   "execution_count": null,
   "id": "5adb4661-1067-4a00-8060-6e64dee7eb34",
   "metadata": {},
   "outputs": [],
   "source": [
    "df = pd.read_csv(here('data/aita_final_v29.csv'))"
   ]
  },
  {
   "cell_type": "code",
   "execution_count": null,
   "id": "010e753d-9ef7-4b5e-bcd9-fe0f679d3507",
   "metadata": {},
   "outputs": [],
   "source": [
    "# Preprocessing function\n",
    "def preprocess(text):\n",
    "    return preprocessing.make_pipeline(\n",
    "        preprocessing.normalize.quotation_marks,\n",
    "        preprocessing.normalize.whitespace,\n",
    "        preprocessing.remove.brackets,\n",
    "        preprocessing.remove.punctuation\n",
    "    )(text)"
   ]
  },
  {
   "cell_type": "code",
   "execution_count": null,
   "id": "aa73c5a4-33de-4325-8c0b-56922f11491d",
   "metadata": {},
   "outputs": [],
   "source": [
    "# spaCy pipe applied to \n",
    "with nlp.disable_pipes('ner'):\n",
    "    docs = {\n",
    "        reason_col: list(nlp.pipe([preprocess(text)\n",
    "                                   for text in df[reason_col]],\n",
    "                                  batch_size=64))\n",
    "        for reason_col in keys.REASON_COLS\n",
    "    }"
   ]
  },
  {
   "cell_type": "code",
   "execution_count": null,
   "id": "14b0426e-4439-4abd-8b03-a05c3d314d1a",
   "metadata": {},
   "outputs": [],
   "source": [
    "with nlp.disable_pipes('ner'):\n",
    "    docs2 = {\n",
    "        reason_col: list(nlp.pipe([preprocess(text)\n",
    "                                   for text in df[reason_col]],\n",
    "                                  batch_size=64))\n",
    "        for reason_col in keys.REASON_COLS_2\n",
    "    }"
   ]
  },
  {
   "cell_type": "code",
   "execution_count": null,
   "id": "eeca3d34-7cd7-4177-b274-6138f24f1cde",
   "metadata": {},
   "outputs": [],
   "source": [
    "# Create tokenization\n",
    "tokens = {model:\n",
    "          [\" \".join([token.lemma_ for token in current_doc \n",
    "                     if not token.is_stop\n",
    "                     and not token.is_punct\n",
    "                     and not token.like_num\n",
    "                     and not token.is_currency\n",
    "                     and not token in ['NTA', 'YTA', 'ESH', 'NAH', 'INF'] ])\n",
    "           for current_doc in doc]\n",
    "           for model, doc in docs.items()}"
   ]
  },
  {
   "cell_type": "code",
   "execution_count": null,
   "id": "0518fe43-82f2-4dff-bf01-0b2b8c56e650",
   "metadata": {},
   "outputs": [],
   "source": [
    "# Create tokenization\n",
    "tokens2 = {model:\n",
    "          [\" \".join([token.lemma_ for token in current_doc \n",
    "                     if not token.is_stop\n",
    "                     and not token.is_punct\n",
    "                     and not token.like_num\n",
    "                     and not token.is_currency\n",
    "                     and not token in ['NTA', 'YTA', 'ESH', 'NAH', 'INF'] ])\n",
    "           for current_doc in doc]\n",
    "           for model, doc in docs2.items()}"
   ]
  },
  {
   "cell_type": "code",
   "execution_count": null,
   "id": "6afd3e2c-74ac-46b5-a637-7a5cf2b7e34c",
   "metadata": {},
   "outputs": [],
   "source": [
    "tfidf_dfs = {}\n",
    "\n",
    "for model, token in tokens.items():\n",
    "    vectorizer = TfidfVectorizer(max_features=3000, max_df=0.98, min_df=5)\n",
    "    X = vectorizer.fit_transform(token)\n",
    "    tfidf_dfs[model] = pd.DataFrame(data=X.toarray(),\n",
    "                                    columns=vectorizer.get_feature_names_out())"
   ]
  },
  {
   "cell_type": "code",
   "execution_count": null,
   "id": "f6fabbcf-3f12-4db9-8df9-c368ab96ec9f",
   "metadata": {},
   "outputs": [],
   "source": [
    "tfidf_dfs2 = {}\n",
    "\n",
    "for model, token in tokens2.items():\n",
    "    vectorizer = TfidfVectorizer(max_features=3000, max_df=0.98, min_df=5)\n",
    "    X = vectorizer.fit_transform(token)\n",
    "    tfidf_dfs2[model] = pd.DataFrame(data=X.toarray(),\n",
    "                                     columns=vectorizer.get_feature_names_out())"
   ]
  },
  {
   "cell_type": "code",
   "execution_count": null,
   "id": "16b89286-0a8e-46ee-a22e-c3427d20697b",
   "metadata": {},
   "outputs": [],
   "source": [
    "token_sets = []\n",
    "\n",
    "for tfidf_df in tfidf_dfs.values():\n",
    "    token_sets.append(set(tfidf_df.columns))\n",
    "\n",
    "matching_tokens = set.union(*token_sets)"
   ]
  },
  {
   "cell_type": "code",
   "execution_count": null,
   "id": "b8f38134-67b9-4acb-9cd9-c3671cdbb41c",
   "metadata": {},
   "outputs": [],
   "source": [
    "len(matching_tokens)"
   ]
  },
  {
   "cell_type": "code",
   "execution_count": null,
   "id": "f5b53427-7f12-41a5-993c-9a00c03f2878",
   "metadata": {},
   "outputs": [],
   "source": [
    "# Ensure all matrices have the same columns\n",
    "standardized_tfidf_dfs = []\n",
    "\n",
    "for tfidf_df in tfidf_dfs.values():\n",
    "    # Reindex the DataFrame to include all matching tokens\n",
    "    standardized_df = tfidf_df.reindex(columns=matching_tokens, fill_value=0)\n",
    "    standardized_tfidf_dfs.append(standardized_df)"
   ]
  },
  {
   "cell_type": "code",
   "execution_count": null,
   "id": "fcc5f873-e900-4f69-b0cf-75acb2925107",
   "metadata": {},
   "outputs": [],
   "source": [
    "# Ensure all matrices have the same columns\n",
    "standardized_tfidf_dfs2 = []\n",
    "\n",
    "for tfidf_df in tfidf_dfs2.values():\n",
    "    # Reindex the DataFrame to include all matching tokens\n",
    "    standardized_df = tfidf_df.reindex(columns=matching_tokens, fill_value=0)\n",
    "    standardized_tfidf_dfs2.append(standardized_df)"
   ]
  },
  {
   "cell_type": "code",
   "execution_count": null,
   "id": "1d3e67a9-df27-4540-8bcd-559b11f31ab5",
   "metadata": {},
   "outputs": [],
   "source": [
    "corrs = np.zeros((8, 8))\n",
    "\n",
    "for ii in range(8):\n",
    "    for jj in range(8):\n",
    "        corrs[ii, jj] = np.diag(cosine_similarity(tfidf_dfs_matching[ii], tfidf_dfs_matching[jj])).mean()"
   ]
  },
  {
   "cell_type": "code",
   "execution_count": null,
   "id": "24701b57-b038-42d5-b242-f06b10e89d58",
   "metadata": {},
   "outputs": [],
   "source": [
    "corrs = np.zeros((8, 8))\n",
    "\n",
    "for ii in range(8):\n",
    "    for jj in range(8):\n",
    "        corrs[ii, jj] = np.diag(cosine_similarity(standardized_tfidf_dfs[ii], standardized_tfidf_dfs[jj])).mean()"
   ]
  },
  {
   "cell_type": "code",
   "execution_count": null,
   "id": "b81c149d-3343-46c4-8f1b-db072eaee7d8",
   "metadata": {},
   "outputs": [],
   "source": [
    "for ii in range(8):\n",
    "    corrs[ii, ii] = np.diag(cosine_similarity(standardized_tfidf_dfs[ii], standardized_tfidf_dfs2[ii])).mean()"
   ]
  },
  {
   "cell_type": "code",
   "execution_count": null,
   "id": "6266b656-1b5b-47d0-97f4-1b24aeecb6f4",
   "metadata": {},
   "outputs": [],
   "source": [
    "mask = np.zeros((len(keys.MODELS), len(keys.MODELS)))\n",
    "mask[0, 0] = 1"
   ]
  },
  {
   "cell_type": "code",
   "execution_count": null,
   "id": "b875cc49-4882-4633-bd59-1c5c79ed3185",
   "metadata": {},
   "outputs": [],
   "source": [
    "fig, ax = plt.subplots(1, 1, figsize=(6, 5))\n",
    "\n",
    "sns.heatmap(corrs,\n",
    "            annot=True,\n",
    "            vmin=0.,\n",
    "            vmax=0.6,\n",
    "            mask=mask,\n",
    "            cmap='plasma')\n",
    "cbar = ax.collections[0].colorbar\n",
    "cbar.set_label(bold_text(\"Cosine Similarity\"), rotation=270, labelpad=15)\n",
    "cbar.ax.tick_params(labelsize=9)\n",
    "\n",
    "ax.set_xticklabels(bold_text(keys.MODEL_LABELS_PLOT), ha='right', rotation=25)\n",
    "ax.set_yticklabels(bold_text(keys.MODEL_LABELS_PLOT), ha='right', rotation=0)\n",
    "plt.tight_layout()\n",
    "plt.savefig('word_similarity_tfidf.pdf', bbox_inches='tight')"
   ]
  }
 ],
 "metadata": {
  "kernelspec": {
   "display_name": "nlp",
   "language": "python",
   "name": "nlp"
  },
  "language_info": {
   "codemirror_mode": {
    "name": "ipython",
    "version": 3
   },
   "file_extension": ".py",
   "mimetype": "text/x-python",
   "name": "python",
   "nbconvert_exporter": "python",
   "pygments_lexer": "ipython3",
   "version": "3.9.16"
  }
 },
 "nbformat": 4,
 "nbformat_minor": 5
}
