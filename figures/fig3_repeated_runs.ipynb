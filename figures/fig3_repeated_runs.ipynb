{
 "cells": [
  {
   "cell_type": "code",
   "execution_count": null,
   "id": "cef0c8a3-f1c9-4508-be8d-35d76f6aa011",
   "metadata": {},
   "outputs": [],
   "source": [
    "import matplotlib.pyplot as plt\n",
    "import mpl_lego as mplego\n",
    "import numpy as np\n",
    "import pandas as pd\n",
    "\n",
    "from mpl_lego.labels import bold_text, apply_subplot_labels\n",
    "from pyprojroot import here\n",
    "\n",
    "from tueplots.constants.color import palettes\n",
    "\n",
    "from normative_evaluation_llms_everyday_dilemmas import keys\n"
   ]
  },
  {
   "cell_type": "code",
   "execution_count": null,
   "id": "3f39ed94-a791-4b35-8df4-8d1b99ec5d28",
   "metadata": {},
   "outputs": [],
   "source": [
    "# Turn into LaTeX style; you need to have LaTeX installed\n",
    "mplego.style.use_latex_style()"
   ]
  },
  {
   "cell_type": "code",
   "execution_count": null,
   "id": "069d80a6-9018-4ca6-bb3c-47c5b05a6ddf",
   "metadata": {},
   "outputs": [],
   "source": [
    "# Color palette for plots\n",
    "cycle = palettes.paultol_muted"
   ]
  },
  {
   "cell_type": "code",
   "execution_count": null,
   "id": "5cf77517-a0c6-4c26-a701-95da75be8879",
   "metadata": {},
   "outputs": [],
   "source": [
    "df = pd.read_csv(here('data/normative_evaluation_everyday_dilemmas_dataset.csv'))"
   ]
  },
  {
   "cell_type": "code",
   "execution_count": null,
   "id": "ef555c2b-1667-442b-994e-bbcb85df080c",
   "metadata": {},
   "outputs": [],
   "source": [
    "# Throw out extra labels\n",
    "df.drop(['gemma_label_4', 'gemma_label_5'], inplace=True, axis=1)"
   ]
  },
  {
   "cell_type": "code",
   "execution_count": null,
   "id": "5c802416-be0a-4398-af64-23537ac30cf7",
   "metadata": {},
   "outputs": [],
   "source": [
    "# Count number of votes by models\n",
    "for AITA_LABEL in keys.AITA_LABELS:\n",
    "    df[f'{AITA_LABEL}_votes'] = (df[keys.LABEL_COLS[1:]] == AITA_LABEL).sum(axis=1)"
   ]
  },
  {
   "cell_type": "code",
   "execution_count": null,
   "id": "e7080b98-d24c-4001-919e-b40a99ec710a",
   "metadata": {},
   "outputs": [],
   "source": [
    "# Extract subsets of columns for each model\n",
    "nta_votes = {\n",
    "    llm: (df.filter(regex=f'^{llm}_label') == 'NTA').sum(axis=1)\n",
    "    for llm in keys.LLMs}\n",
    "\n",
    "yta_votes = {\n",
    "    llm: (df.filter(regex=f'^{llm}_label') == 'YTA').sum(axis=1)\n",
    "    for llm in keys.LLMs}\n",
    "\n",
    "esh_votes = {\n",
    "    llm: (df.filter(regex=f'^{llm}_label') == 'ESH').sum(axis=1)\n",
    "    for llm in keys.LLMs}\n",
    "\n",
    "nah_votes = {\n",
    "    llm: (df.filter(regex=f'^{llm}_label') == 'NAH').sum(axis=1)\n",
    "    for llm in keys.LLMs}"
   ]
  },
  {
   "cell_type": "code",
   "execution_count": null,
   "id": "be294e2a-9b5c-43d1-bc76-ea387230d393",
   "metadata": {},
   "outputs": [],
   "source": [
    "# Calculate bootstrap estimates\n",
    "def categorical_proportion(records, AITA_LABEL, n_votes):\n",
    "    votes = records[f'{AITA_LABEL}_votes']\n",
    "    comments = records[f'comments_{AITA_LABEL.lower()}_agreement_weighted']\n",
    "    return np.mean(comments[votes == n_votes])\n"
   ]
  },
  {
   "cell_type": "code",
   "execution_count": null,
   "id": "c07e04eb-4a8a-475d-a9f0-00828716a02c",
   "metadata": {},
   "outputs": [],
   "source": [
    "fig, axes = plt.subplots(2, 2, figsize=(7, 5), sharey=True)\n",
    "\n",
    "LINE_WIDTH = 2\n",
    "X_LABEL_FONT_SIZE = 12\n",
    "Y_LABEL_FONT_SIZE = 12\n",
    "\n",
    "for idx, label in enumerate(keys.AITA_LABELS[:4]):\n",
    "    # Calculate number of votes for each label\n",
    "    votes = (df[keys.LABEL_COLS[1:]] == label).sum(axis=1)\n",
    "    # Calculate the average label rate for each number of votes\n",
    "    centers = [np.mean(df[votes == n_votes][f'comments_{label.lower()}_agreement_weighted']) for n_votes in range(8)]\n",
    "\n",
    "    # Subplot (a)\n",
    "    axes[0, 0].errorbar(\n",
    "        np.arange(8),\n",
    "        centers,\n",
    "        color=f'#{cycle[idx]}',\n",
    "        label=bold_text(label),\n",
    "        marker='o',\n",
    "        linewidth=LINE_WIDTH)\n",
    "\n",
    "# Subplot (b)\n",
    "for idx, llm in enumerate(keys.LLMs):\n",
    "    # Self-consistency for NTA\n",
    "    agreements = [np.mean(df[nta_votes[llm] == n_votes]['comments_nta_agreement_weighted'])\n",
    "                  for n_votes in range(4)]\n",
    "    axes[1, 0].plot(np.arange(4), agreements, marker='o', linewidth=2, color=f'C{idx+1}')\n",
    "\n",
    "# Subplot (c)\n",
    "for idx, llm in enumerate(keys.LLMs):\n",
    "    # Self-consistency for YTA\n",
    "    agreements = [np.mean(df[yta_votes[llm] == n_votes]['comments_yta_agreement_weighted'])\n",
    "                  for n_votes in range(4)]\n",
    "    axes[1, 1].plot(np.arange(4),\n",
    "                    agreements,\n",
    "                    marker='o',\n",
    "                    linewidth=LINE_WIDTH,\n",
    "                    color=f'C{idx+1}',\n",
    "                    label=bold_text(keys.MODEL_LABELS_PLOT[idx + 1]))\n",
    "\n",
    "axes[0, 0].set_xticks(np.arange(8))\n",
    "axes[0, 0].grid(axis='y')\n",
    "axes[0, 0].set_axisbelow(True)\n",
    "axes[0, 0].set_ylabel(bold_text('Average Label Rate'), fontsize=Y_LABEL_FONT_SIZE)\n",
    "axes[0, 0].legend(loc='center left',\n",
    "                  bbox_to_anchor=(0.49, 0.80),\n",
    "                  bbox_transform=fig.transFigure)\n",
    "\n",
    "for ax in axes[0]:\n",
    "    ax.set_xlim([-0.25, 7.25])\n",
    "\n",
    "for ax in axes[1]:\n",
    "    ax.set_xlim([-0.25, 3.25])\n",
    "    ax.set_ylim([0, 1])\n",
    "    ax.set_xticks([0, 1, 2, 3])\n",
    "    ax.set_xticklabels(bold_text(['0/3', '1/3', '2/3', '3/3']))\n",
    "    ax.grid(axis='y')\n",
    "    ax.set_axisbelow(True)\n",
    "\n",
    "axes[0, 0].set_ylim([0, 1.03])\n",
    "axes[0, 1].axis('off')\n",
    "axes[1, 1].set_zorder(1000)\n",
    "axes[1, 1].legend(loc='center left', bbox_to_anchor=(0.67, 0.57), bbox_transform=fig.transFigure)\n",
    "axes[1, 0].set_xlabel(bold_text('Number of Votes for NTA\\n(Self-Consistency)'), fontsize=X_LABEL_FONT_SIZE)\n",
    "axes[1, 1].set_xlabel(bold_text('Number of Votes for YTA\\n(Self-Consistency)'), fontsize=X_LABEL_FONT_SIZE)\n",
    "\n",
    "\n",
    "axes[0, 0].set_xlabel(bold_text('Number of Votes Across Models'), fontsize=X_LABEL_FONT_SIZE)\n",
    "axes[1, 0].set_ylabel(bold_text('Average Label Rate'), fontsize=Y_LABEL_FONT_SIZE)\n",
    "\n",
    "apply_subplot_labels(\n",
    "    [axes[0, 0], axes[1, 0], axes[1, 1]],\n",
    "    x=-0.05,\n",
    "    y=1.14,\n",
    "    bold=True)\n",
    "\n",
    "plt.subplots_adjust(hspace=0.6, wspace=0.15)\n",
    "\n",
    "plt.savefig('fig3_repeated_runs.pdf', bbox_inches='tight')"
   ]
  }
 ],
 "metadata": {
  "kernelspec": {
   "display_name": "llm",
   "language": "python",
   "name": "python3"
  },
  "language_info": {
   "codemirror_mode": {
    "name": "ipython",
    "version": 3
   },
   "file_extension": ".py",
   "mimetype": "text/x-python",
   "name": "python",
   "nbconvert_exporter": "python",
   "pygments_lexer": "ipython3",
   "version": "3.10.17"
  }
 },
 "nbformat": 4,
 "nbformat_minor": 5
}
