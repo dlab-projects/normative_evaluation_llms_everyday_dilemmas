{
 "cells": [
  {
   "cell_type": "code",
   "execution_count": null,
   "id": "33f9fd42-7f0d-4e30-be29-fe407192b14e",
   "metadata": {},
   "outputs": [],
   "source": [
    "import matplotlib.pyplot as plt\n",
    "import mpl_lego as mplego\n",
    "import numpy as np\n",
    "import pandas as pd\n",
    "\n",
    "from functools import partial\n",
    "from mpl_lego.labels import bold_text\n",
    "from scipy.stats import bootstrap\n",
    "from pyprojroot import here\n",
    "\n",
    "from moral_foundations_llms import keys\n",
    " \n",
    "%matplotlib inline"
   ]
  },
  {
   "cell_type": "code",
   "execution_count": null,
   "id": "3677999d-a39c-42ed-9b5a-16730656f4d9",
   "metadata": {},
   "outputs": [],
   "source": [
    "mplego.style.use_latex_style()"
   ]
  },
  {
   "cell_type": "code",
   "execution_count": null,
   "id": "84b66712-7829-4923-a35b-244d37666ef8",
   "metadata": {},
   "outputs": [],
   "source": [
    "df = pd.read_csv(here('data/aita_final_v29.csv'))"
   ]
  },
  {
   "cell_type": "code",
   "execution_count": null,
   "id": "50152ce8-a58c-48be-9ef5-8d707117d591",
   "metadata": {},
   "outputs": [],
   "source": [
    "plurality = df[keys.LLM_LABEL_COLS].mode(axis=1)[0]"
   ]
  },
  {
   "cell_type": "code",
   "execution_count": null,
   "id": "e0262a25-14b2-4b4f-945e-5fb3e27a368e",
   "metadata": {},
   "outputs": [],
   "source": [
    "agreement_labels = df[keys.LLM_LABEL_COLS].eq(plurality, axis=0)\n",
    "agreement_sums = agreement_labels.sum(axis=1)\n",
    "agreement_frac_per_model = agreement_labels.sum(axis=0) / df.shape[0]"
   ]
  },
  {
   "cell_type": "code",
   "execution_count": null,
   "id": "0cbf00ab-b6fa-49d3-aef0-008f358f19a1",
   "metadata": {},
   "outputs": [],
   "source": [
    "counts = agreement_sums.value_counts().sort_index()\n",
    "counts = counts / df.shape[0]"
   ]
  },
  {
   "cell_type": "code",
   "execution_count": null,
   "id": "f317a164-d596-4b09-b0ea-2aa2701d3799",
   "metadata": {},
   "outputs": [],
   "source": [
    "fig, axes = plt.subplots(1, 2, figsize=(8, 3))\n",
    "counts.plot(kind='bar', ax=axes[0], color='slategray')\n",
    "axes[0].tick_params(rotation=0, labelsize=11)\n",
    "axes[0].grid(axis='y')\n",
    "axes[0].set_axisbelow(True)\n",
    "axes[0].set_xlabel(bold_text('Number of Models in Agreement'), fontsize=12)\n",
    "axes[0].set_ylabel(bold_text('Fraction of Samples'), fontsize=12)\n",
    "\n",
    "agreement_frac_per_model.plot(kind='bar', ax=axes[1], color='slategray')\n",
    "axes[1].set_xticklabels(bold_text(keys.MODEL_LABELS_PLOT[1:]), rotation=30, ha='right', fontsize=12)\n",
    "axes[1].tick_params(rotation=0, axis='y', labelsize=11)\n",
    "axes[1].grid(axis='y')\n",
    "axes[1].set_axisbelow(True)\n",
    "axes[1].set_ylabel(bold_text('Plurality Vote Agreement'), fontsize=11)\n",
    "axes[1].set_ylim([0, 1])\n",
    "\n",
    "plt.savefig('sample_agreement.pdf', bbox_inches='tight')\n",
    "plt.tight_layout()"
   ]
  }
 ],
 "metadata": {
  "kernelspec": {
   "display_name": "nlp",
   "language": "python",
   "name": "nlp"
  },
  "language_info": {
   "codemirror_mode": {
    "name": "ipython",
    "version": 3
   },
   "file_extension": ".py",
   "mimetype": "text/x-python",
   "name": "python",
   "nbconvert_exporter": "python",
   "pygments_lexer": "ipython3",
   "version": "3.9.16"
  }
 },
 "nbformat": 4,
 "nbformat_minor": 5
}
