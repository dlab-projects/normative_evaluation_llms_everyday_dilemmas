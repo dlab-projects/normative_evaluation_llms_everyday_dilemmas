{
 "cells": [
  {
   "cell_type": "code",
   "execution_count": null,
   "id": "ab3ab0ea-fbcf-4144-bd39-dbfda958363d",
   "metadata": {},
   "outputs": [],
   "source": [
    "import matplotlib.pyplot as plt\n",
    "import mpl_lego as mplego\n",
    "import itertools\n",
    "import krippendorff\n",
    "import numpy as np\n",
    "import pandas as pd\n",
    "import seaborn as sns\n",
    "\n",
    "from mpl_lego.labels import bold_text\n",
    "from pyprojroot import here\n",
    "\n",
    "from normative_evaluation_llms_everyday_dilemmas import keys, utils"
   ]
  },
  {
   "cell_type": "code",
   "execution_count": null,
   "id": "e95e5691-b389-4e08-9047-e556de77cda8",
   "metadata": {},
   "outputs": [],
   "source": [
    "# Turn into LaTeX style; you need to have LaTeX installed\n",
    "mplego.style.use_latex_style()"
   ]
  },
  {
   "cell_type": "code",
   "execution_count": null,
   "id": "7b9b02c0-0297-4082-be17-989ae7f8bcbc",
   "metadata": {},
   "outputs": [],
   "source": [
    "df = pd.read_csv(here('data/normative_evaluation_everyday_dilemmas_dataset.csv'))"
   ]
  },
  {
   "cell_type": "code",
   "execution_count": null,
   "id": "a8449176-edea-438d-aa72-c689ba8a9d77",
   "metadata": {},
   "outputs": [],
   "source": [
    "# Calculate agreement metrics\n",
    "self_agreements = {}\n",
    "\n",
    "# Iterate over models\n",
    "for model in keys.MODELS:\n",
    "    # Extract the label columns\n",
    "    columns = df.filter(regex=f'^{model}_label_.$')\n",
    "    # Return 0 for missing columns (only for Redditors)\n",
    "    if columns.shape[1] <= 1:\n",
    "        self_agreements[model] = 0\n",
    "    else:\n",
    "        # Calculate Krippendorff's alpha using weighted nominal measurement\n",
    "        self_agreements[model] = krippendorff.alpha(utils.label_to_num(columns).values.T,\n",
    "                                                    level_of_measurement='nominal')"
   ]
  },
  {
   "cell_type": "code",
   "execution_count": null,
   "id": "b35601fc-1c5f-475f-829a-2a9080d8a354",
   "metadata": {},
   "outputs": [],
   "source": [
    "# For reporting values\n",
    "self_agreements"
   ]
  },
  {
   "cell_type": "code",
   "execution_count": null,
   "id": "96e9216c-0a28-4c63-a0b4-7b3f90658ccb",
   "metadata": {},
   "outputs": [],
   "source": [
    "# Create matrix of agreement values\n",
    "alphas = pd.DataFrame(data=0,\n",
    "                      index=keys.MODELS,\n",
    "                      columns=keys.MODELS)\n",
    "\n",
    "for model1, model2 in itertools.combinations(keys.MODELS, 2):\n",
    "    col1 = keys.models_to_labels[model1]\n",
    "    col2 = keys.models_to_labels[model2]\n",
    "    alpha = krippendorff.alpha(utils.label_to_num(df[[col1, col2]]).values.T)\n",
    "    alphas.loc[model1, model2] = alpha\n",
    "    alphas.loc[model2, model1] = alpha"
   ]
  },
  {
   "cell_type": "code",
   "execution_count": null,
   "id": "d8ff5a8c-ac08-4a73-b048-7300aa52657c",
   "metadata": {},
   "outputs": [],
   "source": [
    "# Place self-agreements on the diagonal\n",
    "for model in keys.MODELS:\n",
    "    alphas.loc[model, model] = self_agreements[model]"
   ]
  },
  {
   "cell_type": "code",
   "execution_count": null,
   "id": "9f58570c-0669-4d5f-b6df-160e16740588",
   "metadata": {},
   "outputs": [],
   "source": [
    "alphas.loc['reddit', 'reddit'] = pd.NA"
   ]
  },
  {
   "cell_type": "code",
   "execution_count": null,
   "id": "649fa7b5-f48c-489c-8cf4-f19c758d45d0",
   "metadata": {},
   "outputs": [],
   "source": [
    "fig, ax = plt.subplots(1, 1, figsize=(6, 5))\n",
    "\n",
    "CBAR_LABEL_PAD = 15\n",
    "CBAR_TICK_FONTSIZE = 9\n",
    "XAXIS_TICK_ROTATION = 30\n",
    "XAXIS_TICK_FONTSIZE = 12\n",
    "YAXIS_TICK_FONTSIZE = 12\n",
    "\n",
    "# Create heatmap using seaborn\n",
    "sns.heatmap(alphas,\n",
    "            cmap='RdGy',\n",
    "            vmin=-1,\n",
    "            vmax=1,\n",
    "            annot=True,\n",
    "            cbar_kws={'label': \"Krippendorff's Alpha\"},\n",
    "            ax=ax)\n",
    "\n",
    "# Colorbar\n",
    "cbar = ax.collections[0].colorbar\n",
    "cbar.set_label(bold_text(\"Krippendorff's Alpha\"),\n",
    "               rotation=270,\n",
    "               labelpad=CBAR_LABEL_PAD)\n",
    "cbar.ax.tick_params(labelsize=CBAR_TICK_FONTSIZE)\n",
    "\n",
    "# x-axis\n",
    "ax.set_xticklabels(bold_text(keys.MODEL_LABELS_PLOT),\n",
    "                   rotation=XAXIS_TICK_ROTATION,\n",
    "                   fontsize=XAXIS_TICK_FONTSIZE,\n",
    "                   ha='right')\n",
    "# y-axis\n",
    "ax.set_yticklabels(bold_text(keys.MODEL_LABELS_PLOT),\n",
    "                   fontsize=YAXIS_TICK_FONTSIZE,\n",
    "                   ha='right',\n",
    "                   rotation=0)\n",
    "\n",
    "plt.savefig('fig2_agreement.pdf', bbox_inches='tight')"
   ]
  }
 ],
 "metadata": {
  "kernelspec": {
   "display_name": "llm",
   "language": "python",
   "name": "python3"
  },
  "language_info": {
   "codemirror_mode": {
    "name": "ipython",
    "version": 3
   },
   "file_extension": ".py",
   "mimetype": "text/x-python",
   "name": "python",
   "nbconvert_exporter": "python",
   "pygments_lexer": "ipython3",
   "version": "3.10.17"
  }
 },
 "nbformat": 4,
 "nbformat_minor": 5
}
